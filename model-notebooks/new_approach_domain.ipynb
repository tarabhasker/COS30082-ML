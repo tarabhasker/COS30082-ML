{
  "cells": [
    {
      "cell_type": "code",
      "execution_count": null,
      "metadata": {
        "colab": {
          "base_uri": "https://localhost:8080/"
        },
        "id": "hV6W8RJd8vTS",
        "outputId": "1b2c57b8-fa31-4934-8dd2-c9f3fb7f0950"
      },
      "outputs": [
        {
          "output_type": "stream",
          "name": "stdout",
          "text": [
            "Mounted at /content/drive\n",
            "Training Data Sample:\n",
            "                                               image  crop  disease\n",
            "0  4b22a1e7-745b-4c78-a49e-14ca8cfba26a___RS_HL-8...     0        0\n",
            "1  9ee2b5e6-46cf-400f-a82f-660a2ac05157___RS_HL-5...     0        0\n",
            "2  181ce194-fdc9-4f0b-ae8d-0c621f723279___RS_HL-7...     0        0\n",
            "3  3e8eb97c-b2ad-4aeb-82ff-2f1334801c9b___RS_HL-6...     0        0\n",
            "4  4e817ac6-818a-431f-af6d-e44477f9b649___RS_HL-7...     0        0\n"
          ]
        }
      ],
      "source": [
        "import os\n",
        "import zipfile\n",
        "import pandas as pd\n",
        "from google.colab import drive\n",
        "\n",
        "# Mount Google Drive\n",
        "drive.mount('/content/drive')\n",
        "\n",
        "# Define Google Drive paths for datasets and CSV files\n",
        "plant_doc_zip_path = '/content/drive/My Drive/datasets/plantdoc.zip'\n",
        "plant_village_zip_path = '/content/drive/My Drive/datasets/plantvillage.zip'\n",
        "train_csv_path = '/content/drive/My Drive/datasets/PV train.csv'\n",
        "test_seen_csv_path = '/content/drive/My Drive/datasets/PV test seen.csv'\n",
        "test_unseen_csv_path = '/content/drive/My Drive/datasets/PV test unseen.csv'\n",
        "plantdoc_unseen_csv_path = '/content/drive/My Drive/datasets/PD test unseen.csv'\n",
        "\n",
        "# Temporary extraction paths\n",
        "temp_extract_path = '/content'\n",
        "\n",
        "# Extract datasets\n",
        "with zipfile.ZipFile(plant_doc_zip_path, 'r') as zip_ref:\n",
        "    zip_ref.extractall(temp_extract_path)\n",
        "with zipfile.ZipFile(plant_village_zip_path, 'r') as zip_ref:\n",
        "    zip_ref.extractall(temp_extract_path)\n",
        "\n",
        "# Paths for extracted datasets\n",
        "plant_doc_extract_path = '/content/plantdoc' if os.path.exists('/content/plantdoc') else '/content'\n",
        "plant_village_extract_path = '/content/plantvillage/plantvillage' if os.path.exists('/content/plantvillage/plantvillage') else '/content/plantvillage'\n",
        "\n",
        "# Load CSV files\n",
        "train_df = pd.read_csv(train_csv_path, header=None, names=['image', 'crop', 'disease'])\n",
        "test_seen_df = pd.read_csv(test_seen_csv_path, header=None, names=['image', 'crop', 'disease'])\n",
        "test_unseen_df = pd.read_csv(test_unseen_csv_path, header=None, names=['image', 'crop', 'disease'])\n",
        "plantdoc_unseen_df = pd.read_csv(plantdoc_unseen_csv_path, header=None, names=['image', 'crop', 'disease'])\n",
        "\n",
        "print(\"Training Data Sample:\")\n",
        "print(train_df.head())\n"
      ]
    },
    {
      "cell_type": "code",
      "execution_count": null,
      "metadata": {
        "colab": {
          "base_uri": "https://localhost:8080/"
        },
        "id": "ujgacjPI7MWu",
        "outputId": "ba57289e-d991-43b1-9cf6-745fe4eedb6d"
      },
      "outputs": [
        {
          "output_type": "stream",
          "name": "stdout",
          "text": [
            "Requirement already satisfied: torch in /usr/local/lib/python3.10/dist-packages (2.5.1+cu121)\n",
            "Requirement already satisfied: torchvision in /usr/local/lib/python3.10/dist-packages (0.20.1+cu121)\n",
            "Requirement already satisfied: tqdm in /usr/local/lib/python3.10/dist-packages (4.66.6)\n",
            "Requirement already satisfied: matplotlib in /usr/local/lib/python3.10/dist-packages (3.8.0)\n",
            "Requirement already satisfied: sentence-transformers in /usr/local/lib/python3.10/dist-packages (3.2.1)\n",
            "Requirement already satisfied: filelock in /usr/local/lib/python3.10/dist-packages (from torch) (3.16.1)\n",
            "Requirement already satisfied: typing-extensions>=4.8.0 in /usr/local/lib/python3.10/dist-packages (from torch) (4.12.2)\n",
            "Requirement already satisfied: networkx in /usr/local/lib/python3.10/dist-packages (from torch) (3.4.2)\n",
            "Requirement already satisfied: jinja2 in /usr/local/lib/python3.10/dist-packages (from torch) (3.1.4)\n",
            "Requirement already satisfied: fsspec in /usr/local/lib/python3.10/dist-packages (from torch) (2024.10.0)\n",
            "Requirement already satisfied: sympy==1.13.1 in /usr/local/lib/python3.10/dist-packages (from torch) (1.13.1)\n",
            "Requirement already satisfied: mpmath<1.4,>=1.1.0 in /usr/local/lib/python3.10/dist-packages (from sympy==1.13.1->torch) (1.3.0)\n",
            "Requirement already satisfied: numpy in /usr/local/lib/python3.10/dist-packages (from torchvision) (1.26.4)\n",
            "Requirement already satisfied: pillow!=8.3.*,>=5.3.0 in /usr/local/lib/python3.10/dist-packages (from torchvision) (11.0.0)\n",
            "Requirement already satisfied: contourpy>=1.0.1 in /usr/local/lib/python3.10/dist-packages (from matplotlib) (1.3.1)\n",
            "Requirement already satisfied: cycler>=0.10 in /usr/local/lib/python3.10/dist-packages (from matplotlib) (0.12.1)\n",
            "Requirement already satisfied: fonttools>=4.22.0 in /usr/local/lib/python3.10/dist-packages (from matplotlib) (4.55.0)\n",
            "Requirement already satisfied: kiwisolver>=1.0.1 in /usr/local/lib/python3.10/dist-packages (from matplotlib) (1.4.7)\n",
            "Requirement already satisfied: packaging>=20.0 in /usr/local/lib/python3.10/dist-packages (from matplotlib) (24.2)\n",
            "Requirement already satisfied: pyparsing>=2.3.1 in /usr/local/lib/python3.10/dist-packages (from matplotlib) (3.2.0)\n",
            "Requirement already satisfied: python-dateutil>=2.7 in /usr/local/lib/python3.10/dist-packages (from matplotlib) (2.8.2)\n",
            "Requirement already satisfied: transformers<5.0.0,>=4.41.0 in /usr/local/lib/python3.10/dist-packages (from sentence-transformers) (4.46.2)\n",
            "Requirement already satisfied: scikit-learn in /usr/local/lib/python3.10/dist-packages (from sentence-transformers) (1.5.2)\n",
            "Requirement already satisfied: scipy in /usr/local/lib/python3.10/dist-packages (from sentence-transformers) (1.13.1)\n",
            "Requirement already satisfied: huggingface-hub>=0.20.0 in /usr/local/lib/python3.10/dist-packages (from sentence-transformers) (0.26.2)\n",
            "Requirement already satisfied: pyyaml>=5.1 in /usr/local/lib/python3.10/dist-packages (from huggingface-hub>=0.20.0->sentence-transformers) (6.0.2)\n",
            "Requirement already satisfied: requests in /usr/local/lib/python3.10/dist-packages (from huggingface-hub>=0.20.0->sentence-transformers) (2.32.3)\n",
            "Requirement already satisfied: six>=1.5 in /usr/local/lib/python3.10/dist-packages (from python-dateutil>=2.7->matplotlib) (1.16.0)\n",
            "Requirement already satisfied: regex!=2019.12.17 in /usr/local/lib/python3.10/dist-packages (from transformers<5.0.0,>=4.41.0->sentence-transformers) (2024.9.11)\n",
            "Requirement already satisfied: safetensors>=0.4.1 in /usr/local/lib/python3.10/dist-packages (from transformers<5.0.0,>=4.41.0->sentence-transformers) (0.4.5)\n",
            "Requirement already satisfied: tokenizers<0.21,>=0.20 in /usr/local/lib/python3.10/dist-packages (from transformers<5.0.0,>=4.41.0->sentence-transformers) (0.20.3)\n",
            "Requirement already satisfied: MarkupSafe>=2.0 in /usr/local/lib/python3.10/dist-packages (from jinja2->torch) (3.0.2)\n",
            "Requirement already satisfied: joblib>=1.2.0 in /usr/local/lib/python3.10/dist-packages (from scikit-learn->sentence-transformers) (1.4.2)\n",
            "Requirement already satisfied: threadpoolctl>=3.1.0 in /usr/local/lib/python3.10/dist-packages (from scikit-learn->sentence-transformers) (3.5.0)\n",
            "Requirement already satisfied: charset-normalizer<4,>=2 in /usr/local/lib/python3.10/dist-packages (from requests->huggingface-hub>=0.20.0->sentence-transformers) (3.4.0)\n",
            "Requirement already satisfied: idna<4,>=2.5 in /usr/local/lib/python3.10/dist-packages (from requests->huggingface-hub>=0.20.0->sentence-transformers) (3.10)\n",
            "Requirement already satisfied: urllib3<3,>=1.21.1 in /usr/local/lib/python3.10/dist-packages (from requests->huggingface-hub>=0.20.0->sentence-transformers) (2.2.3)\n",
            "Requirement already satisfied: certifi>=2017.4.17 in /usr/local/lib/python3.10/dist-packages (from requests->huggingface-hub>=0.20.0->sentence-transformers) (2024.8.30)\n",
            "Requirement already satisfied: torch in /usr/local/lib/python3.10/dist-packages (2.5.1+cu121)\n",
            "Requirement already satisfied: torchvision in /usr/local/lib/python3.10/dist-packages (0.20.1+cu121)\n",
            "Requirement already satisfied: tqdm in /usr/local/lib/python3.10/dist-packages (4.66.6)\n",
            "Requirement already satisfied: scikit-learn in /usr/local/lib/python3.10/dist-packages (1.5.2)\n",
            "Requirement already satisfied: matplotlib in /usr/local/lib/python3.10/dist-packages (3.8.0)\n",
            "Requirement already satisfied: filelock in /usr/local/lib/python3.10/dist-packages (from torch) (3.16.1)\n",
            "Requirement already satisfied: typing-extensions>=4.8.0 in /usr/local/lib/python3.10/dist-packages (from torch) (4.12.2)\n",
            "Requirement already satisfied: networkx in /usr/local/lib/python3.10/dist-packages (from torch) (3.4.2)\n",
            "Requirement already satisfied: jinja2 in /usr/local/lib/python3.10/dist-packages (from torch) (3.1.4)\n",
            "Requirement already satisfied: fsspec in /usr/local/lib/python3.10/dist-packages (from torch) (2024.10.0)\n",
            "Requirement already satisfied: sympy==1.13.1 in /usr/local/lib/python3.10/dist-packages (from torch) (1.13.1)\n",
            "Requirement already satisfied: mpmath<1.4,>=1.1.0 in /usr/local/lib/python3.10/dist-packages (from sympy==1.13.1->torch) (1.3.0)\n",
            "Requirement already satisfied: numpy in /usr/local/lib/python3.10/dist-packages (from torchvision) (1.26.4)\n",
            "Requirement already satisfied: pillow!=8.3.*,>=5.3.0 in /usr/local/lib/python3.10/dist-packages (from torchvision) (11.0.0)\n",
            "Requirement already satisfied: scipy>=1.6.0 in /usr/local/lib/python3.10/dist-packages (from scikit-learn) (1.13.1)\n",
            "Requirement already satisfied: joblib>=1.2.0 in /usr/local/lib/python3.10/dist-packages (from scikit-learn) (1.4.2)\n",
            "Requirement already satisfied: threadpoolctl>=3.1.0 in /usr/local/lib/python3.10/dist-packages (from scikit-learn) (3.5.0)\n",
            "Requirement already satisfied: contourpy>=1.0.1 in /usr/local/lib/python3.10/dist-packages (from matplotlib) (1.3.1)\n",
            "Requirement already satisfied: cycler>=0.10 in /usr/local/lib/python3.10/dist-packages (from matplotlib) (0.12.1)\n",
            "Requirement already satisfied: fonttools>=4.22.0 in /usr/local/lib/python3.10/dist-packages (from matplotlib) (4.55.0)\n",
            "Requirement already satisfied: kiwisolver>=1.0.1 in /usr/local/lib/python3.10/dist-packages (from matplotlib) (1.4.7)\n",
            "Requirement already satisfied: packaging>=20.0 in /usr/local/lib/python3.10/dist-packages (from matplotlib) (24.2)\n",
            "Requirement already satisfied: pyparsing>=2.3.1 in /usr/local/lib/python3.10/dist-packages (from matplotlib) (3.2.0)\n",
            "Requirement already satisfied: python-dateutil>=2.7 in /usr/local/lib/python3.10/dist-packages (from matplotlib) (2.8.2)\n",
            "Requirement already satisfied: six>=1.5 in /usr/local/lib/python3.10/dist-packages (from python-dateutil>=2.7->matplotlib) (1.16.0)\n",
            "Requirement already satisfied: MarkupSafe>=2.0 in /usr/local/lib/python3.10/dist-packages (from jinja2->torch) (3.0.2)\n"
          ]
        },
        {
          "output_type": "stream",
          "name": "stderr",
          "text": [
            "/usr/local/lib/python3.10/dist-packages/sentence_transformers/cross_encoder/CrossEncoder.py:13: TqdmExperimentalWarning: Using `tqdm.autonotebook.tqdm` in notebook mode. Use `tqdm.tqdm` instead to force console mode (e.g. in jupyter console)\n",
            "  from tqdm.autonotebook import tqdm, trange\n"
          ]
        }
      ],
      "source": [
        "# Install necessary libraries\n",
        "!pip install torch torchvision tqdm matplotlib sentence-transformers\n",
        "!pip install torch torchvision tqdm scikit-learn matplotlib\n",
        "\n",
        "import os\n",
        "import zipfile\n",
        "import pandas as pd\n",
        "from PIL import Image\n",
        "from torchvision.transforms import Compose, Resize, ToTensor\n",
        "from torch.utils.data import DataLoader, Dataset\n",
        "from sentence_transformers import SentenceTransformer\n",
        "import torch\n",
        "import torch.nn as nn\n",
        "from torchvision import models\n",
        "from torch.nn.functional import normalize\n",
        "from torch.optim import Adam\n",
        "\n",
        "# Set device\n",
        "device = torch.device(\"cuda\" if torch.cuda.is_available() else \"cpu\")\n",
        "\n",
        "# Transformations\n",
        "transform = Compose([Resize((224, 224)), ToTensor()])\n",
        "\n",
        "# Dataset class\n",
        "class PlantDataset(Dataset):\n",
        "    def __init__(self, dataframe, root_dir, transform=None):\n",
        "        self.dataframe = dataframe\n",
        "        self.root_dir = root_dir\n",
        "        self.transform = transform\n",
        "\n",
        "    def __len__(self):\n",
        "        return len(self.dataframe)\n",
        "\n",
        "    def __getitem__(self, idx):\n",
        "        row = self.dataframe.iloc[idx]\n",
        "        img_path = os.path.join(self.root_dir, row['image'])\n",
        "        image = Image.open(img_path).convert('RGB')\n",
        "        if self.transform:\n",
        "            image = self.transform(image)\n",
        "        crop_label = int(row['crop'])\n",
        "        disease_label = int(row['disease'])\n",
        "        return image, crop_label, disease_label\n",
        "\n",
        "# Gradient Reversal Layer\n",
        "class GradientReversalFunction(torch.autograd.Function):\n",
        "    @staticmethod\n",
        "    def forward(ctx, x, alpha=1.0):\n",
        "        ctx.alpha = alpha\n",
        "        return x\n",
        "\n",
        "    @staticmethod\n",
        "    def backward(ctx, grad_output):\n",
        "        return -ctx.alpha * grad_output, None\n",
        "\n",
        "# Domain Discriminator\n",
        "class DomainDiscriminator(nn.Module):\n",
        "    def __init__(self, input_dim, hidden_dim=128):\n",
        "        super(DomainDiscriminator, self).__init__()\n",
        "        self.model = nn.Sequential(\n",
        "            nn.Linear(input_dim, hidden_dim),\n",
        "            nn.ReLU(),\n",
        "            nn.Linear(hidden_dim, hidden_dim),\n",
        "            nn.ReLU(),\n",
        "            nn.Linear(hidden_dim, 2)  # 2 domains: lab and field\n",
        "        )\n",
        "\n",
        "    def forward(self, x):\n",
        "        return self.model(x)\n",
        "\n",
        "# Improved model with domain discriminator\n",
        "class ImprovedDualBranchModelWithDomainDiscriminator(nn.Module):\n",
        "    def __init__(self, num_crops, num_diseases, embedding_dim, pretrained_embeddings):\n",
        "        super(ImprovedDualBranchModelWithDomainDiscriminator, self).__init__()\n",
        "        self.backbone = models.resnet18(weights='IMAGENET1K_V1')\n",
        "        self.backbone.fc = nn.Identity()\n",
        "\n",
        "        # Use provided embeddings\n",
        "        self.crop_embeddings = nn.Embedding.from_pretrained(pretrained_embeddings[\"crop\"], freeze=True)\n",
        "        self.disease_embeddings = nn.Embedding.from_pretrained(pretrained_embeddings[\"disease\"], freeze=True)\n",
        "\n",
        "        # Feature projection\n",
        "        self.feature_projector = nn.Linear(512, embedding_dim)\n",
        "        self.crop_classifier = nn.Linear(embedding_dim, num_crops)\n",
        "        self.disease_classifier = nn.Linear(embedding_dim, num_diseases)\n",
        "\n",
        "        # Domain discriminator\n",
        "        self.domain_discriminator = DomainDiscriminator(input_dim=embedding_dim)\n",
        "\n",
        "    def forward(self, x, alpha=1.0):\n",
        "        features = self.backbone(x)\n",
        "        projected_features = self.feature_projector(features)\n",
        "        normalized_features = normalize(projected_features, p=2, dim=1)\n",
        "\n",
        "        # Crop and disease predictions\n",
        "        crop_logits = self.crop_classifier(normalized_features)\n",
        "        disease_logits = self.disease_classifier(normalized_features)\n",
        "\n",
        "        # Domain prediction with gradient reversal\n",
        "        reversed_features = GradientReversalFunction.apply(normalized_features, alpha)\n",
        "        domain_logits = self.domain_discriminator(reversed_features)\n",
        "\n",
        "        return crop_logits, disease_logits, domain_logits\n"
      ]
    },
    {
      "cell_type": "code",
      "execution_count": null,
      "metadata": {
        "id": "BGRgCfb97Woy"
      },
      "outputs": [],
      "source": [
        "\n",
        "# Prepare datasets and loaders\n",
        "train_dataset = PlantDataset(train_df, plant_village_extract_path, transform=transform)\n",
        "train_loader = DataLoader(train_dataset, batch_size=32, shuffle=True)\n",
        "\n",
        "test_seen_dataset = PlantDataset(test_seen_df, plant_village_extract_path, transform=transform)\n",
        "test_seen_loader = DataLoader(test_seen_dataset, batch_size=32, shuffle=False)\n",
        "\n",
        "test_unseen_dataset = PlantDataset(test_unseen_df, plant_village_extract_path, transform=transform)\n",
        "test_unseen_loader = DataLoader(test_unseen_dataset, batch_size=32, shuffle=False)\n",
        "\n",
        "# Prepare PlantDoc dataset\n",
        "plantdoc_extract_path = '/content/plantdoc'  # Define the correct PlantDoc extraction path\n",
        "plantdoc_unseen_dataset = PlantDataset(plantdoc_unseen_df, plantdoc_extract_path, transform=transform)\n",
        "plantdoc_unseen_loader = DataLoader(plantdoc_unseen_dataset, batch_size=32, shuffle=False)"
      ]
    },
    {
      "cell_type": "markdown",
      "metadata": {
        "id": "gbU_SNNg7hyV"
      },
      "source": []
    },
    {
      "cell_type": "code",
      "execution_count": null,
      "metadata": {
        "id": "110bqwTZ7X0P"
      },
      "outputs": [],
      "source": [
        "\n",
        "# Load pretrained embeddings for crops and diseases\n",
        "plant_crop_descriptions = {\n",
        "    0: \"Oval-shaped leaves with serrated edges and dark green color\",\n",
        "    1: \"Heart-shaped leaves with smooth edges and dark green color\",\n",
        "    2: \"Oval-shaped leaves with fine serrations and bright green appearance\",\n",
        "    3: \"Broad leaves with a smooth texture and parallel veins\",\n",
        "    4: \"Lobed-shaped leaves with serrated edges and green surface\",\n",
        "    5: \"Round-shaped leaves with smooth edges and glossy green color\",\n",
        "    6: \"Yellowish leaves with elliptical shape and serrated edges\",\n",
        "    7: \"Heart-shaped leaves with smooth edges and deep green tone\",\n",
        "    8: \"Heart-shaped leaves with textured veins and vibrant green color\",\n",
        "    9: \"Heart-shaped leaves with serrated edges and bright green hue\",\n",
        "    10: \"Smooth-textured leaves that are heart-shaped with medium green color\",\n",
        "    11: \"Lobed-shaped leaves with rough texture and pale green color\",\n",
        "    12: \"Oval-shaped leaves with serrated edges and multicolored green and red tones\",\n",
        "    13: \"Elongated-shaped leaves with uneven edges and green tones\"\n",
        "}\n",
        "\n",
        "plant_disease_descriptions = {\n",
        "    0: \"Healthy leaf with no visible disease signs\",\n",
        "    1: \"Leaf with spotted appearance indicating potential fungal infection\",\n",
        "    2: \"Brown spots distributed unevenly, showing slight discoloration\",\n",
        "    3: \"Brown spots with irregular patterns and surrounding discoloration\",\n",
        "    4: \"White patches with powdery texture, signs of fungal infection\",\n",
        "    5: \"Brown streaks and specks, potentially indicating rust disease\",\n",
        "    6: \"Dense brown specks, highly suggestive of rust infection\",\n",
        "    7: \"Large brown patches with necrosis, indicative of fungal infection\",\n",
        "    8: \"Brown specks with white lesions, evident disease presence\",\n",
        "    9: \"Dark spots and edge browning, showing severe infection\",\n",
        "    10: \"Yellowing patches on the leaf, potentially nutrient deficiency\",\n",
        "    11: \"Yellowing leaf with black spots indicating fungal infection\",\n",
        "    12: \"Dark lesions with irregular patches, advanced infection symptoms\",\n",
        "    13: \"Brown patches and curling edges, clear signs of disease\",\n",
        "    14: \"Red-brown spots with perforations, indicating severe infection\",\n",
        "    15: \"Yellowing and uneven chlorosis, potentially nutrient deficiency\",\n",
        "    16: \"Yellowing with black spots, early signs of infection\",\n",
        "    17: \"Dark spots and curling edges, indicating potential infection\",\n",
        "    18: \"Dry patches and discoloration, showing signs of stress\",\n",
        "    19: \"Yellowing leaf with vein chlorosis, possible nutrient deficiency\",\n",
        "    20: \"Green leaf with mild curling, indicating potential stress signs\"\n",
        "}\n"
      ]
    },
    {
      "cell_type": "code",
      "execution_count": null,
      "metadata": {
        "colab": {
          "base_uri": "https://localhost:8080/",
          "height": 493,
          "referenced_widgets": [
            "1e06f4e668e7417cbdedae6a0d9ee3a5",
            "833f0cba5d6d4ca792530c9716062e2e",
            "87ac4b696f6043a691f2b3471aa8994d",
            "a7fabf462a1747b385972bae495db798",
            "314c0a78fdea4494a4b129eb7b7f4463",
            "21573ae94ffa45e0b682c240695ec324",
            "9e0abc0608d3468889d8c22a42762344",
            "e4534b3957e74138b319e1c1dd85fdc6",
            "6cdb689b3bee484ba8f0e180f6395608",
            "1aa324a492cc44c0931044720321b2cb",
            "c1429601aa4b4fe6a8003de50dddec7f",
            "906496925b1f407f86f4cceaf43a1b69",
            "6602b6c8e3224bd3b33990a7f3ff567e",
            "de15fb81485642879175207fbe71b42b",
            "7a4f84d44061449ebe530027242df565",
            "c1cf79b9ec24424783d6a4414f3030f3",
            "e0adc2297d6440e4bd005f766047c535",
            "413add4b60ec4bdfbbd767c5d2499657",
            "134c946d473e41a5be8e4ad234025fdf",
            "ed5ba325bfcf4983a2747176bc011b92",
            "e13e2f50871a45b29d905524e66a5a81",
            "331257e6b8524c809e91f699b1cd74b5",
            "da736ce05782477ba072ae3d8f37e62e",
            "6b67b9c4b6f74d468a6e8c01bdae7ef0",
            "37f9fbfbe3504c408a2d138d1dc6774d",
            "c811ebe3c79240019a642599a9598b3f",
            "de623f8aaf734d8281a0757c7339af8b",
            "6f6f08c6c0164fb193cef7d63bb9fdb3",
            "14074de2a6824059ae98e8ab3f95b78b",
            "80218a2c2a304d049849d411720c6fbb",
            "4269ef1b6b3246b7aa186b80a8e4fa27",
            "8a6bf274e4c04a738811d7637dd96ff8",
            "f086c16d3b744a9c958da1c126bc6edb",
            "30100793a7dc4ca2bf49e96a853e8494",
            "5d67ffe2c3e847739d5667c9c41b1346",
            "b13ff0976a904f0980d8caefb9ac8c35",
            "978567e405854dd8b1937d6c8d8c55cb",
            "0c35f30c7a5d4325bb4ed901abd9524d",
            "8fab5542079f487695f93db4cea91a1c",
            "4a635abad2ee4b778d0098dbf8e49199",
            "b62428456d7e44b888a0eac7e50b49cd",
            "8f90a440bdc240dab57e717fa04e7138",
            "cc18d05425074f8893b82039d134e61d",
            "fa5c1a6798af405a8b0bc4c1544cc0f9",
            "5610744ba14b47bf90e16c320a5ef12c",
            "a0a4acf79473482780f92e185c2e7ad2",
            "784c6872aea24804983c7b974dd984c4",
            "88e436ea45394f56a06c3959690ee754",
            "eac26ffc98454e7dad15f6e7741ac991",
            "9b43c7ab34494efaa23eb2df92150273",
            "122d8a7c5183415e800550939301a1c3",
            "a619a6eb3fa44b62a8bf967b2a61c053",
            "806a986ed57d4bb0b62c38b6e0bd745c",
            "a2624e7453034363ba7f33b548507c17",
            "4cf170ba8ad04b0984d125c83d88ea85",
            "c54f56ffa36b4d60999c0df112f889e3",
            "a9ec0ae32bf84bdf9ca507572b662ed9",
            "1d7c3443b4ef4c259d9f45afe0399f51",
            "ecc0151dac304b5b85a9301bf69d21cc",
            "399285d3f3694b00b77b2a264d10b4cc",
            "58c20bf606824efbb08ae5476a0b88ea",
            "61f72a39792c4fa3935b573de2bfdde3",
            "3655c295c7ba4068b4b5be6bf39613f3",
            "7468b5adbdc346f9bd783f315f47000a",
            "bc23eb17ca4c41bb97785c53456dae36",
            "d9008c2fc3994e0d8f8e021cf979e418",
            "f336f94083724453bc99cb587a11d884",
            "d048b6e5c30f46c8875e9804a3d37328",
            "b5c9a5b990204711acb2d80159fb9450",
            "6ac501c26d9047e992d13872055565e1",
            "7a2b67325189404aaa093a15f5a3b71d",
            "77b320e60f854270b135fbb509a060f4",
            "b693d965cb2e476f8d7e40f3b448d83f",
            "408a79f7145f4e47b20950ff5d79044c",
            "95e1558b2b1e487e9d9caf8314b2c51a",
            "e1dc22af7cbd4b9babcfb8384bdb4c1d",
            "9988bbd7e0814e08bfe969f3799a3a09",
            "36a145d23b6e4bc7a7651fc8e4b88a61",
            "d12072023de94c5abef76d7d859b4ecd",
            "54497bdffdbe461798b2e8c6655303f3",
            "6f2400ae01c44d2d892f316184968ad5",
            "b2754e89e0134eb9b82f379d4aac629b",
            "c69c0d26a6d34765aa4c9abc7b1320c2",
            "1620acfaa2374338b5addc57733fab62",
            "96fdc3190eaa4cae9f365ee38ed7c835",
            "c3f23fb801354cb4b629702d90e6f2d4",
            "8a91b681ceed459ba6549bbeb0ebd9f2",
            "790ab3b12fe249f8bc3144b7bcbc2b77",
            "0e5f37a2ee9648d595d2b585c7a74f3e",
            "b94b6c1ddaa244a0ac309b588d4b3c98",
            "714b8b2c00964d1dac8bebe409a3d53a",
            "9a1423b6941f4157abc9f50f1dab9156",
            "323d773cd89247b0af306ee1b9f3724c",
            "2a5f26479b3846788da74912558b431a",
            "f7a715d35c704e75b8ad66e96392dcf8",
            "422a1fac8ee0472ab49586789853c504",
            "840682c8c77a471091beb91d56c39d55",
            "4d37c65979b64f3091e4bcd88281403a",
            "320d466f3d744258b1ed5cf56b7a73d3",
            "e1466252476541be9e87b8eccb4e0c7c",
            "b4754d4580b645869c96f2503d2d74c1",
            "44d80968e6564df4871bfbc061a8b0c2",
            "9ff14eb196dd42b6a9b188a5787e5f90",
            "7c1765918345403eaf8602e4a056b499",
            "3854c4f25cc54de289cdf5653fe1edf4",
            "e6ee478ffab84852bf94ef7935e30223",
            "d7967fcc67894677b61a95ba432e9a27",
            "54b147d077fb43639196da69b83b6a9f",
            "f632d7bfd69b4abe831089b63f2e3644",
            "ab6d7227809c45ddadeb1d24068adfbb",
            "9a5c79a1dff04701bd8e1d967c0466be",
            "b17afc9a4e52448fa96024818348238a",
            "cfbb65bb2d35422c8265a485c4e3dd77",
            "e2c9c48a001a46fbb95dae9d6ba2e63f",
            "560e5fd94dd14973b0064324586d01c2",
            "f6bc2fd0ddfb42b79057828a69178165",
            "bae712260ac84d91b829a2cc2264562d",
            "e6955c1bb1e7451a8057f8a634efe51b",
            "223577fa26da4490bacb8b8f4d44f25c",
            "8dfa246135bf4772893e9978b9c111d6",
            "3b7dbc2accb14b44b8c3e8361949080f"
          ]
        },
        "id": "vudvtVGp7Y85",
        "outputId": "a30d242a-a6b2-4d6f-8d37-d82c30279b02"
      },
      "outputs": [
        {
          "output_type": "stream",
          "name": "stderr",
          "text": [
            "/usr/local/lib/python3.10/dist-packages/huggingface_hub/utils/_auth.py:94: UserWarning: \n",
            "The secret `HF_TOKEN` does not exist in your Colab secrets.\n",
            "To authenticate with the Hugging Face Hub, create a token in your settings tab (https://huggingface.co/settings/tokens), set it as secret in your Google Colab and restart your session.\n",
            "You will be able to reuse this secret in all of your notebooks.\n",
            "Please note that authentication is recommended but still optional to access public models or datasets.\n",
            "  warnings.warn(\n"
          ]
        },
        {
          "output_type": "display_data",
          "data": {
            "text/plain": [
              "modules.json:   0%|          | 0.00/349 [00:00<?, ?B/s]"
            ],
            "application/vnd.jupyter.widget-view+json": {
              "version_major": 2,
              "version_minor": 0,
              "model_id": "1e06f4e668e7417cbdedae6a0d9ee3a5"
            }
          },
          "metadata": {}
        },
        {
          "output_type": "display_data",
          "data": {
            "text/plain": [
              "config_sentence_transformers.json:   0%|          | 0.00/116 [00:00<?, ?B/s]"
            ],
            "application/vnd.jupyter.widget-view+json": {
              "version_major": 2,
              "version_minor": 0,
              "model_id": "906496925b1f407f86f4cceaf43a1b69"
            }
          },
          "metadata": {}
        },
        {
          "output_type": "display_data",
          "data": {
            "text/plain": [
              "README.md:   0%|          | 0.00/10.7k [00:00<?, ?B/s]"
            ],
            "application/vnd.jupyter.widget-view+json": {
              "version_major": 2,
              "version_minor": 0,
              "model_id": "da736ce05782477ba072ae3d8f37e62e"
            }
          },
          "metadata": {}
        },
        {
          "output_type": "display_data",
          "data": {
            "text/plain": [
              "sentence_bert_config.json:   0%|          | 0.00/53.0 [00:00<?, ?B/s]"
            ],
            "application/vnd.jupyter.widget-view+json": {
              "version_major": 2,
              "version_minor": 0,
              "model_id": "30100793a7dc4ca2bf49e96a853e8494"
            }
          },
          "metadata": {}
        },
        {
          "output_type": "display_data",
          "data": {
            "text/plain": [
              "config.json:   0%|          | 0.00/612 [00:00<?, ?B/s]"
            ],
            "application/vnd.jupyter.widget-view+json": {
              "version_major": 2,
              "version_minor": 0,
              "model_id": "5610744ba14b47bf90e16c320a5ef12c"
            }
          },
          "metadata": {}
        },
        {
          "output_type": "display_data",
          "data": {
            "text/plain": [
              "model.safetensors:   0%|          | 0.00/90.9M [00:00<?, ?B/s]"
            ],
            "application/vnd.jupyter.widget-view+json": {
              "version_major": 2,
              "version_minor": 0,
              "model_id": "c54f56ffa36b4d60999c0df112f889e3"
            }
          },
          "metadata": {}
        },
        {
          "output_type": "display_data",
          "data": {
            "text/plain": [
              "tokenizer_config.json:   0%|          | 0.00/350 [00:00<?, ?B/s]"
            ],
            "application/vnd.jupyter.widget-view+json": {
              "version_major": 2,
              "version_minor": 0,
              "model_id": "f336f94083724453bc99cb587a11d884"
            }
          },
          "metadata": {}
        },
        {
          "output_type": "display_data",
          "data": {
            "text/plain": [
              "vocab.txt:   0%|          | 0.00/232k [00:00<?, ?B/s]"
            ],
            "application/vnd.jupyter.widget-view+json": {
              "version_major": 2,
              "version_minor": 0,
              "model_id": "36a145d23b6e4bc7a7651fc8e4b88a61"
            }
          },
          "metadata": {}
        },
        {
          "output_type": "display_data",
          "data": {
            "text/plain": [
              "tokenizer.json:   0%|          | 0.00/466k [00:00<?, ?B/s]"
            ],
            "application/vnd.jupyter.widget-view+json": {
              "version_major": 2,
              "version_minor": 0,
              "model_id": "0e5f37a2ee9648d595d2b585c7a74f3e"
            }
          },
          "metadata": {}
        },
        {
          "output_type": "display_data",
          "data": {
            "text/plain": [
              "special_tokens_map.json:   0%|          | 0.00/112 [00:00<?, ?B/s]"
            ],
            "application/vnd.jupyter.widget-view+json": {
              "version_major": 2,
              "version_minor": 0,
              "model_id": "e1466252476541be9e87b8eccb4e0c7c"
            }
          },
          "metadata": {}
        },
        {
          "output_type": "display_data",
          "data": {
            "text/plain": [
              "1_Pooling/config.json:   0%|          | 0.00/190 [00:00<?, ?B/s]"
            ],
            "application/vnd.jupyter.widget-view+json": {
              "version_major": 2,
              "version_minor": 0,
              "model_id": "9a5c79a1dff04701bd8e1d967c0466be"
            }
          },
          "metadata": {}
        }
      ],
      "source": [
        "\n",
        "# Generate embeddings\n",
        "embedding_model = SentenceTransformer('all-MiniLM-L6-v2', device='cpu')\n",
        "crop_embeddings = torch.tensor(embedding_model.encode(list(plant_crop_descriptions.values())), dtype=torch.float32)\n",
        "disease_embeddings = torch.tensor(embedding_model.encode(list(plant_disease_descriptions.values())), dtype=torch.float32)\n",
        "\n",
        "# Transfer embeddings to GPU\n",
        "crop_embeddings = crop_embeddings.to(device)\n",
        "disease_embeddings = disease_embeddings.to(device)\n",
        "\n",
        "# Prepare pretrained embeddings\n",
        "pretrained_embeddings = {\n",
        "    \"crop\": crop_embeddings,\n",
        "    \"disease\": disease_embeddings\n",
        "}\n"
      ]
    },
    {
      "cell_type": "code",
      "execution_count": null,
      "metadata": {
        "colab": {
          "base_uri": "https://localhost:8080/"
        },
        "id": "FzfwzSyW7l0h",
        "outputId": "9ef69109-f12a-4c56-e776-5b3bb55f80fd"
      },
      "outputs": [
        {
          "output_type": "stream",
          "name": "stderr",
          "text": [
            "Downloading: \"https://download.pytorch.org/models/resnet18-f37072fd.pth\" to /root/.cache/torch/hub/checkpoints/resnet18-f37072fd.pth\n",
            "100%|██████████| 44.7M/44.7M [00:00<00:00, 169MB/s]\n"
          ]
        }
      ],
      "source": [
        "\n",
        "# Initialize model\n",
        "num_crops = len(plant_crop_descriptions)\n",
        "num_diseases = len(plant_disease_descriptions)\n",
        "embedding_dim = crop_embeddings.shape[1]\n",
        "model = ImprovedDualBranchModelWithDomainDiscriminator(num_crops, num_diseases, embedding_dim, pretrained_embeddings).to(device)\n",
        "\n",
        "# Loss functions\n",
        "classification_criterion = nn.CrossEntropyLoss()\n",
        "domain_criterion = nn.CrossEntropyLoss()\n",
        "\n",
        "# Optimizer\n",
        "optimizer = Adam(model.parameters(), lr=0.001)\n"
      ]
    },
    {
      "cell_type": "code",
      "source": [
        "from torch.utils.data import random_split\n",
        "import numpy as np\n",
        "from tqdm import tqdm\n",
        "\n",
        "# Split train dataset into train and validation sets\n",
        "train_size = int(0.8 * len(train_dataset))\n",
        "val_size = len(train_dataset) - train_size\n",
        "train_subset, val_subset = random_split(train_dataset, [train_size, val_size])\n",
        "\n",
        "train_loader = DataLoader(train_subset, batch_size=32, shuffle=True)\n",
        "val_loader = DataLoader(val_subset, batch_size=32, shuffle=False)\n",
        "\n",
        "# Training loop with validation and early stopping\n",
        "num_epochs = 50\n",
        "patience = 5\n",
        "best_val_loss = float('inf')\n",
        "early_stop_counter = 0\n",
        "\n",
        "for epoch in range(num_epochs):\n",
        "    # Training\n",
        "    model.train()\n",
        "    train_loss = 0\n",
        "    correct_crop = 0\n",
        "    correct_disease = 0\n",
        "    total = 0\n",
        "\n",
        "    for images, crop_labels, disease_labels in tqdm(train_loader, desc=f\"Epoch {epoch + 1}/{num_epochs} - Training\"):\n",
        "        images, crop_labels, disease_labels = images.to(device), crop_labels.to(device), disease_labels.to(device)\n",
        "\n",
        "        optimizer.zero_grad()\n",
        "        crop_logits, disease_logits, domain_logits = model(images)\n",
        "\n",
        "        loss_crop = classification_criterion(crop_logits, crop_labels)\n",
        "        loss_disease = classification_criterion(disease_logits, disease_labels)\n",
        "\n",
        "        loss = loss_crop + loss_disease\n",
        "        loss.backward()\n",
        "        optimizer.step()\n",
        "\n",
        "        train_loss += loss.item()\n",
        "        _, predicted_crops = torch.max(crop_logits, 1)\n",
        "        _, predicted_diseases = torch.max(disease_logits, 1)\n",
        "\n",
        "        correct_crop += (predicted_crops == crop_labels).sum().item()\n",
        "        correct_disease += (predicted_diseases == disease_labels).sum().item()\n",
        "        total += crop_labels.size(0)\n",
        "\n",
        "    train_loss /= len(train_loader)\n",
        "    train_acc = (correct_crop + correct_disease) / (2 * total)\n",
        "\n",
        "    # Validation\n",
        "    model.eval()\n",
        "    val_loss = 0\n",
        "    correct_crop = 0\n",
        "    correct_disease = 0\n",
        "    total = 0\n",
        "\n",
        "    with torch.no_grad():\n",
        "        for images, crop_labels, disease_labels in tqdm(val_loader, desc=f\"Epoch {epoch + 1}/{num_epochs} - Validation\"):\n",
        "            images, crop_labels, disease_labels = images.to(device), crop_labels.to(device), disease_labels.to(device)\n",
        "\n",
        "            crop_logits, disease_logits, domain_logits = model(images)\n",
        "\n",
        "            loss_crop = classification_criterion(crop_logits, crop_labels)\n",
        "            loss_disease = classification_criterion(disease_logits, disease_labels)\n",
        "\n",
        "            loss = loss_crop + loss_disease\n",
        "            val_loss += loss.item()\n",
        "\n",
        "            _, predicted_crops = torch.max(crop_logits, 1)\n",
        "            _, predicted_diseases = torch.max(disease_logits, 1)\n",
        "\n",
        "            correct_crop += (predicted_crops == crop_labels).sum().item()\n",
        "            correct_disease += (predicted_diseases == disease_labels).sum().item()\n",
        "            total += crop_labels.size(0)\n",
        "\n",
        "    val_loss /= len(val_loader)\n",
        "    val_acc = (correct_crop + correct_disease) / (2 * total)\n",
        "\n",
        "    # Early stopping\n",
        "    if val_loss < best_val_loss:\n",
        "        best_val_loss = val_loss\n",
        "        early_stop_counter = 0\n",
        "        torch.save(model.state_dict(), \"best_model.pth\")  # Save the best model\n",
        "    else:\n",
        "        early_stop_counter += 1\n",
        "\n",
        "    if early_stop_counter >= patience:\n",
        "        print(\"Early stopping triggered\")\n",
        "        break\n",
        "\n",
        "    # Log metrics\n",
        "    print(f\"Epoch {epoch + 1}/{num_epochs}\")\n",
        "    print(f\"Train Loss: {train_loss:.4f}, Train Acc: {train_acc:.4f}\")\n",
        "    print(f\"Val Loss: {val_loss:.4f}, Val Acc: {val_acc:.4f}\")\n",
        "\n",
        "\n",
        "# Save the best model\n",
        "torch.save(model, \"best_model_with_domain.pth\")\n",
        "print(\"Best model saved successfully.\")"
      ],
      "metadata": {
        "colab": {
          "base_uri": "https://localhost:8080/"
        },
        "id": "_faYbm8F7IIC",
        "outputId": "b0d0deaf-5b0c-4a2a-f6dd-cfdc9c5f5778"
      },
      "execution_count": null,
      "outputs": [
        {
          "output_type": "stream",
          "name": "stderr",
          "text": [
            "Epoch 1/50 - Training: 100%|██████████| 975/975 [01:34<00:00, 10.28it/s]\n",
            "Epoch 1/50 - Validation: 100%|██████████| 244/244 [00:18<00:00, 13.16it/s]\n"
          ]
        },
        {
          "output_type": "stream",
          "name": "stdout",
          "text": [
            "Epoch 1/50\n",
            "Train Loss: 1.8101, Train Acc: 0.7771\n",
            "Val Loss: 0.9839, Val Acc: 0.8538\n"
          ]
        },
        {
          "output_type": "stream",
          "name": "stderr",
          "text": [
            "Epoch 2/50 - Training: 100%|██████████| 975/975 [01:30<00:00, 10.77it/s]\n",
            "Epoch 2/50 - Validation: 100%|██████████| 244/244 [00:18<00:00, 13.06it/s]\n"
          ]
        },
        {
          "output_type": "stream",
          "name": "stdout",
          "text": [
            "Epoch 2/50\n",
            "Train Loss: 0.5138, Train Acc: 0.9314\n",
            "Val Loss: 0.4157, Val Acc: 0.9385\n"
          ]
        },
        {
          "output_type": "stream",
          "name": "stderr",
          "text": [
            "Epoch 3/50 - Training: 100%|██████████| 975/975 [01:30<00:00, 10.74it/s]\n",
            "Epoch 3/50 - Validation: 100%|██████████| 244/244 [00:18<00:00, 12.96it/s]\n"
          ]
        },
        {
          "output_type": "stream",
          "name": "stdout",
          "text": [
            "Epoch 3/50\n",
            "Train Loss: 0.2421, Train Acc: 0.9686\n",
            "Val Loss: 0.1938, Val Acc: 0.9738\n"
          ]
        },
        {
          "output_type": "stream",
          "name": "stderr",
          "text": [
            "Epoch 4/50 - Training: 100%|██████████| 975/975 [01:30<00:00, 10.78it/s]\n",
            "Epoch 4/50 - Validation: 100%|██████████| 244/244 [00:18<00:00, 12.86it/s]\n"
          ]
        },
        {
          "output_type": "stream",
          "name": "stdout",
          "text": [
            "Epoch 4/50\n",
            "Train Loss: 0.1587, Train Acc: 0.9786\n",
            "Val Loss: 0.1031, Val Acc: 0.9872\n"
          ]
        },
        {
          "output_type": "stream",
          "name": "stderr",
          "text": [
            "Epoch 5/50 - Training: 100%|██████████| 975/975 [01:30<00:00, 10.81it/s]\n",
            "Epoch 5/50 - Validation: 100%|██████████| 244/244 [00:18<00:00, 13.23it/s]\n"
          ]
        },
        {
          "output_type": "stream",
          "name": "stdout",
          "text": [
            "Epoch 5/50\n",
            "Train Loss: 0.1101, Train Acc: 0.9845\n",
            "Val Loss: 0.1127, Val Acc: 0.9837\n"
          ]
        },
        {
          "output_type": "stream",
          "name": "stderr",
          "text": [
            "Epoch 6/50 - Training: 100%|██████████| 975/975 [01:29<00:00, 10.90it/s]\n",
            "Epoch 6/50 - Validation: 100%|██████████| 244/244 [00:18<00:00, 12.98it/s]\n"
          ]
        },
        {
          "output_type": "stream",
          "name": "stdout",
          "text": [
            "Epoch 6/50\n",
            "Train Loss: 0.0962, Train Acc: 0.9864\n",
            "Val Loss: 0.0986, Val Acc: 0.9862\n"
          ]
        },
        {
          "output_type": "stream",
          "name": "stderr",
          "text": [
            "Epoch 7/50 - Training: 100%|██████████| 975/975 [01:30<00:00, 10.81it/s]\n",
            "Epoch 7/50 - Validation: 100%|██████████| 244/244 [00:18<00:00, 12.93it/s]\n"
          ]
        },
        {
          "output_type": "stream",
          "name": "stdout",
          "text": [
            "Epoch 7/50\n",
            "Train Loss: 0.0729, Train Acc: 0.9894\n",
            "Val Loss: 0.0875, Val Acc: 0.9875\n"
          ]
        },
        {
          "output_type": "stream",
          "name": "stderr",
          "text": [
            "Epoch 8/50 - Training: 100%|██████████| 975/975 [01:30<00:00, 10.81it/s]\n",
            "Epoch 8/50 - Validation: 100%|██████████| 244/244 [00:19<00:00, 12.69it/s]\n"
          ]
        },
        {
          "output_type": "stream",
          "name": "stdout",
          "text": [
            "Epoch 8/50\n",
            "Train Loss: 0.0787, Train Acc: 0.9885\n",
            "Val Loss: 0.0658, Val Acc: 0.9892\n"
          ]
        },
        {
          "output_type": "stream",
          "name": "stderr",
          "text": [
            "Epoch 9/50 - Training: 100%|██████████| 975/975 [01:30<00:00, 10.82it/s]\n",
            "Epoch 9/50 - Validation: 100%|██████████| 244/244 [00:18<00:00, 13.21it/s]\n"
          ]
        },
        {
          "output_type": "stream",
          "name": "stdout",
          "text": [
            "Epoch 9/50\n",
            "Train Loss: 0.0486, Train Acc: 0.9929\n",
            "Val Loss: 0.1042, Val Acc: 0.9846\n"
          ]
        },
        {
          "output_type": "stream",
          "name": "stderr",
          "text": [
            "Epoch 10/50 - Training: 100%|██████████| 975/975 [01:29<00:00, 10.84it/s]\n",
            "Epoch 10/50 - Validation: 100%|██████████| 244/244 [00:18<00:00, 12.90it/s]\n"
          ]
        },
        {
          "output_type": "stream",
          "name": "stdout",
          "text": [
            "Epoch 10/50\n",
            "Train Loss: 0.0473, Train Acc: 0.9931\n",
            "Val Loss: 0.1538, Val Acc: 0.9785\n"
          ]
        },
        {
          "output_type": "stream",
          "name": "stderr",
          "text": [
            "Epoch 11/50 - Training: 100%|██████████| 975/975 [01:29<00:00, 10.85it/s]\n",
            "Epoch 11/50 - Validation: 100%|██████████| 244/244 [00:19<00:00, 12.72it/s]\n"
          ]
        },
        {
          "output_type": "stream",
          "name": "stdout",
          "text": [
            "Epoch 11/50\n",
            "Train Loss: 0.0645, Train Acc: 0.9901\n",
            "Val Loss: 0.0542, Val Acc: 0.9918\n"
          ]
        },
        {
          "output_type": "stream",
          "name": "stderr",
          "text": [
            "Epoch 12/50 - Training: 100%|██████████| 975/975 [01:29<00:00, 10.84it/s]\n",
            "Epoch 12/50 - Validation: 100%|██████████| 244/244 [00:18<00:00, 13.04it/s]\n"
          ]
        },
        {
          "output_type": "stream",
          "name": "stdout",
          "text": [
            "Epoch 12/50\n",
            "Train Loss: 0.0380, Train Acc: 0.9944\n",
            "Val Loss: 0.0677, Val Acc: 0.9899\n"
          ]
        },
        {
          "output_type": "stream",
          "name": "stderr",
          "text": [
            "Epoch 13/50 - Training: 100%|██████████| 975/975 [01:30<00:00, 10.82it/s]\n",
            "Epoch 13/50 - Validation: 100%|██████████| 244/244 [00:18<00:00, 12.94it/s]\n"
          ]
        },
        {
          "output_type": "stream",
          "name": "stdout",
          "text": [
            "Epoch 13/50\n",
            "Train Loss: 0.0342, Train Acc: 0.9951\n",
            "Val Loss: 0.1347, Val Acc: 0.9806\n"
          ]
        },
        {
          "output_type": "stream",
          "name": "stderr",
          "text": [
            "Epoch 14/50 - Training: 100%|██████████| 975/975 [01:30<00:00, 10.80it/s]\n",
            "Epoch 14/50 - Validation: 100%|██████████| 244/244 [00:19<00:00, 12.84it/s]\n"
          ]
        },
        {
          "output_type": "stream",
          "name": "stdout",
          "text": [
            "Epoch 14/50\n",
            "Train Loss: 0.0470, Train Acc: 0.9929\n",
            "Val Loss: 0.0423, Val Acc: 0.9932\n"
          ]
        },
        {
          "output_type": "stream",
          "name": "stderr",
          "text": [
            "Epoch 15/50 - Training: 100%|██████████| 975/975 [01:30<00:00, 10.79it/s]\n",
            "Epoch 15/50 - Validation: 100%|██████████| 244/244 [00:18<00:00, 13.11it/s]\n"
          ]
        },
        {
          "output_type": "stream",
          "name": "stdout",
          "text": [
            "Epoch 15/50\n",
            "Train Loss: 0.0277, Train Acc: 0.9960\n",
            "Val Loss: 0.0732, Val Acc: 0.9897\n"
          ]
        },
        {
          "output_type": "stream",
          "name": "stderr",
          "text": [
            "Epoch 16/50 - Training: 100%|██████████| 975/975 [01:29<00:00, 10.88it/s]\n",
            "Epoch 16/50 - Validation: 100%|██████████| 244/244 [00:18<00:00, 12.99it/s]\n"
          ]
        },
        {
          "output_type": "stream",
          "name": "stdout",
          "text": [
            "Epoch 16/50\n",
            "Train Loss: 0.0361, Train Acc: 0.9945\n",
            "Val Loss: 0.1443, Val Acc: 0.9801\n"
          ]
        },
        {
          "output_type": "stream",
          "name": "stderr",
          "text": [
            "Epoch 17/50 - Training: 100%|██████████| 975/975 [01:30<00:00, 10.82it/s]\n",
            "Epoch 17/50 - Validation: 100%|██████████| 244/244 [00:18<00:00, 13.16it/s]\n"
          ]
        },
        {
          "output_type": "stream",
          "name": "stdout",
          "text": [
            "Epoch 17/50\n",
            "Train Loss: 0.0376, Train Acc: 0.9943\n",
            "Val Loss: 0.0925, Val Acc: 0.9859\n"
          ]
        },
        {
          "output_type": "stream",
          "name": "stderr",
          "text": [
            "Epoch 18/50 - Training: 100%|██████████| 975/975 [01:30<00:00, 10.83it/s]\n",
            "Epoch 18/50 - Validation: 100%|██████████| 244/244 [00:18<00:00, 12.97it/s]\n"
          ]
        },
        {
          "output_type": "stream",
          "name": "stdout",
          "text": [
            "Epoch 18/50\n",
            "Train Loss: 0.0246, Train Acc: 0.9959\n",
            "Val Loss: 0.0608, Val Acc: 0.9909\n"
          ]
        },
        {
          "output_type": "stream",
          "name": "stderr",
          "text": [
            "Epoch 19/50 - Training: 100%|██████████| 975/975 [01:30<00:00, 10.80it/s]\n",
            "Epoch 19/50 - Validation: 100%|██████████| 244/244 [00:18<00:00, 12.85it/s]\n"
          ]
        },
        {
          "output_type": "stream",
          "name": "stdout",
          "text": [
            "Early stopping triggered\n",
            "Best model saved successfully.\n"
          ]
        }
      ]
    },
    {
      "cell_type": "markdown",
      "source": [
        "**Save model to drive**"
      ],
      "metadata": {
        "id": "wJHxxp6bJSNv"
      }
    },
    {
      "cell_type": "code",
      "source": [
        "# Save the best model\n",
        "torch.save(model.state_dict(), \"best_model_with_domain.pth\")\n",
        "\n",
        "# Save to a specific location (e.g., Google Drive)\n",
        "model_save_path = '/content/drive/My Drive/best_model_with_domain.pth'\n",
        "torch.save(model.state_dict(), model_save_path)\n",
        "\n",
        "print(f\"Model saved at {model_save_path}\")\n"
      ],
      "metadata": {
        "colab": {
          "base_uri": "https://localhost:8080/"
        },
        "id": "8ShPiyb88oZK",
        "outputId": "a1adb71b-25e9-4099-f06d-d3b9680f386e"
      },
      "execution_count": null,
      "outputs": [
        {
          "output_type": "stream",
          "name": "stdout",
          "text": [
            "Model saved at /content/drive/My Drive/best_model_with_domain.pth\n"
          ]
        }
      ]
    },
    {
      "cell_type": "markdown",
      "source": [
        "**Evaluation**"
      ],
      "metadata": {
        "id": "pax9FBiGJVB2"
      }
    },
    {
      "cell_type": "code",
      "source": [
        "def evaluate_model(model, data_loader, dataset_name):\n",
        "    model.eval()  # Set model to evaluation mode\n",
        "    total_crop_loss = 0\n",
        "    total_disease_loss = 0\n",
        "    correct_crop = 0\n",
        "    correct_disease = 0\n",
        "    total_samples = 0\n",
        "\n",
        "    with torch.no_grad():\n",
        "        for images, crop_labels, disease_labels in tqdm(data_loader, desc=f\"Evaluating on {dataset_name}\"):\n",
        "            images, crop_labels, disease_labels = images.to(device), crop_labels.to(device), disease_labels.to(device)\n",
        "\n",
        "            # Forward pass\n",
        "            crop_logits, disease_logits, domain_logits = model(images)\n",
        "\n",
        "            # Calculate losses\n",
        "            loss_crop = classification_criterion(crop_logits, crop_labels)\n",
        "            loss_disease = classification_criterion(disease_logits, disease_labels)\n",
        "\n",
        "            total_crop_loss += loss_crop.item()\n",
        "            total_disease_loss += loss_disease.item()\n",
        "\n",
        "            # Calculate accuracy\n",
        "            _, predicted_crops = torch.max(crop_logits, 1)\n",
        "            _, predicted_diseases = torch.max(disease_logits, 1)\n",
        "\n",
        "            correct_crop += (predicted_crops == crop_labels).sum().item()\n",
        "            correct_disease += (predicted_diseases == disease_labels).sum().item()\n",
        "            total_samples += crop_labels.size(0)\n",
        "\n",
        "    # Compute average losses and accuracies\n",
        "    avg_crop_loss = total_crop_loss / len(data_loader)\n",
        "    avg_disease_loss = total_disease_loss / len(data_loader)\n",
        "\n",
        "    crop_accuracy = correct_crop / total_samples\n",
        "    disease_accuracy = correct_disease / total_samples\n",
        "\n",
        "    # Print results\n",
        "    print(f\"Dataset: {dataset_name}\")\n",
        "    print(f\"Crop Loss: {avg_crop_loss:.4f}, Crop Accuracy: {crop_accuracy:.4f}\")\n",
        "    print(f\"Disease Loss: {avg_disease_loss:.4f}, Disease Accuracy: {disease_accuracy:.4f}\")\n",
        "    return avg_crop_loss, avg_disease_loss, crop_accuracy, disease_accuracy\n",
        "\n",
        "# Evaluate on PV test seen\n",
        "evaluate_model(model, test_seen_loader, \"PV Test Seen\")\n",
        "\n",
        "# Evaluate on PV test unseen\n",
        "evaluate_model(model, test_unseen_loader, \"PV Test Unseen\")\n",
        "\n",
        "# Evaluate on PD test unseen\n",
        "evaluate_model(model, plantdoc_unseen_loader, \"PD Test Unseen\")\n"
      ],
      "metadata": {
        "colab": {
          "base_uri": "https://localhost:8080/"
        },
        "id": "DwrG9CQhIN-2",
        "outputId": "1589d762-cf8e-4048-befd-184faea02fe8"
      },
      "execution_count": null,
      "outputs": [
        {
          "output_type": "stream",
          "name": "stderr",
          "text": [
            "Evaluating on PV Test Seen: 100%|██████████| 322/322 [00:25<00:00, 12.64it/s]\n"
          ]
        },
        {
          "output_type": "stream",
          "name": "stdout",
          "text": [
            "Dataset: PV Test Seen\n",
            "Crop Loss: 0.0297, Crop Accuracy: 0.9922\n",
            "Disease Loss: 0.0984, Disease Accuracy: 0.9702\n"
          ]
        },
        {
          "output_type": "stream",
          "name": "stderr",
          "text": [
            "Evaluating on PV Test Unseen: 100%|██████████| 7/7 [00:00<00:00, 12.78it/s]\n"
          ]
        },
        {
          "output_type": "stream",
          "name": "stdout",
          "text": [
            "Dataset: PV Test Unseen\n",
            "Crop Loss: 6.1332, Crop Accuracy: 0.1759\n",
            "Disease Loss: 6.3303, Disease Accuracy: 0.1574\n"
          ]
        },
        {
          "output_type": "stream",
          "name": "stderr",
          "text": [
            "Evaluating on PD Test Unseen: 100%|██████████| 3/3 [00:01<00:00,  1.81it/s]"
          ]
        },
        {
          "output_type": "stream",
          "name": "stdout",
          "text": [
            "Dataset: PD Test Unseen\n",
            "Crop Loss: 8.5570, Crop Accuracy: 0.0282\n",
            "Disease Loss: 9.1408, Disease Accuracy: 0.0423\n"
          ]
        },
        {
          "output_type": "stream",
          "name": "stderr",
          "text": [
            "\n"
          ]
        },
        {
          "output_type": "execute_result",
          "data": {
            "text/plain": [
              "(8.557040532430014,\n",
              " 9.140838940938314,\n",
              " 0.028169014084507043,\n",
              " 0.04225352112676056)"
            ]
          },
          "metadata": {},
          "execution_count": 9
        }
      ]
    },
    {
      "cell_type": "markdown",
      "source": [
        "Top-N accuracy"
      ],
      "metadata": {
        "id": "ahGTMO5yJnn4"
      }
    },
    {
      "cell_type": "code",
      "source": [
        "def evaluate_top_k_accuracy(model, data_loader, dataset_name, k=5):\n",
        "    model.eval()  # Set the model to evaluation mode\n",
        "    correct_top1_crop = 0\n",
        "    correct_top5_crop = 0\n",
        "    correct_top1_disease = 0\n",
        "    correct_top5_disease = 0\n",
        "    total_samples = 0\n",
        "\n",
        "    with torch.no_grad():\n",
        "        for images, crop_labels, disease_labels in tqdm(data_loader, desc=f\"Evaluating {dataset_name}\"):\n",
        "            images, crop_labels, disease_labels = images.to(device), crop_labels.to(device), disease_labels.to(device)\n",
        "\n",
        "            # Forward pass\n",
        "            crop_logits, disease_logits, _ = model(images)\n",
        "\n",
        "            # Top-1 Accuracy\n",
        "            _, predicted_crops = torch.max(crop_logits, 1)\n",
        "            _, predicted_diseases = torch.max(disease_logits, 1)\n",
        "            correct_top1_crop += (predicted_crops == crop_labels).sum().item()\n",
        "            correct_top1_disease += (predicted_diseases == disease_labels).sum().item()\n",
        "\n",
        "            # Top-K Accuracy\n",
        "            crop_topk = torch.topk(crop_logits, k, dim=1).indices\n",
        "            disease_topk = torch.topk(disease_logits, k, dim=1).indices\n",
        "            correct_top5_crop += sum([crop_labels[i] in crop_topk[i] for i in range(len(crop_labels))])\n",
        "            correct_top5_disease += sum([disease_labels[i] in disease_topk[i] for i in range(len(disease_labels))])\n",
        "\n",
        "            total_samples += crop_labels.size(0)\n",
        "\n",
        "    # Compute accuracies\n",
        "    top1_crop_acc = correct_top1_crop / total_samples\n",
        "    top5_crop_acc = correct_top5_crop / total_samples\n",
        "    top1_disease_acc = correct_top1_disease / total_samples\n",
        "    top5_disease_acc = correct_top5_disease / total_samples\n",
        "\n",
        "    print(f\"Dataset: {dataset_name}\")\n",
        "    print(f\"Top-1 Crop Accuracy: {top1_crop_acc:.4f}, Top-5 Crop Accuracy: {top5_crop_acc:.4f}\")\n",
        "    print(f\"Top-1 Disease Accuracy: {top1_disease_acc:.4f}, Top-5 Disease Accuracy: {top5_disease_acc:.4f}\")\n",
        "\n",
        "    return top1_crop_acc, top5_crop_acc, top1_disease_acc, top5_disease_acc\n",
        "\n",
        "# Example usage:\n",
        "evaluate_top_k_accuracy(model, test_seen_loader, \"PV Test Seen\")\n",
        "evaluate_top_k_accuracy(model, test_unseen_loader, \"PV Test Unseen\")\n",
        "evaluate_top_k_accuracy(model, plantdoc_unseen_loader, \"PD Test Unseen\")\n"
      ],
      "metadata": {
        "colab": {
          "base_uri": "https://localhost:8080/"
        },
        "id": "g03Fkptg4d3b",
        "outputId": "b38b4994-e7f8-4d31-aa9d-485e29f5966b"
      },
      "execution_count": null,
      "outputs": [
        {
          "output_type": "stream",
          "name": "stderr",
          "text": [
            "Evaluating PV Test Seen: 100%|██████████| 322/322 [00:26<00:00, 12.32it/s]\n"
          ]
        },
        {
          "output_type": "stream",
          "name": "stdout",
          "text": [
            "Dataset: PV Test Seen\n",
            "Top-1 Crop Accuracy: 0.9922, Top-5 Crop Accuracy: 0.9996\n",
            "Top-1 Disease Accuracy: 0.9702, Top-5 Disease Accuracy: 0.9998\n"
          ]
        },
        {
          "output_type": "stream",
          "name": "stderr",
          "text": [
            "Evaluating PV Test Unseen: 100%|██████████| 7/7 [00:00<00:00, 12.54it/s]\n"
          ]
        },
        {
          "output_type": "stream",
          "name": "stdout",
          "text": [
            "Dataset: PV Test Unseen\n",
            "Top-1 Crop Accuracy: 0.1759, Top-5 Crop Accuracy: 0.8056\n",
            "Top-1 Disease Accuracy: 0.1574, Top-5 Disease Accuracy: 0.5370\n"
          ]
        },
        {
          "output_type": "stream",
          "name": "stderr",
          "text": [
            "Evaluating PD Test Unseen: 100%|██████████| 3/3 [00:01<00:00,  1.73it/s]"
          ]
        },
        {
          "output_type": "stream",
          "name": "stdout",
          "text": [
            "Dataset: PD Test Unseen\n",
            "Top-1 Crop Accuracy: 0.0282, Top-5 Crop Accuracy: 0.2958\n",
            "Top-1 Disease Accuracy: 0.0423, Top-5 Disease Accuracy: 0.1831\n"
          ]
        },
        {
          "output_type": "stream",
          "name": "stderr",
          "text": [
            "\n"
          ]
        },
        {
          "output_type": "execute_result",
          "data": {
            "text/plain": [
              "(0.028169014084507043,\n",
              " 0.29577464788732394,\n",
              " 0.04225352112676056,\n",
              " 0.18309859154929578)"
            ]
          },
          "metadata": {},
          "execution_count": 10
        }
      ]
    },
    {
      "cell_type": "markdown",
      "source": [
        "Harmonic Mean Between Seen and Unseen"
      ],
      "metadata": {
        "id": "RxmXE1h8Jvpn"
      }
    },
    {
      "cell_type": "code",
      "source": [
        "def harmonic_mean(acc_seen, acc_unseen):\n",
        "    return 2 * (acc_seen * acc_unseen) / (acc_seen + acc_unseen)\n",
        "\n",
        "# Compute harmonic mean\n",
        "top1_seen_crop, _, top1_seen_disease, _ = evaluate_top_k_accuracy(model, test_seen_loader, \"PV Test Seen\", k=1)\n",
        "top1_unseen_crop, _, top1_unseen_disease, _ = evaluate_top_k_accuracy(model, test_unseen_loader, \"PV Test Unseen\", k=1)\n",
        "\n",
        "harmonic_crop = harmonic_mean(top1_seen_crop, top1_unseen_crop)\n",
        "harmonic_disease = harmonic_mean(top1_seen_disease, top1_unseen_disease)\n",
        "\n",
        "print(f\"Harmonic Mean for Crops: {harmonic_crop:.4f}\")\n",
        "print(f\"Harmonic Mean for Diseases: {harmonic_disease:.4f}\")\n"
      ],
      "metadata": {
        "colab": {
          "base_uri": "https://localhost:8080/"
        },
        "id": "PxE8w83TJv7G",
        "outputId": "d53e5530-49ad-4694-8c9b-a06dcb83a15c"
      },
      "execution_count": null,
      "outputs": [
        {
          "output_type": "stream",
          "name": "stderr",
          "text": [
            "Evaluating PV Test Seen: 100%|██████████| 322/322 [00:26<00:00, 12.30it/s]\n"
          ]
        },
        {
          "output_type": "stream",
          "name": "stdout",
          "text": [
            "Dataset: PV Test Seen\n",
            "Top-1 Crop Accuracy: 0.9922, Top-5 Crop Accuracy: 0.9922\n",
            "Top-1 Disease Accuracy: 0.9702, Top-5 Disease Accuracy: 0.9702\n"
          ]
        },
        {
          "output_type": "stream",
          "name": "stderr",
          "text": [
            "Evaluating PV Test Unseen: 100%|██████████| 7/7 [00:00<00:00, 12.41it/s]"
          ]
        },
        {
          "output_type": "stream",
          "name": "stdout",
          "text": [
            "Dataset: PV Test Unseen\n",
            "Top-1 Crop Accuracy: 0.1759, Top-5 Crop Accuracy: 0.1759\n",
            "Top-1 Disease Accuracy: 0.1574, Top-5 Disease Accuracy: 0.1574\n",
            "Harmonic Mean for Crops: 0.2989\n",
            "Harmonic Mean for Diseases: 0.2709\n"
          ]
        },
        {
          "output_type": "stream",
          "name": "stderr",
          "text": [
            "\n"
          ]
        }
      ]
    },
    {
      "cell_type": "markdown",
      "source": [
        "Confusion Matrix for Seen"
      ],
      "metadata": {
        "id": "0G5p5lo8J0c3"
      }
    },
    {
      "cell_type": "code",
      "source": [
        "from sklearn.metrics import confusion_matrix, ConfusionMatrixDisplay\n",
        "import numpy as np\n",
        "import matplotlib.pyplot as plt\n",
        "\n",
        "def generate_confusion_matrix(model, data_loader, dataset_name):\n",
        "    model.eval()\n",
        "    all_true_crop = []\n",
        "    all_pred_crop = []\n",
        "    all_true_disease = []\n",
        "    all_pred_disease = []\n",
        "\n",
        "    with torch.no_grad():\n",
        "        for images, crop_labels, disease_labels in tqdm(data_loader, desc=f\"Generating Confusion Matrix for {dataset_name}\"):\n",
        "            images, crop_labels, disease_labels = images.to(device), crop_labels.to(device), disease_labels.to(device)\n",
        "\n",
        "            crop_logits, disease_logits, _ = model(images)\n",
        "            _, predicted_crops = torch.max(crop_logits, 1)\n",
        "            _, predicted_diseases = torch.max(disease_logits, 1)\n",
        "\n",
        "            all_true_crop.extend(crop_labels.cpu().numpy())\n",
        "            all_pred_crop.extend(predicted_crops.cpu().numpy())\n",
        "            all_true_disease.extend(disease_labels.cpu().numpy())\n",
        "            all_pred_disease.extend(predicted_diseases.cpu().numpy())\n",
        "\n",
        "    # Confusion Matrices\n",
        "    crop_cm = confusion_matrix(all_true_crop, all_pred_crop)\n",
        "    disease_cm = confusion_matrix(all_true_disease, all_pred_disease)\n",
        "\n",
        "    print(f\"{dataset_name} - Crop Confusion Matrix\")\n",
        "    display = ConfusionMatrixDisplay(crop_cm, display_labels=np.arange(len(crop_cm)))\n",
        "    display.plot(cmap='Blues')\n",
        "    plt.show()\n",
        "\n",
        "    print(f\"{dataset_name} - Disease Confusion Matrix\")\n",
        "    display = ConfusionMatrixDisplay(disease_cm, display_labels=np.arange(len(disease_cm)))\n",
        "    display.plot(cmap='Blues')\n",
        "    plt.show()\n",
        "\n",
        "# Example usage:\n",
        "generate_confusion_matrix(model, test_seen_loader, \"PV Test Seen\")\n"
      ],
      "metadata": {
        "colab": {
          "base_uri": "https://localhost:8080/",
          "height": 933
        },
        "id": "-EtgzzIoJ7Su",
        "outputId": "280f7e82-8951-41bf-f53f-62c09b5b6969"
      },
      "execution_count": null,
      "outputs": [
        {
          "output_type": "stream",
          "name": "stderr",
          "text": [
            "Generating Confusion Matrix for PV Test Seen: 100%|██████████| 322/322 [00:25<00:00, 12.61it/s]\n"
          ]
        },
        {
          "output_type": "stream",
          "name": "stdout",
          "text": [
            "PV Test Seen - Crop Confusion Matrix\n"
          ]
        },
        {
          "output_type": "display_data",
          "data": {
            "text/plain": [
              "<Figure size 640x480 with 2 Axes>"
            ],
            "image/png": "[encoded data removed]"
          },
          "metadata": {}
        },
        {
          "output_type": "stream",
          "name": "stdout",
          "text": [
            "PV Test Seen - Disease Confusion Matrix\n"
          ]
        },
        {
          "output_type": "display_data",
          "data": {
            "text/plain": [
              "<Figure size 640x480 with 2 Axes>"
            ],
            "image/png": "[encoded data removed]"
          },
          "metadata": {}
        }
      ]
    },
    {
      "cell_type": "markdown",
      "source": [
        "** Use unseen data to extract features and evaluate the model's performance. **"
      ],
      "metadata": {
        "id": "gYFGYb66K0Rv"
      }
    },
    {
      "cell_type": "code",
      "source": [
        "def extract_features(model, data_loader, dataset_name):\n",
        "    model.eval()  # Set model to evaluation mode\n",
        "    features = []\n",
        "    crop_labels = []\n",
        "    disease_labels = []\n",
        "\n",
        "    with torch.no_grad():\n",
        "        for images, crop_label, disease_label in tqdm(data_loader, desc=f\"Extracting features from {dataset_name}\"):\n",
        "            images = images.to(device)\n",
        "            crop_label = crop_label.to(device)\n",
        "            disease_label = disease_label.to(device)\n",
        "\n",
        "            # Extract features from the backbone\n",
        "            features_batch = model.backbone(images)\n",
        "\n",
        "            # Save features and labels\n",
        "            features.append(features_batch.cpu())\n",
        "            crop_labels.append(crop_label.cpu())\n",
        "            disease_labels.append(disease_label.cpu())\n",
        "\n",
        "    # Combine features and labels into single tensors\n",
        "    features = torch.cat(features, dim=0)\n",
        "    crop_labels = torch.cat(crop_labels, dim=0)\n",
        "    disease_labels = torch.cat(disease_labels, dim=0)\n",
        "\n",
        "    print(f\"Features extracted from {dataset_name}: {features.shape}\")\n",
        "    return features, crop_labels, disease_labels\n"
      ],
      "metadata": {
        "id": "sZGgTUaZK1sL"
      },
      "execution_count": null,
      "outputs": []
    },
    {
      "cell_type": "code",
      "source": [
        "def evaluate_features(features, crop_labels, disease_labels, model, k=5):\n",
        "    model.eval()\n",
        "\n",
        "    correct_top1_crop = 0\n",
        "    correct_top5_crop = 0\n",
        "    correct_top1_disease = 0\n",
        "    correct_top5_disease = 0\n",
        "\n",
        "    with torch.no_grad():\n",
        "        for i in range(features.size(0)):\n",
        "            # Process features using the feature projector and normalization\n",
        "            feature = features[i].unsqueeze(0).to(device)\n",
        "            projected_feature = model.feature_projector(feature)\n",
        "            normalized_feature = torch.nn.functional.normalize(projected_feature, p=2, dim=1)\n",
        "\n",
        "            # Crop and disease classification\n",
        "            crop_logits = model.crop_classifier(normalized_feature)\n",
        "            disease_logits = model.disease_classifier(normalized_feature)\n",
        "\n",
        "            # Top-1 Accuracy\n",
        "            _, predicted_crop = torch.max(crop_logits, 1)\n",
        "            _, predicted_disease = torch.max(disease_logits, 1)\n",
        "\n",
        "            correct_top1_crop += (predicted_crop == crop_labels[i].to(device)).item()\n",
        "            correct_top1_disease += (predicted_disease == disease_labels[i].to(device)).item()\n",
        "\n",
        "            # Top-K Accuracy\n",
        "            crop_topk = torch.topk(crop_logits, k, dim=1).indices[0]  # Get top-K indices for crops\n",
        "            disease_topk = torch.topk(disease_logits, k, dim=1).indices[0]  # Get top-K indices for diseases\n",
        "\n",
        "            correct_top5_crop += crop_labels[i].item() in crop_topk.cpu().numpy()\n",
        "            correct_top5_disease += disease_labels[i].item() in disease_topk.cpu().numpy()\n",
        "\n",
        "    total_samples = features.size(0)\n",
        "\n",
        "    top1_crop_acc = correct_top1_crop / total_samples\n",
        "    top5_crop_acc = correct_top5_crop / total_samples\n",
        "    top1_disease_acc = correct_top1_disease / total_samples\n",
        "    top5_disease_acc = correct_top5_disease / total_samples\n",
        "\n",
        "    print(f\"Top-1 Crop Accuracy: {top1_crop_acc:.4f}, Top-5 Crop Accuracy: {top5_crop_acc:.4f}\")\n",
        "    print(f\"Top-1 Disease Accuracy: {top1_disease_acc:.4f}, Top-5 Disease Accuracy: {top5_disease_acc:.4f}\")\n",
        "\n",
        "    return top1_crop_acc, top5_crop_acc, top1_disease_acc, top5_disease_acc\n"
      ],
      "metadata": {
        "id": "Gw0yHTuULMRO"
      },
      "execution_count": null,
      "outputs": []
    },
    {
      "cell_type": "code",
      "source": [
        "# Extract features for unseen datasets\n",
        "pv_test_unseen_features, pv_test_unseen_crop_labels, pv_test_unseen_disease_labels = extract_features(\n",
        "    model, test_unseen_loader, \"PV Test Unseen\"\n",
        ")\n",
        "\n",
        "pd_test_unseen_features, pd_test_unseen_crop_labels, pd_test_unseen_disease_labels = extract_features(\n",
        "    model, plantdoc_unseen_loader, \"PD Test Unseen\"\n",
        ")\n",
        "\n",
        "# Evaluate performance on extracted features\n",
        "print(\"\\nEvaluating on PV Test Unseen:\")\n",
        "evaluate_features(pv_test_unseen_features, pv_test_unseen_crop_labels, pv_test_unseen_disease_labels, model)\n",
        "\n",
        "print(\"\\nEvaluating on PD Test Unseen:\")\n",
        "evaluate_features(pd_test_unseen_features, pd_test_unseen_crop_labels, pd_test_unseen_disease_labels, model)\n"
      ],
      "metadata": {
        "colab": {
          "base_uri": "https://localhost:8080/"
        },
        "id": "SnMypU5hLPwH",
        "outputId": "7b1eaf68-9f55-4505-fef7-baee862b8955"
      },
      "execution_count": null,
      "outputs": [
        {
          "output_type": "stream",
          "name": "stderr",
          "text": [
            "Extracting features from PV Test Unseen: 100%|██████████| 7/7 [00:00<00:00, 13.27it/s]\n"
          ]
        },
        {
          "output_type": "stream",
          "name": "stdout",
          "text": [
            "Features extracted from PV Test Unseen: torch.Size([216, 512])\n"
          ]
        },
        {
          "output_type": "stream",
          "name": "stderr",
          "text": [
            "Extracting features from PD Test Unseen: 100%|██████████| 3/3 [00:01<00:00,  1.82it/s]\n"
          ]
        },
        {
          "output_type": "stream",
          "name": "stdout",
          "text": [
            "Features extracted from PD Test Unseen: torch.Size([71, 512])\n",
            "\n",
            "Evaluating on PV Test Unseen:\n",
            "Top-1 Crop Accuracy: 0.1759, Top-5 Crop Accuracy: 0.8056\n",
            "Top-1 Disease Accuracy: 0.1574, Top-5 Disease Accuracy: 0.5370\n",
            "\n",
            "Evaluating on PD Test Unseen:\n",
            "Top-1 Crop Accuracy: 0.0282, Top-5 Crop Accuracy: 0.2958\n",
            "Top-1 Disease Accuracy: 0.0423, Top-5 Disease Accuracy: 0.1831\n"
          ]
        },
        {
          "output_type": "execute_result",
          "data": {
            "text/plain": [
              "(0.028169014084507043,\n",
              " 0.29577464788732394,\n",
              " 0.04225352112676056,\n",
              " 0.18309859154929578)"
            ]
          },
          "metadata": {},
          "execution_count": 15
        }
      ]
    },
    {
      "cell_type": "markdown",
      "source": [
        "test seen"
      ],
      "metadata": {
        "id": "BNo7HUzjMKwA"
      }
    },
    {
      "cell_type": "code",
      "source": [
        "# Extract features for PV Test Seen\n",
        "pv_test_seen_features, pv_test_seen_crop_labels, pv_test_seen_disease_labels = extract_features(\n",
        "    model, test_seen_loader, \"PV Test Seen\"\n",
        ")\n",
        "\n",
        "# Evaluate performance on PV Test Seen\n",
        "print(\"\\nEvaluating on PV Test Seen:\")\n",
        "evaluate_features(pv_test_seen_features, pv_test_seen_crop_labels, pv_test_seen_disease_labels, model)\n"
      ],
      "metadata": {
        "colab": {
          "base_uri": "https://localhost:8080/"
        },
        "id": "xw4yK2__MMI4",
        "outputId": "46cac4af-6dc6-4620-e754-bdb0f9d87912"
      },
      "execution_count": null,
      "outputs": [
        {
          "output_type": "stream",
          "name": "stderr",
          "text": [
            "Extracting features from PV Test Seen: 100%|██████████| 322/322 [00:25<00:00, 12.74it/s]\n"
          ]
        },
        {
          "output_type": "stream",
          "name": "stdout",
          "text": [
            "Features extracted from PV Test Seen: torch.Size([10279, 512])\n",
            "\n",
            "Evaluating on PV Test Seen:\n",
            "Top-1 Crop Accuracy: 0.9922, Top-5 Crop Accuracy: 0.9996\n",
            "Top-1 Disease Accuracy: 0.9702, Top-5 Disease Accuracy: 0.9998\n"
          ]
        },
        {
          "output_type": "execute_result",
          "data": {
            "text/plain": [
              "(0.992217141745306, 0.9996108570872653, 0.9702305671757953, 0.9998054285436326)"
            ]
          },
          "metadata": {},
          "execution_count": 16
        }
      ]
    },
    {
      "cell_type": "markdown",
      "source": [
        "Save with .h"
      ],
      "metadata": {
        "id": "a7tZNa8tMfsj"
      }
    },
    {
      "cell_type": "code",
      "source": [
        "# Save the entire model\n",
        "torch.save(model.state_dict(), 'best_model_with_domain.pth')\n"
      ],
      "metadata": {
        "id": "_RfbjuJmMhJg"
      },
      "execution_count": null,
      "outputs": []
    },
    {
      "cell_type": "code",
      "source": [
        "# Save to a specific location (e.g., Google Drive)\n",
        "model_save_path = '/content/drive/My Drive/best_model_with_domain.pth'\n",
        "torch.save(model.state_dict(), model_save_path)\n",
        "\n",
        "print(f\"Model saved at {model_save_path}\")"
      ],
      "metadata": {
        "colab": {
          "base_uri": "https://localhost:8080/"
        },
        "id": "GbPQmGnPMk07",
        "outputId": "ff19de00-12d0-4eb8-8459-1788e851cb2d"
      },
      "execution_count": null,
      "outputs": [
        {
          "output_type": "stream",
          "name": "stdout",
          "text": [
            "Model saved at /content/drive/My Drive/best_model_with_domain.pth\n"
          ]
        }
      ]
    }
  ],
  "metadata": {
    "accelerator": "GPU",
    "colab": {
      "gpuType": "A100",
      "machine_shape": "hm",
      "provenance": []
    },
    "kernelspec": {
      "display_name": "Python 3",
      "name": "python3"
    },
    "language_info": {
      "name": "python"
    },
    "widgets": {
      "application/vnd.jupyter.widget-state+json": {
        "1e06f4e668e7417cbdedae6a0d9ee3a5": {
          "model_module": "@jupyter-widgets/controls",
          "model_name": "HBoxModel",
          "model_module_version": "1.5.0",
          "state": {
            "_dom_classes": [],
            "_model_module": "@jupyter-widgets/controls",
            "_model_module_version": "1.5.0",
            "_model_name": "HBoxModel",
            "_view_count": null,
            "_view_module": "@jupyter-widgets/controls",
            "_view_module_version": "1.5.0",
            "_view_name": "HBoxView",
            "box_style": "",
            "children": [
              "IPY_MODEL_833f0cba5d6d4ca792530c9716062e2e",
              "IPY_MODEL_87ac4b696f6043a691f2b3471aa8994d",
              "IPY_MODEL_a7fabf462a1747b385972bae495db798"
            ],
            "layout": "IPY_MODEL_314c0a78fdea4494a4b129eb7b7f4463"
          }
        },
        "833f0cba5d6d4ca792530c9716062e2e": {
          "model_module": "@jupyter-widgets/controls",
          "model_name": "HTMLModel",
          "model_module_version": "1.5.0",
          "state": {
            "_dom_classes": [],
            "_model_module": "@jupyter-widgets/controls",
            "_model_module_version": "1.5.0",
            "_model_name": "HTMLModel",
            "_view_count": null,
            "_view_module": "@jupyter-widgets/controls",
            "_view_module_version": "1.5.0",
            "_view_name": "HTMLView",
            "description": "",
            "description_tooltip": null,
            "layout": "IPY_MODEL_21573ae94ffa45e0b682c240695ec324",
            "placeholder": "​",
            "style": "IPY_MODEL_9e0abc0608d3468889d8c22a42762344",
            "value": "modules.json: 100%"
          }
        },
        "87ac4b696f6043a691f2b3471aa8994d": {
          "model_module": "@jupyter-widgets/controls",
          "model_name": "FloatProgressModel",
          "model_module_version": "1.5.0",
          "state": {
            "_dom_classes": [],
            "_model_module": "@jupyter-widgets/controls",
            "_model_module_version": "1.5.0",
            "_model_name": "FloatProgressModel",
            "_view_count": null,
            "_view_module": "@jupyter-widgets/controls",
            "_view_module_version": "1.5.0",
            "_view_name": "ProgressView",
            "bar_style": "success",
            "description": "",
            "description_tooltip": null,
            "layout": "IPY_MODEL_e4534b3957e74138b319e1c1dd85fdc6",
            "max": 349,
            "min": 0,
            "orientation": "horizontal",
            "style": "IPY_MODEL_6cdb689b3bee484ba8f0e180f6395608",
            "value": 349
          }
        },
        "a7fabf462a1747b385972bae495db798": {
          "model_module": "@jupyter-widgets/controls",
          "model_name": "HTMLModel",
          "model_module_version": "1.5.0",
          "state": {
            "_dom_classes": [],
            "_model_module": "@jupyter-widgets/controls",
            "_model_module_version": "1.5.0",
            "_model_name": "HTMLModel",
            "_view_count": null,
            "_view_module": "@jupyter-widgets/controls",
            "_view_module_version": "1.5.0",
            "_view_name": "HTMLView",
            "description": "",
            "description_tooltip": null,
            "layout": "IPY_MODEL_1aa324a492cc44c0931044720321b2cb",
            "placeholder": "​",
            "style": "IPY_MODEL_c1429601aa4b4fe6a8003de50dddec7f",
            "value": " 349/349 [00:00&lt;00:00, 26.8kB/s]"
          }
        },
        "314c0a78fdea4494a4b129eb7b7f4463": {
          "model_module": "@jupyter-widgets/base",
          "model_name": "LayoutModel",
          "model_module_version": "1.2.0",
          "state": {
            "_model_module": "@jupyter-widgets/base",
            "_model_module_version": "1.2.0",
            "_model_name": "LayoutModel",
            "_view_count": null,
            "_view_module": "@jupyter-widgets/base",
            "_view_module_version": "1.2.0",
            "_view_name": "LayoutView",
            "align_content": null,
            "align_items": null,
            "align_self": null,
            "border": null,
            "bottom": null,
            "display": null,
            "flex": null,
            "flex_flow": null,
            "grid_area": null,
            "grid_auto_columns": null,
            "grid_auto_flow": null,
            "grid_auto_rows": null,
            "grid_column": null,
            "grid_gap": null,
            "grid_row": null,
            "grid_template_areas": null,
            "grid_template_columns": null,
            "grid_template_rows": null,
            "height": null,
            "justify_content": null,
            "justify_items": null,
            "left": null,
            "margin": null,
            "max_height": null,
            "max_width": null,
            "min_height": null,
            "min_width": null,
            "object_fit": null,
            "object_position": null,
            "order": null,
            "overflow": null,
            "overflow_x": null,
            "overflow_y": null,
            "padding": null,
            "right": null,
            "top": null,
            "visibility": null,
            "width": null
          }
        },
        "21573ae94ffa45e0b682c240695ec324": {
          "model_module": "@jupyter-widgets/base",
          "model_name": "LayoutModel",
          "model_module_version": "1.2.0",
          "state": {
            "_model_module": "@jupyter-widgets/base",
            "_model_module_version": "1.2.0",
            "_model_name": "LayoutModel",
            "_view_count": null,
            "_view_module": "@jupyter-widgets/base",
            "_view_module_version": "1.2.0",
            "_view_name": "LayoutView",
            "align_content": null,
            "align_items": null,
            "align_self": null,
            "border": null,
            "bottom": null,
            "display": null,
            "flex": null,
            "flex_flow": null,
            "grid_area": null,
            "grid_auto_columns": null,
            "grid_auto_flow": null,
            "grid_auto_rows": null,
            "grid_column": null,
            "grid_gap": null,
            "grid_row": null,
            "grid_template_areas": null,
            "grid_template_columns": null,
            "grid_template_rows": null,
            "height": null,
            "justify_content": null,
            "justify_items": null,
            "left": null,
            "margin": null,
            "max_height": null,
            "max_width": null,
            "min_height": null,
            "min_width": null,
            "object_fit": null,
            "object_position": null,
            "order": null,
            "overflow": null,
            "overflow_x": null,
            "overflow_y": null,
            "padding": null,
            "right": null,
            "top": null,
            "visibility": null,
            "width": null
          }
        },
        "9e0abc0608d3468889d8c22a42762344": {
          "model_module": "@jupyter-widgets/controls",
          "model_name": "DescriptionStyleModel",
          "model_module_version": "1.5.0",
          "state": {
            "_model_module": "@jupyter-widgets/controls",
            "_model_module_version": "1.5.0",
            "_model_name": "DescriptionStyleModel",
            "_view_count": null,
            "_view_module": "@jupyter-widgets/base",
            "_view_module_version": "1.2.0",
            "_view_name": "StyleView",
            "description_width": ""
          }
        },
        "e4534b3957e74138b319e1c1dd85fdc6": {
          "model_module": "@jupyter-widgets/base",
          "model_name": "LayoutModel",
          "model_module_version": "1.2.0",
          "state": {
            "_model_module": "@jupyter-widgets/base",
            "_model_module_version": "1.2.0",
            "_model_name": "LayoutModel",
            "_view_count": null,
            "_view_module": "@jupyter-widgets/base",
            "_view_module_version": "1.2.0",
            "_view_name": "LayoutView",
            "align_content": null,
            "align_items": null,
            "align_self": null,
            "border": null,
            "bottom": null,
            "display": null,
            "flex": null,
            "flex_flow": null,
            "grid_area": null,
            "grid_auto_columns": null,
            "grid_auto_flow": null,
            "grid_auto_rows": null,
            "grid_column": null,
            "grid_gap": null,
            "grid_row": null,
            "grid_template_areas": null,
            "grid_template_columns": null,
            "grid_template_rows": null,
            "height": null,
            "justify_content": null,
            "justify_items": null,
            "left": null,
            "margin": null,
            "max_height": null,
            "max_width": null,
            "min_height": null,
            "min_width": null,
            "object_fit": null,
            "object_position": null,
            "order": null,
            "overflow": null,
            "overflow_x": null,
            "overflow_y": null,
            "padding": null,
            "right": null,
            "top": null,
            "visibility": null,
            "width": null
          }
        },
        "6cdb689b3bee484ba8f0e180f6395608": {
          "model_module": "@jupyter-widgets/controls",
          "model_name": "ProgressStyleModel",
          "model_module_version": "1.5.0",
          "state": {
            "_model_module": "@jupyter-widgets/controls",
            "_model_module_version": "1.5.0",
            "_model_name": "ProgressStyleModel",
            "_view_count": null,
            "_view_module": "@jupyter-widgets/base",
            "_view_module_version": "1.2.0",
            "_view_name": "StyleView",
            "bar_color": null,
            "description_width": ""
          }
        },
        "1aa324a492cc44c0931044720321b2cb": {
          "model_module": "@jupyter-widgets/base",
          "model_name": "LayoutModel",
          "model_module_version": "1.2.0",
          "state": {
            "_model_module": "@jupyter-widgets/base",
            "_model_module_version": "1.2.0",
            "_model_name": "LayoutModel",
            "_view_count": null,
            "_view_module": "@jupyter-widgets/base",
            "_view_module_version": "1.2.0",
            "_view_name": "LayoutView",
            "align_content": null,
            "align_items": null,
            "align_self": null,
            "border": null,
            "bottom": null,
            "display": null,
            "flex": null,
            "flex_flow": null,
            "grid_area": null,
            "grid_auto_columns": null,
            "grid_auto_flow": null,
            "grid_auto_rows": null,
            "grid_column": null,
            "grid_gap": null,
            "grid_row": null,
            "grid_template_areas": null,
            "grid_template_columns": null,
            "grid_template_rows": null,
            "height": null,
            "justify_content": null,
            "justify_items": null,
            "left": null,
            "margin": null,
            "max_height": null,
            "max_width": null,
            "min_height": null,
            "min_width": null,
            "object_fit": null,
            "object_position": null,
            "order": null,
            "overflow": null,
            "overflow_x": null,
            "overflow_y": null,
            "padding": null,
            "right": null,
            "top": null,
            "visibility": null,
            "width": null
          }
        },
        "c1429601aa4b4fe6a8003de50dddec7f": {
          "model_module": "@jupyter-widgets/controls",
          "model_name": "DescriptionStyleModel",
          "model_module_version": "1.5.0",
          "state": {
            "_model_module": "@jupyter-widgets/controls",
            "_model_module_version": "1.5.0",
            "_model_name": "DescriptionStyleModel",
            "_view_count": null,
            "_view_module": "@jupyter-widgets/base",
            "_view_module_version": "1.2.0",
            "_view_name": "StyleView",
            "description_width": ""
          }
        },
        "906496925b1f407f86f4cceaf43a1b69": {
          "model_module": "@jupyter-widgets/controls",
          "model_name": "HBoxModel",
          "model_module_version": "1.5.0",
          "state": {
            "_dom_classes": [],
            "_model_module": "@jupyter-widgets/controls",
            "_model_module_version": "1.5.0",
            "_model_name": "HBoxModel",
            "_view_count": null,
            "_view_module": "@jupyter-widgets/controls",
            "_view_module_version": "1.5.0",
            "_view_name": "HBoxView",
            "box_style": "",
            "children": [
              "IPY_MODEL_6602b6c8e3224bd3b33990a7f3ff567e",
              "IPY_MODEL_de15fb81485642879175207fbe71b42b",
              "IPY_MODEL_7a4f84d44061449ebe530027242df565"
            ],
            "layout": "IPY_MODEL_c1cf79b9ec24424783d6a4414f3030f3"
          }
        },
        "6602b6c8e3224bd3b33990a7f3ff567e": {
          "model_module": "@jupyter-widgets/controls",
          "model_name": "HTMLModel",
          "model_module_version": "1.5.0",
          "state": {
            "_dom_classes": [],
            "_model_module": "@jupyter-widgets/controls",
            "_model_module_version": "1.5.0",
            "_model_name": "HTMLModel",
            "_view_count": null,
            "_view_module": "@jupyter-widgets/controls",
            "_view_module_version": "1.5.0",
            "_view_name": "HTMLView",
            "description": "",
            "description_tooltip": null,
            "layout": "IPY_MODEL_e0adc2297d6440e4bd005f766047c535",
            "placeholder": "​",
            "style": "IPY_MODEL_413add4b60ec4bdfbbd767c5d2499657",
            "value": "config_sentence_transformers.json: 100%"
          }
        },
        "de15fb81485642879175207fbe71b42b": {
          "model_module": "@jupyter-widgets/controls",
          "model_name": "FloatProgressModel",
          "model_module_version": "1.5.0",
          "state": {
            "_dom_classes": [],
            "_model_module": "@jupyter-widgets/controls",
            "_model_module_version": "1.5.0",
            "_model_name": "FloatProgressModel",
            "_view_count": null,
            "_view_module": "@jupyter-widgets/controls",
            "_view_module_version": "1.5.0",
            "_view_name": "ProgressView",
            "bar_style": "success",
            "description": "",
            "description_tooltip": null,
            "layout": "IPY_MODEL_134c946d473e41a5be8e4ad234025fdf",
            "max": 116,
            "min": 0,
            "orientation": "horizontal",
            "style": "IPY_MODEL_ed5ba325bfcf4983a2747176bc011b92",
            "value": 116
          }
        },
        "7a4f84d44061449ebe530027242df565": {
          "model_module": "@jupyter-widgets/controls",
          "model_name": "HTMLModel",
          "model_module_version": "1.5.0",
          "state": {
            "_dom_classes": [],
            "_model_module": "@jupyter-widgets/controls",
            "_model_module_version": "1.5.0",
            "_model_name": "HTMLModel",
            "_view_count": null,
            "_view_module": "@jupyter-widgets/controls",
            "_view_module_version": "1.5.0",
            "_view_name": "HTMLView",
            "description": "",
            "description_tooltip": null,
            "layout": "IPY_MODEL_e13e2f50871a45b29d905524e66a5a81",
            "placeholder": "​",
            "style": "IPY_MODEL_331257e6b8524c809e91f699b1cd74b5",
            "value": " 116/116 [00:00&lt;00:00, 8.85kB/s]"
          }
        },
        "c1cf79b9ec24424783d6a4414f3030f3": {
          "model_module": "@jupyter-widgets/base",
          "model_name": "LayoutModel",
          "model_module_version": "1.2.0",
          "state": {
            "_model_module": "@jupyter-widgets/base",
            "_model_module_version": "1.2.0",
            "_model_name": "LayoutModel",
            "_view_count": null,
            "_view_module": "@jupyter-widgets/base",
            "_view_module_version": "1.2.0",
            "_view_name": "LayoutView",
            "align_content": null,
            "align_items": null,
            "align_self": null,
            "border": null,
            "bottom": null,
            "display": null,
            "flex": null,
            "flex_flow": null,
            "grid_area": null,
            "grid_auto_columns": null,
            "grid_auto_flow": null,
            "grid_auto_rows": null,
            "grid_column": null,
            "grid_gap": null,
            "grid_row": null,
            "grid_template_areas": null,
            "grid_template_columns": null,
            "grid_template_rows": null,
            "height": null,
            "justify_content": null,
            "justify_items": null,
            "left": null,
            "margin": null,
            "max_height": null,
            "max_width": null,
            "min_height": null,
            "min_width": null,
            "object_fit": null,
            "object_position": null,
            "order": null,
            "overflow": null,
            "overflow_x": null,
            "overflow_y": null,
            "padding": null,
            "right": null,
            "top": null,
            "visibility": null,
            "width": null
          }
        },
        "e0adc2297d6440e4bd005f766047c535": {
          "model_module": "@jupyter-widgets/base",
          "model_name": "LayoutModel",
          "model_module_version": "1.2.0",
          "state": {
            "_model_module": "@jupyter-widgets/base",
            "_model_module_version": "1.2.0",
            "_model_name": "LayoutModel",
            "_view_count": null,
            "_view_module": "@jupyter-widgets/base",
            "_view_module_version": "1.2.0",
            "_view_name": "LayoutView",
            "align_content": null,
            "align_items": null,
            "align_self": null,
            "border": null,
            "bottom": null,
            "display": null,
            "flex": null,
            "flex_flow": null,
            "grid_area": null,
            "grid_auto_columns": null,
            "grid_auto_flow": null,
            "grid_auto_rows": null,
            "grid_column": null,
            "grid_gap": null,
            "grid_row": null,
            "grid_template_areas": null,
            "grid_template_columns": null,
            "grid_template_rows": null,
            "height": null,
            "justify_content": null,
            "justify_items": null,
            "left": null,
            "margin": null,
            "max_height": null,
            "max_width": null,
            "min_height": null,
            "min_width": null,
            "object_fit": null,
            "object_position": null,
            "order": null,
            "overflow": null,
            "overflow_x": null,
            "overflow_y": null,
            "padding": null,
            "right": null,
            "top": null,
            "visibility": null,
            "width": null
          }
        },
        "413add4b60ec4bdfbbd767c5d2499657": {
          "model_module": "@jupyter-widgets/controls",
          "model_name": "DescriptionStyleModel",
          "model_module_version": "1.5.0",
          "state": {
            "_model_module": "@jupyter-widgets/controls",
            "_model_module_version": "1.5.0",
            "_model_name": "DescriptionStyleModel",
            "_view_count": null,
            "_view_module": "@jupyter-widgets/base",
            "_view_module_version": "1.2.0",
            "_view_name": "StyleView",
            "description_width": ""
          }
        },
        "134c946d473e41a5be8e4ad234025fdf": {
          "model_module": "@jupyter-widgets/base",
          "model_name": "LayoutModel",
          "model_module_version": "1.2.0",
          "state": {
            "_model_module": "@jupyter-widgets/base",
            "_model_module_version": "1.2.0",
            "_model_name": "LayoutModel",
            "_view_count": null,
            "_view_module": "@jupyter-widgets/base",
            "_view_module_version": "1.2.0",
            "_view_name": "LayoutView",
            "align_content": null,
            "align_items": null,
            "align_self": null,
            "border": null,
            "bottom": null,
            "display": null,
            "flex": null,
            "flex_flow": null,
            "grid_area": null,
            "grid_auto_columns": null,
            "grid_auto_flow": null,
            "grid_auto_rows": null,
            "grid_column": null,
            "grid_gap": null,
            "grid_row": null,
            "grid_template_areas": null,
            "grid_template_columns": null,
            "grid_template_rows": null,
            "height": null,
            "justify_content": null,
            "justify_items": null,
            "left": null,
            "margin": null,
            "max_height": null,
            "max_width": null,
            "min_height": null,
            "min_width": null,
            "object_fit": null,
            "object_position": null,
            "order": null,
            "overflow": null,
            "overflow_x": null,
            "overflow_y": null,
            "padding": null,
            "right": null,
            "top": null,
            "visibility": null,
            "width": null
          }
        },
        "ed5ba325bfcf4983a2747176bc011b92": {
          "model_module": "@jupyter-widgets/controls",
          "model_name": "ProgressStyleModel",
          "model_module_version": "1.5.0",
          "state": {
            "_model_module": "@jupyter-widgets/controls",
            "_model_module_version": "1.5.0",
            "_model_name": "ProgressStyleModel",
            "_view_count": null,
            "_view_module": "@jupyter-widgets/base",
            "_view_module_version": "1.2.0",
            "_view_name": "StyleView",
            "bar_color": null,
            "description_width": ""
          }
        },
        "e13e2f50871a45b29d905524e66a5a81": {
          "model_module": "@jupyter-widgets/base",
          "model_name": "LayoutModel",
          "model_module_version": "1.2.0",
          "state": {
            "_model_module": "@jupyter-widgets/base",
            "_model_module_version": "1.2.0",
            "_model_name": "LayoutModel",
            "_view_count": null,
            "_view_module": "@jupyter-widgets/base",
            "_view_module_version": "1.2.0",
            "_view_name": "LayoutView",
            "align_content": null,
            "align_items": null,
            "align_self": null,
            "border": null,
            "bottom": null,
            "display": null,
            "flex": null,
            "flex_flow": null,
            "grid_area": null,
            "grid_auto_columns": null,
            "grid_auto_flow": null,
            "grid_auto_rows": null,
            "grid_column": null,
            "grid_gap": null,
            "grid_row": null,
            "grid_template_areas": null,
            "grid_template_columns": null,
            "grid_template_rows": null,
            "height": null,
            "justify_content": null,
            "justify_items": null,
            "left": null,
            "margin": null,
            "max_height": null,
            "max_width": null,
            "min_height": null,
            "min_width": null,
            "object_fit": null,
            "object_position": null,
            "order": null,
            "overflow": null,
            "overflow_x": null,
            "overflow_y": null,
            "padding": null,
            "right": null,
            "top": null,
            "visibility": null,
            "width": null
          }
        },
        "331257e6b8524c809e91f699b1cd74b5": {
          "model_module": "@jupyter-widgets/controls",
          "model_name": "DescriptionStyleModel",
          "model_module_version": "1.5.0",
          "state": {
            "_model_module": "@jupyter-widgets/controls",
            "_model_module_version": "1.5.0",
            "_model_name": "DescriptionStyleModel",
            "_view_count": null,
            "_view_module": "@jupyter-widgets/base",
            "_view_module_version": "1.2.0",
            "_view_name": "StyleView",
            "description_width": ""
          }
        },
        "da736ce05782477ba072ae3d8f37e62e": {
          "model_module": "@jupyter-widgets/controls",
          "model_name": "HBoxModel",
          "model_module_version": "1.5.0",
          "state": {
            "_dom_classes": [],
            "_model_module": "@jupyter-widgets/controls",
            "_model_module_version": "1.5.0",
            "_model_name": "HBoxModel",
            "_view_count": null,
            "_view_module": "@jupyter-widgets/controls",
            "_view_module_version": "1.5.0",
            "_view_name": "HBoxView",
            "box_style": "",
            "children": [
              "IPY_MODEL_6b67b9c4b6f74d468a6e8c01bdae7ef0",
              "IPY_MODEL_37f9fbfbe3504c408a2d138d1dc6774d",
              "IPY_MODEL_c811ebe3c79240019a642599a9598b3f"
            ],
            "layout": "IPY_MODEL_de623f8aaf734d8281a0757c7339af8b"
          }
        },
        "6b67b9c4b6f74d468a6e8c01bdae7ef0": {
          "model_module": "@jupyter-widgets/controls",
          "model_name": "HTMLModel",
          "model_module_version": "1.5.0",
          "state": {
            "_dom_classes": [],
            "_model_module": "@jupyter-widgets/controls",
            "_model_module_version": "1.5.0",
            "_model_name": "HTMLModel",
            "_view_count": null,
            "_view_module": "@jupyter-widgets/controls",
            "_view_module_version": "1.5.0",
            "_view_name": "HTMLView",
            "description": "",
            "description_tooltip": null,
            "layout": "IPY_MODEL_6f6f08c6c0164fb193cef7d63bb9fdb3",
            "placeholder": "​",
            "style": "IPY_MODEL_14074de2a6824059ae98e8ab3f95b78b",
            "value": "README.md: 100%"
          }
        },
        "37f9fbfbe3504c408a2d138d1dc6774d": {
          "model_module": "@jupyter-widgets/controls",
          "model_name": "FloatProgressModel",
          "model_module_version": "1.5.0",
          "state": {
            "_dom_classes": [],
            "_model_module": "@jupyter-widgets/controls",
            "_model_module_version": "1.5.0",
            "_model_name": "FloatProgressModel",
            "_view_count": null,
            "_view_module": "@jupyter-widgets/controls",
            "_view_module_version": "1.5.0",
            "_view_name": "ProgressView",
            "bar_style": "success",
            "description": "",
            "description_tooltip": null,
            "layout": "IPY_MODEL_80218a2c2a304d049849d411720c6fbb",
            "max": 10659,
            "min": 0,
            "orientation": "horizontal",
            "style": "IPY_MODEL_4269ef1b6b3246b7aa186b80a8e4fa27",
            "value": 10659
          }
        },
        "c811ebe3c79240019a642599a9598b3f": {
          "model_module": "@jupyter-widgets/controls",
          "model_name": "HTMLModel",
          "model_module_version": "1.5.0",
          "state": {
            "_dom_classes": [],
            "_model_module": "@jupyter-widgets/controls",
            "_model_module_version": "1.5.0",
            "_model_name": "HTMLModel",
            "_view_count": null,
            "_view_module": "@jupyter-widgets/controls",
            "_view_module_version": "1.5.0",
            "_view_name": "HTMLView",
            "description": "",
            "description_tooltip": null,
            "layout": "IPY_MODEL_8a6bf274e4c04a738811d7637dd96ff8",
            "placeholder": "​",
            "style": "IPY_MODEL_f086c16d3b744a9c958da1c126bc6edb",
            "value": " 10.7k/10.7k [00:00&lt;00:00, 552kB/s]"
          }
        },
        "de623f8aaf734d8281a0757c7339af8b": {
          "model_module": "@jupyter-widgets/base",
          "model_name": "LayoutModel",
          "model_module_version": "1.2.0",
          "state": {
            "_model_module": "@jupyter-widgets/base",
            "_model_module_version": "1.2.0",
            "_model_name": "LayoutModel",
            "_view_count": null,
            "_view_module": "@jupyter-widgets/base",
            "_view_module_version": "1.2.0",
            "_view_name": "LayoutView",
            "align_content": null,
            "align_items": null,
            "align_self": null,
            "border": null,
            "bottom": null,
            "display": null,
            "flex": null,
            "flex_flow": null,
            "grid_area": null,
            "grid_auto_columns": null,
            "grid_auto_flow": null,
            "grid_auto_rows": null,
            "grid_column": null,
            "grid_gap": null,
            "grid_row": null,
            "grid_template_areas": null,
            "grid_template_columns": null,
            "grid_template_rows": null,
            "height": null,
            "justify_content": null,
            "justify_items": null,
            "left": null,
            "margin": null,
            "max_height": null,
            "max_width": null,
            "min_height": null,
            "min_width": null,
            "object_fit": null,
            "object_position": null,
            "order": null,
            "overflow": null,
            "overflow_x": null,
            "overflow_y": null,
            "padding": null,
            "right": null,
            "top": null,
            "visibility": null,
            "width": null
          }
        },
        "6f6f08c6c0164fb193cef7d63bb9fdb3": {
          "model_module": "@jupyter-widgets/base",
          "model_name": "LayoutModel",
          "model_module_version": "1.2.0",
          "state": {
            "_model_module": "@jupyter-widgets/base",
            "_model_module_version": "1.2.0",
            "_model_name": "LayoutModel",
            "_view_count": null,
            "_view_module": "@jupyter-widgets/base",
            "_view_module_version": "1.2.0",
            "_view_name": "LayoutView",
            "align_content": null,
            "align_items": null,
            "align_self": null,
            "border": null,
            "bottom": null,
            "display": null,
            "flex": null,
            "flex_flow": null,
            "grid_area": null,
            "grid_auto_columns": null,
            "grid_auto_flow": null,
            "grid_auto_rows": null,
            "grid_column": null,
            "grid_gap": null,
            "grid_row": null,
            "grid_template_areas": null,
            "grid_template_columns": null,
            "grid_template_rows": null,
            "height": null,
            "justify_content": null,
            "justify_items": null,
            "left": null,
            "margin": null,
            "max_height": null,
            "max_width": null,
            "min_height": null,
            "min_width": null,
            "object_fit": null,
            "object_position": null,
            "order": null,
            "overflow": null,
            "overflow_x": null,
            "overflow_y": null,
            "padding": null,
            "right": null,
            "top": null,
            "visibility": null,
            "width": null
          }
        },
        "14074de2a6824059ae98e8ab3f95b78b": {
          "model_module": "@jupyter-widgets/controls",
          "model_name": "DescriptionStyleModel",
          "model_module_version": "1.5.0",
          "state": {
            "_model_module": "@jupyter-widgets/controls",
            "_model_module_version": "1.5.0",
            "_model_name": "DescriptionStyleModel",
            "_view_count": null,
            "_view_module": "@jupyter-widgets/base",
            "_view_module_version": "1.2.0",
            "_view_name": "StyleView",
            "description_width": ""
          }
        },
        "80218a2c2a304d049849d411720c6fbb": {
          "model_module": "@jupyter-widgets/base",
          "model_name": "LayoutModel",
          "model_module_version": "1.2.0",
          "state": {
            "_model_module": "@jupyter-widgets/base",
            "_model_module_version": "1.2.0",
            "_model_name": "LayoutModel",
            "_view_count": null,
            "_view_module": "@jupyter-widgets/base",
            "_view_module_version": "1.2.0",
            "_view_name": "LayoutView",
            "align_content": null,
            "align_items": null,
            "align_self": null,
            "border": null,
            "bottom": null,
            "display": null,
            "flex": null,
            "flex_flow": null,
            "grid_area": null,
            "grid_auto_columns": null,
            "grid_auto_flow": null,
            "grid_auto_rows": null,
            "grid_column": null,
            "grid_gap": null,
            "grid_row": null,
            "grid_template_areas": null,
            "grid_template_columns": null,
            "grid_template_rows": null,
            "height": null,
            "justify_content": null,
            "justify_items": null,
            "left": null,
            "margin": null,
            "max_height": null,
            "max_width": null,
            "min_height": null,
            "min_width": null,
            "object_fit": null,
            "object_position": null,
            "order": null,
            "overflow": null,
            "overflow_x": null,
            "overflow_y": null,
            "padding": null,
            "right": null,
            "top": null,
            "visibility": null,
            "width": null
          }
        },
        "4269ef1b6b3246b7aa186b80a8e4fa27": {
          "model_module": "@jupyter-widgets/controls",
          "model_name": "ProgressStyleModel",
          "model_module_version": "1.5.0",
          "state": {
            "_model_module": "@jupyter-widgets/controls",
            "_model_module_version": "1.5.0",
            "_model_name": "ProgressStyleModel",
            "_view_count": null,
            "_view_module": "@jupyter-widgets/base",
            "_view_module_version": "1.2.0",
            "_view_name": "StyleView",
            "bar_color": null,
            "description_width": ""
          }
        },
        "8a6bf274e4c04a738811d7637dd96ff8": {
          "model_module": "@jupyter-widgets/base",
          "model_name": "LayoutModel",
          "model_module_version": "1.2.0",
          "state": {
            "_model_module": "@jupyter-widgets/base",
            "_model_module_version": "1.2.0",
            "_model_name": "LayoutModel",
            "_view_count": null,
            "_view_module": "@jupyter-widgets/base",
            "_view_module_version": "1.2.0",
            "_view_name": "LayoutView",
            "align_content": null,
            "align_items": null,
            "align_self": null,
            "border": null,
            "bottom": null,
            "display": null,
            "flex": null,
            "flex_flow": null,
            "grid_area": null,
            "grid_auto_columns": null,
            "grid_auto_flow": null,
            "grid_auto_rows": null,
            "grid_column": null,
            "grid_gap": null,
            "grid_row": null,
            "grid_template_areas": null,
            "grid_template_columns": null,
            "grid_template_rows": null,
            "height": null,
            "justify_content": null,
            "justify_items": null,
            "left": null,
            "margin": null,
            "max_height": null,
            "max_width": null,
            "min_height": null,
            "min_width": null,
            "object_fit": null,
            "object_position": null,
            "order": null,
            "overflow": null,
            "overflow_x": null,
            "overflow_y": null,
            "padding": null,
            "right": null,
            "top": null,
            "visibility": null,
            "width": null
          }
        },
        "f086c16d3b744a9c958da1c126bc6edb": {
          "model_module": "@jupyter-widgets/controls",
          "model_name": "DescriptionStyleModel",
          "model_module_version": "1.5.0",
          "state": {
            "_model_module": "@jupyter-widgets/controls",
            "_model_module_version": "1.5.0",
            "_model_name": "DescriptionStyleModel",
            "_view_count": null,
            "_view_module": "@jupyter-widgets/base",
            "_view_module_version": "1.2.0",
            "_view_name": "StyleView",
            "description_width": ""
          }
        },
        "30100793a7dc4ca2bf49e96a853e8494": {
          "model_module": "@jupyter-widgets/controls",
          "model_name": "HBoxModel",
          "model_module_version": "1.5.0",
          "state": {
            "_dom_classes": [],
            "_model_module": "@jupyter-widgets/controls",
            "_model_module_version": "1.5.0",
            "_model_name": "HBoxModel",
            "_view_count": null,
            "_view_module": "@jupyter-widgets/controls",
            "_view_module_version": "1.5.0",
            "_view_name": "HBoxView",
            "box_style": "",
            "children": [
              "IPY_MODEL_5d67ffe2c3e847739d5667c9c41b1346",
              "IPY_MODEL_b13ff0976a904f0980d8caefb9ac8c35",
              "IPY_MODEL_978567e405854dd8b1937d6c8d8c55cb"
            ],
            "layout": "IPY_MODEL_0c35f30c7a5d4325bb4ed901abd9524d"
          }
        },
        "5d67ffe2c3e847739d5667c9c41b1346": {
          "model_module": "@jupyter-widgets/controls",
          "model_name": "HTMLModel",
          "model_module_version": "1.5.0",
          "state": {
            "_dom_classes": [],
            "_model_module": "@jupyter-widgets/controls",
            "_model_module_version": "1.5.0",
            "_model_name": "HTMLModel",
            "_view_count": null,
            "_view_module": "@jupyter-widgets/controls",
            "_view_module_version": "1.5.0",
            "_view_name": "HTMLView",
            "description": "",
            "description_tooltip": null,
            "layout": "IPY_MODEL_8fab5542079f487695f93db4cea91a1c",
            "placeholder": "​",
            "style": "IPY_MODEL_4a635abad2ee4b778d0098dbf8e49199",
            "value": "sentence_bert_config.json: 100%"
          }
        },
        "b13ff0976a904f0980d8caefb9ac8c35": {
          "model_module": "@jupyter-widgets/controls",
          "model_name": "FloatProgressModel",
          "model_module_version": "1.5.0",
          "state": {
            "_dom_classes": [],
            "_model_module": "@jupyter-widgets/controls",
            "_model_module_version": "1.5.0",
            "_model_name": "FloatProgressModel",
            "_view_count": null,
            "_view_module": "@jupyter-widgets/controls",
            "_view_module_version": "1.5.0",
            "_view_name": "ProgressView",
            "bar_style": "success",
            "description": "",
            "description_tooltip": null,
            "layout": "IPY_MODEL_b62428456d7e44b888a0eac7e50b49cd",
            "max": 53,
            "min": 0,
            "orientation": "horizontal",
            "style": "IPY_MODEL_8f90a440bdc240dab57e717fa04e7138",
            "value": 53
          }
        },
        "978567e405854dd8b1937d6c8d8c55cb": {
          "model_module": "@jupyter-widgets/controls",
          "model_name": "HTMLModel",
          "model_module_version": "1.5.0",
          "state": {
            "_dom_classes": [],
            "_model_module": "@jupyter-widgets/controls",
            "_model_module_version": "1.5.0",
            "_model_name": "HTMLModel",
            "_view_count": null,
            "_view_module": "@jupyter-widgets/controls",
            "_view_module_version": "1.5.0",
            "_view_name": "HTMLView",
            "description": "",
            "description_tooltip": null,
            "layout": "IPY_MODEL_cc18d05425074f8893b82039d134e61d",
            "placeholder": "​",
            "style": "IPY_MODEL_fa5c1a6798af405a8b0bc4c1544cc0f9",
            "value": " 53.0/53.0 [00:00&lt;00:00, 4.82kB/s]"
          }
        },
        "0c35f30c7a5d4325bb4ed901abd9524d": {
          "model_module": "@jupyter-widgets/base",
          "model_name": "LayoutModel",
          "model_module_version": "1.2.0",
          "state": {
            "_model_module": "@jupyter-widgets/base",
            "_model_module_version": "1.2.0",
            "_model_name": "LayoutModel",
            "_view_count": null,
            "_view_module": "@jupyter-widgets/base",
            "_view_module_version": "1.2.0",
            "_view_name": "LayoutView",
            "align_content": null,
            "align_items": null,
            "align_self": null,
            "border": null,
            "bottom": null,
            "display": null,
            "flex": null,
            "flex_flow": null,
            "grid_area": null,
            "grid_auto_columns": null,
            "grid_auto_flow": null,
            "grid_auto_rows": null,
            "grid_column": null,
            "grid_gap": null,
            "grid_row": null,
            "grid_template_areas": null,
            "grid_template_columns": null,
            "grid_template_rows": null,
            "height": null,
            "justify_content": null,
            "justify_items": null,
            "left": null,
            "margin": null,
            "max_height": null,
            "max_width": null,
            "min_height": null,
            "min_width": null,
            "object_fit": null,
            "object_position": null,
            "order": null,
            "overflow": null,
            "overflow_x": null,
            "overflow_y": null,
            "padding": null,
            "right": null,
            "top": null,
            "visibility": null,
            "width": null
          }
        },
        "8fab5542079f487695f93db4cea91a1c": {
          "model_module": "@jupyter-widgets/base",
          "model_name": "LayoutModel",
          "model_module_version": "1.2.0",
          "state": {
            "_model_module": "@jupyter-widgets/base",
            "_model_module_version": "1.2.0",
            "_model_name": "LayoutModel",
            "_view_count": null,
            "_view_module": "@jupyter-widgets/base",
            "_view_module_version": "1.2.0",
            "_view_name": "LayoutView",
            "align_content": null,
            "align_items": null,
            "align_self": null,
            "border": null,
            "bottom": null,
            "display": null,
            "flex": null,
            "flex_flow": null,
            "grid_area": null,
            "grid_auto_columns": null,
            "grid_auto_flow": null,
            "grid_auto_rows": null,
            "grid_column": null,
            "grid_gap": null,
            "grid_row": null,
            "grid_template_areas": null,
            "grid_template_columns": null,
            "grid_template_rows": null,
            "height": null,
            "justify_content": null,
            "justify_items": null,
            "left": null,
            "margin": null,
            "max_height": null,
            "max_width": null,
            "min_height": null,
            "min_width": null,
            "object_fit": null,
            "object_position": null,
            "order": null,
            "overflow": null,
            "overflow_x": null,
            "overflow_y": null,
            "padding": null,
            "right": null,
            "top": null,
            "visibility": null,
            "width": null
          }
        },
        "4a635abad2ee4b778d0098dbf8e49199": {
          "model_module": "@jupyter-widgets/controls",
          "model_name": "DescriptionStyleModel",
          "model_module_version": "1.5.0",
          "state": {
            "_model_module": "@jupyter-widgets/controls",
            "_model_module_version": "1.5.0",
            "_model_name": "DescriptionStyleModel",
            "_view_count": null,
            "_view_module": "@jupyter-widgets/base",
            "_view_module_version": "1.2.0",
            "_view_name": "StyleView",
            "description_width": ""
          }
        },
        "b62428456d7e44b888a0eac7e50b49cd": {
          "model_module": "@jupyter-widgets/base",
          "model_name": "LayoutModel",
          "model_module_version": "1.2.0",
          "state": {
            "_model_module": "@jupyter-widgets/base",
            "_model_module_version": "1.2.0",
            "_model_name": "LayoutModel",
            "_view_count": null,
            "_view_module": "@jupyter-widgets/base",
            "_view_module_version": "1.2.0",
            "_view_name": "LayoutView",
            "align_content": null,
            "align_items": null,
            "align_self": null,
            "border": null,
            "bottom": null,
            "display": null,
            "flex": null,
            "flex_flow": null,
            "grid_area": null,
            "grid_auto_columns": null,
            "grid_auto_flow": null,
            "grid_auto_rows": null,
            "grid_column": null,
            "grid_gap": null,
            "grid_row": null,
            "grid_template_areas": null,
            "grid_template_columns": null,
            "grid_template_rows": null,
            "height": null,
            "justify_content": null,
            "justify_items": null,
            "left": null,
            "margin": null,
            "max_height": null,
            "max_width": null,
            "min_height": null,
            "min_width": null,
            "object_fit": null,
            "object_position": null,
            "order": null,
            "overflow": null,
            "overflow_x": null,
            "overflow_y": null,
            "padding": null,
            "right": null,
            "top": null,
            "visibility": null,
            "width": null
          }
        },
        "8f90a440bdc240dab57e717fa04e7138": {
          "model_module": "@jupyter-widgets/controls",
          "model_name": "ProgressStyleModel",
          "model_module_version": "1.5.0",
          "state": {
            "_model_module": "@jupyter-widgets/controls",
            "_model_module_version": "1.5.0",
            "_model_name": "ProgressStyleModel",
            "_view_count": null,
            "_view_module": "@jupyter-widgets/base",
            "_view_module_version": "1.2.0",
            "_view_name": "StyleView",
            "bar_color": null,
            "description_width": ""
          }
        },
        "cc18d05425074f8893b82039d134e61d": {
          "model_module": "@jupyter-widgets/base",
          "model_name": "LayoutModel",
          "model_module_version": "1.2.0",
          "state": {
            "_model_module": "@jupyter-widgets/base",
            "_model_module_version": "1.2.0",
            "_model_name": "LayoutModel",
            "_view_count": null,
            "_view_module": "@jupyter-widgets/base",
            "_view_module_version": "1.2.0",
            "_view_name": "LayoutView",
            "align_content": null,
            "align_items": null,
            "align_self": null,
            "border": null,
            "bottom": null,
            "display": null,
            "flex": null,
            "flex_flow": null,
            "grid_area": null,
            "grid_auto_columns": null,
            "grid_auto_flow": null,
            "grid_auto_rows": null,
            "grid_column": null,
            "grid_gap": null,
            "grid_row": null,
            "grid_template_areas": null,
            "grid_template_columns": null,
            "grid_template_rows": null,
            "height": null,
            "justify_content": null,
            "justify_items": null,
            "left": null,
            "margin": null,
            "max_height": null,
            "max_width": null,
            "min_height": null,
            "min_width": null,
            "object_fit": null,
            "object_position": null,
            "order": null,
            "overflow": null,
            "overflow_x": null,
            "overflow_y": null,
            "padding": null,
            "right": null,
            "top": null,
            "visibility": null,
            "width": null
          }
        },
        "fa5c1a6798af405a8b0bc4c1544cc0f9": {
          "model_module": "@jupyter-widgets/controls",
          "model_name": "DescriptionStyleModel",
          "model_module_version": "1.5.0",
          "state": {
            "_model_module": "@jupyter-widgets/controls",
            "_model_module_version": "1.5.0",
            "_model_name": "DescriptionStyleModel",
            "_view_count": null,
            "_view_module": "@jupyter-widgets/base",
            "_view_module_version": "1.2.0",
            "_view_name": "StyleView",
            "description_width": ""
          }
        },
        "5610744ba14b47bf90e16c320a5ef12c": {
          "model_module": "@jupyter-widgets/controls",
          "model_name": "HBoxModel",
          "model_module_version": "1.5.0",
          "state": {
            "_dom_classes": [],
            "_model_module": "@jupyter-widgets/controls",
            "_model_module_version": "1.5.0",
            "_model_name": "HBoxModel",
            "_view_count": null,
            "_view_module": "@jupyter-widgets/controls",
            "_view_module_version": "1.5.0",
            "_view_name": "HBoxView",
            "box_style": "",
            "children": [
              "IPY_MODEL_a0a4acf79473482780f92e185c2e7ad2",
              "IPY_MODEL_784c6872aea24804983c7b974dd984c4",
              "IPY_MODEL_88e436ea45394f56a06c3959690ee754"
            ],
            "layout": "IPY_MODEL_eac26ffc98454e7dad15f6e7741ac991"
          }
        },
        "a0a4acf79473482780f92e185c2e7ad2": {
          "model_module": "@jupyter-widgets/controls",
          "model_name": "HTMLModel",
          "model_module_version": "1.5.0",
          "state": {
            "_dom_classes": [],
            "_model_module": "@jupyter-widgets/controls",
            "_model_module_version": "1.5.0",
            "_model_name": "HTMLModel",
            "_view_count": null,
            "_view_module": "@jupyter-widgets/controls",
            "_view_module_version": "1.5.0",
            "_view_name": "HTMLView",
            "description": "",
            "description_tooltip": null,
            "layout": "IPY_MODEL_9b43c7ab34494efaa23eb2df92150273",
            "placeholder": "​",
            "style": "IPY_MODEL_122d8a7c5183415e800550939301a1c3",
            "value": "config.json: 100%"
          }
        },
        "784c6872aea24804983c7b974dd984c4": {
          "model_module": "@jupyter-widgets/controls",
          "model_name": "FloatProgressModel",
          "model_module_version": "1.5.0",
          "state": {
            "_dom_classes": [],
            "_model_module": "@jupyter-widgets/controls",
            "_model_module_version": "1.5.0",
            "_model_name": "FloatProgressModel",
            "_view_count": null,
            "_view_module": "@jupyter-widgets/controls",
            "_view_module_version": "1.5.0",
            "_view_name": "ProgressView",
            "bar_style": "success",
            "description": "",
            "description_tooltip": null,
            "layout": "IPY_MODEL_a619a6eb3fa44b62a8bf967b2a61c053",
            "max": 612,
            "min": 0,
            "orientation": "horizontal",
            "style": "IPY_MODEL_806a986ed57d4bb0b62c38b6e0bd745c",
            "value": 612
          }
        },
        "88e436ea45394f56a06c3959690ee754": {
          "model_module": "@jupyter-widgets/controls",
          "model_name": "HTMLModel",
          "model_module_version": "1.5.0",
          "state": {
            "_dom_classes": [],
            "_model_module": "@jupyter-widgets/controls",
            "_model_module_version": "1.5.0",
            "_model_name": "HTMLModel",
            "_view_count": null,
            "_view_module": "@jupyter-widgets/controls",
            "_view_module_version": "1.5.0",
            "_view_name": "HTMLView",
            "description": "",
            "description_tooltip": null,
            "layout": "IPY_MODEL_a2624e7453034363ba7f33b548507c17",
            "placeholder": "​",
            "style": "IPY_MODEL_4cf170ba8ad04b0984d125c83d88ea85",
            "value": " 612/612 [00:00&lt;00:00, 48.1kB/s]"
          }
        },
        "eac26ffc98454e7dad15f6e7741ac991": {
          "model_module": "@jupyter-widgets/base",
          "model_name": "LayoutModel",
          "model_module_version": "1.2.0",
          "state": {
            "_model_module": "@jupyter-widgets/base",
            "_model_module_version": "1.2.0",
            "_model_name": "LayoutModel",
            "_view_count": null,
            "_view_module": "@jupyter-widgets/base",
            "_view_module_version": "1.2.0",
            "_view_name": "LayoutView",
            "align_content": null,
            "align_items": null,
            "align_self": null,
            "border": null,
            "bottom": null,
            "display": null,
            "flex": null,
            "flex_flow": null,
            "grid_area": null,
            "grid_auto_columns": null,
            "grid_auto_flow": null,
            "grid_auto_rows": null,
            "grid_column": null,
            "grid_gap": null,
            "grid_row": null,
            "grid_template_areas": null,
            "grid_template_columns": null,
            "grid_template_rows": null,
            "height": null,
            "justify_content": null,
            "justify_items": null,
            "left": null,
            "margin": null,
            "max_height": null,
            "max_width": null,
            "min_height": null,
            "min_width": null,
            "object_fit": null,
            "object_position": null,
            "order": null,
            "overflow": null,
            "overflow_x": null,
            "overflow_y": null,
            "padding": null,
            "right": null,
            "top": null,
            "visibility": null,
            "width": null
          }
        },
        "9b43c7ab34494efaa23eb2df92150273": {
          "model_module": "@jupyter-widgets/base",
          "model_name": "LayoutModel",
          "model_module_version": "1.2.0",
          "state": {
            "_model_module": "@jupyter-widgets/base",
            "_model_module_version": "1.2.0",
            "_model_name": "LayoutModel",
            "_view_count": null,
            "_view_module": "@jupyter-widgets/base",
            "_view_module_version": "1.2.0",
            "_view_name": "LayoutView",
            "align_content": null,
            "align_items": null,
            "align_self": null,
            "border": null,
            "bottom": null,
            "display": null,
            "flex": null,
            "flex_flow": null,
            "grid_area": null,
            "grid_auto_columns": null,
            "grid_auto_flow": null,
            "grid_auto_rows": null,
            "grid_column": null,
            "grid_gap": null,
            "grid_row": null,
            "grid_template_areas": null,
            "grid_template_columns": null,
            "grid_template_rows": null,
            "height": null,
            "justify_content": null,
            "justify_items": null,
            "left": null,
            "margin": null,
            "max_height": null,
            "max_width": null,
            "min_height": null,
            "min_width": null,
            "object_fit": null,
            "object_position": null,
            "order": null,
            "overflow": null,
            "overflow_x": null,
            "overflow_y": null,
            "padding": null,
            "right": null,
            "top": null,
            "visibility": null,
            "width": null
          }
        },
        "122d8a7c5183415e800550939301a1c3": {
          "model_module": "@jupyter-widgets/controls",
          "model_name": "DescriptionStyleModel",
          "model_module_version": "1.5.0",
          "state": {
            "_model_module": "@jupyter-widgets/controls",
            "_model_module_version": "1.5.0",
            "_model_name": "DescriptionStyleModel",
            "_view_count": null,
            "_view_module": "@jupyter-widgets/base",
            "_view_module_version": "1.2.0",
            "_view_name": "StyleView",
            "description_width": ""
          }
        },
        "a619a6eb3fa44b62a8bf967b2a61c053": {
          "model_module": "@jupyter-widgets/base",
          "model_name": "LayoutModel",
          "model_module_version": "1.2.0",
          "state": {
            "_model_module": "@jupyter-widgets/base",
            "_model_module_version": "1.2.0",
            "_model_name": "LayoutModel",
            "_view_count": null,
            "_view_module": "@jupyter-widgets/base",
            "_view_module_version": "1.2.0",
            "_view_name": "LayoutView",
            "align_content": null,
            "align_items": null,
            "align_self": null,
            "border": null,
            "bottom": null,
            "display": null,
            "flex": null,
            "flex_flow": null,
            "grid_area": null,
            "grid_auto_columns": null,
            "grid_auto_flow": null,
            "grid_auto_rows": null,
            "grid_column": null,
            "grid_gap": null,
            "grid_row": null,
            "grid_template_areas": null,
            "grid_template_columns": null,
            "grid_template_rows": null,
            "height": null,
            "justify_content": null,
            "justify_items": null,
            "left": null,
            "margin": null,
            "max_height": null,
            "max_width": null,
            "min_height": null,
            "min_width": null,
            "object_fit": null,
            "object_position": null,
            "order": null,
            "overflow": null,
            "overflow_x": null,
            "overflow_y": null,
            "padding": null,
            "right": null,
            "top": null,
            "visibility": null,
            "width": null
          }
        },
        "806a986ed57d4bb0b62c38b6e0bd745c": {
          "model_module": "@jupyter-widgets/controls",
          "model_name": "ProgressStyleModel",
          "model_module_version": "1.5.0",
          "state": {
            "_model_module": "@jupyter-widgets/controls",
            "_model_module_version": "1.5.0",
            "_model_name": "ProgressStyleModel",
            "_view_count": null,
            "_view_module": "@jupyter-widgets/base",
            "_view_module_version": "1.2.0",
            "_view_name": "StyleView",
            "bar_color": null,
            "description_width": ""
          }
        },
        "a2624e7453034363ba7f33b548507c17": {
          "model_module": "@jupyter-widgets/base",
          "model_name": "LayoutModel",
          "model_module_version": "1.2.0",
          "state": {
            "_model_module": "@jupyter-widgets/base",
            "_model_module_version": "1.2.0",
            "_model_name": "LayoutModel",
            "_view_count": null,
            "_view_module": "@jupyter-widgets/base",
            "_view_module_version": "1.2.0",
            "_view_name": "LayoutView",
            "align_content": null,
            "align_items": null,
            "align_self": null,
            "border": null,
            "bottom": null,
            "display": null,
            "flex": null,
            "flex_flow": null,
            "grid_area": null,
            "grid_auto_columns": null,
            "grid_auto_flow": null,
            "grid_auto_rows": null,
            "grid_column": null,
            "grid_gap": null,
            "grid_row": null,
            "grid_template_areas": null,
            "grid_template_columns": null,
            "grid_template_rows": null,
            "height": null,
            "justify_content": null,
            "justify_items": null,
            "left": null,
            "margin": null,
            "max_height": null,
            "max_width": null,
            "min_height": null,
            "min_width": null,
            "object_fit": null,
            "object_position": null,
            "order": null,
            "overflow": null,
            "overflow_x": null,
            "overflow_y": null,
            "padding": null,
            "right": null,
            "top": null,
            "visibility": null,
            "width": null
          }
        },
        "4cf170ba8ad04b0984d125c83d88ea85": {
          "model_module": "@jupyter-widgets/controls",
          "model_name": "DescriptionStyleModel",
          "model_module_version": "1.5.0",
          "state": {
            "_model_module": "@jupyter-widgets/controls",
            "_model_module_version": "1.5.0",
            "_model_name": "DescriptionStyleModel",
            "_view_count": null,
            "_view_module": "@jupyter-widgets/base",
            "_view_module_version": "1.2.0",
            "_view_name": "StyleView",
            "description_width": ""
          }
        },
        "c54f56ffa36b4d60999c0df112f889e3": {
          "model_module": "@jupyter-widgets/controls",
          "model_name": "HBoxModel",
          "model_module_version": "1.5.0",
          "state": {
            "_dom_classes": [],
            "_model_module": "@jupyter-widgets/controls",
            "_model_module_version": "1.5.0",
            "_model_name": "HBoxModel",
            "_view_count": null,
            "_view_module": "@jupyter-widgets/controls",
            "_view_module_version": "1.5.0",
            "_view_name": "HBoxView",
            "box_style": "",
            "children": [
              "IPY_MODEL_a9ec0ae32bf84bdf9ca507572b662ed9",
              "IPY_MODEL_1d7c3443b4ef4c259d9f45afe0399f51",
              "IPY_MODEL_ecc0151dac304b5b85a9301bf69d21cc"
            ],
            "layout": "IPY_MODEL_399285d3f3694b00b77b2a264d10b4cc"
          }
        },
        "a9ec0ae32bf84bdf9ca507572b662ed9": {
          "model_module": "@jupyter-widgets/controls",
          "model_name": "HTMLModel",
          "model_module_version": "1.5.0",
          "state": {
            "_dom_classes": [],
            "_model_module": "@jupyter-widgets/controls",
            "_model_module_version": "1.5.0",
            "_model_name": "HTMLModel",
            "_view_count": null,
            "_view_module": "@jupyter-widgets/controls",
            "_view_module_version": "1.5.0",
            "_view_name": "HTMLView",
            "description": "",
            "description_tooltip": null,
            "layout": "IPY_MODEL_58c20bf606824efbb08ae5476a0b88ea",
            "placeholder": "​",
            "style": "IPY_MODEL_61f72a39792c4fa3935b573de2bfdde3",
            "value": "model.safetensors: 100%"
          }
        },
        "1d7c3443b4ef4c259d9f45afe0399f51": {
          "model_module": "@jupyter-widgets/controls",
          "model_name": "FloatProgressModel",
          "model_module_version": "1.5.0",
          "state": {
            "_dom_classes": [],
            "_model_module": "@jupyter-widgets/controls",
            "_model_module_version": "1.5.0",
            "_model_name": "FloatProgressModel",
            "_view_count": null,
            "_view_module": "@jupyter-widgets/controls",
            "_view_module_version": "1.5.0",
            "_view_name": "ProgressView",
            "bar_style": "success",
            "description": "",
            "description_tooltip": null,
            "layout": "IPY_MODEL_3655c295c7ba4068b4b5be6bf39613f3",
            "max": 90868376,
            "min": 0,
            "orientation": "horizontal",
            "style": "IPY_MODEL_7468b5adbdc346f9bd783f315f47000a",
            "value": 90868376
          }
        },
        "ecc0151dac304b5b85a9301bf69d21cc": {
          "model_module": "@jupyter-widgets/controls",
          "model_name": "HTMLModel",
          "model_module_version": "1.5.0",
          "state": {
            "_dom_classes": [],
            "_model_module": "@jupyter-widgets/controls",
            "_model_module_version": "1.5.0",
            "_model_name": "HTMLModel",
            "_view_count": null,
            "_view_module": "@jupyter-widgets/controls",
            "_view_module_version": "1.5.0",
            "_view_name": "HTMLView",
            "description": "",
            "description_tooltip": null,
            "layout": "IPY_MODEL_bc23eb17ca4c41bb97785c53456dae36",
            "placeholder": "​",
            "style": "IPY_MODEL_d9008c2fc3994e0d8f8e021cf979e418",
            "value": " 90.9M/90.9M [00:00&lt;00:00, 151MB/s]"
          }
        },
        "399285d3f3694b00b77b2a264d10b4cc": {
          "model_module": "@jupyter-widgets/base",
          "model_name": "LayoutModel",
          "model_module_version": "1.2.0",
          "state": {
            "_model_module": "@jupyter-widgets/base",
            "_model_module_version": "1.2.0",
            "_model_name": "LayoutModel",
            "_view_count": null,
            "_view_module": "@jupyter-widgets/base",
            "_view_module_version": "1.2.0",
            "_view_name": "LayoutView",
            "align_content": null,
            "align_items": null,
            "align_self": null,
            "border": null,
            "bottom": null,
            "display": null,
            "flex": null,
            "flex_flow": null,
            "grid_area": null,
            "grid_auto_columns": null,
            "grid_auto_flow": null,
            "grid_auto_rows": null,
            "grid_column": null,
            "grid_gap": null,
            "grid_row": null,
            "grid_template_areas": null,
            "grid_template_columns": null,
            "grid_template_rows": null,
            "height": null,
            "justify_content": null,
            "justify_items": null,
            "left": null,
            "margin": null,
            "max_height": null,
            "max_width": null,
            "min_height": null,
            "min_width": null,
            "object_fit": null,
            "object_position": null,
            "order": null,
            "overflow": null,
            "overflow_x": null,
            "overflow_y": null,
            "padding": null,
            "right": null,
            "top": null,
            "visibility": null,
            "width": null
          }
        },
        "58c20bf606824efbb08ae5476a0b88ea": {
          "model_module": "@jupyter-widgets/base",
          "model_name": "LayoutModel",
          "model_module_version": "1.2.0",
          "state": {
            "_model_module": "@jupyter-widgets/base",
            "_model_module_version": "1.2.0",
            "_model_name": "LayoutModel",
            "_view_count": null,
            "_view_module": "@jupyter-widgets/base",
            "_view_module_version": "1.2.0",
            "_view_name": "LayoutView",
            "align_content": null,
            "align_items": null,
            "align_self": null,
            "border": null,
            "bottom": null,
            "display": null,
            "flex": null,
            "flex_flow": null,
            "grid_area": null,
            "grid_auto_columns": null,
            "grid_auto_flow": null,
            "grid_auto_rows": null,
            "grid_column": null,
            "grid_gap": null,
            "grid_row": null,
            "grid_template_areas": null,
            "grid_template_columns": null,
            "grid_template_rows": null,
            "height": null,
            "justify_content": null,
            "justify_items": null,
            "left": null,
            "margin": null,
            "max_height": null,
            "max_width": null,
            "min_height": null,
            "min_width": null,
            "object_fit": null,
            "object_position": null,
            "order": null,
            "overflow": null,
            "overflow_x": null,
            "overflow_y": null,
            "padding": null,
            "right": null,
            "top": null,
            "visibility": null,
            "width": null
          }
        },
        "61f72a39792c4fa3935b573de2bfdde3": {
          "model_module": "@jupyter-widgets/controls",
          "model_name": "DescriptionStyleModel",
          "model_module_version": "1.5.0",
          "state": {
            "_model_module": "@jupyter-widgets/controls",
            "_model_module_version": "1.5.0",
            "_model_name": "DescriptionStyleModel",
            "_view_count": null,
            "_view_module": "@jupyter-widgets/base",
            "_view_module_version": "1.2.0",
            "_view_name": "StyleView",
            "description_width": ""
          }
        },
        "3655c295c7ba4068b4b5be6bf39613f3": {
          "model_module": "@jupyter-widgets/base",
          "model_name": "LayoutModel",
          "model_module_version": "1.2.0",
          "state": {
            "_model_module": "@jupyter-widgets/base",
            "_model_module_version": "1.2.0",
            "_model_name": "LayoutModel",
            "_view_count": null,
            "_view_module": "@jupyter-widgets/base",
            "_view_module_version": "1.2.0",
            "_view_name": "LayoutView",
            "align_content": null,
            "align_items": null,
            "align_self": null,
            "border": null,
            "bottom": null,
            "display": null,
            "flex": null,
            "flex_flow": null,
            "grid_area": null,
            "grid_auto_columns": null,
            "grid_auto_flow": null,
            "grid_auto_rows": null,
            "grid_column": null,
            "grid_gap": null,
            "grid_row": null,
            "grid_template_areas": null,
            "grid_template_columns": null,
            "grid_template_rows": null,
            "height": null,
            "justify_content": null,
            "justify_items": null,
            "left": null,
            "margin": null,
            "max_height": null,
            "max_width": null,
            "min_height": null,
            "min_width": null,
            "object_fit": null,
            "object_position": null,
            "order": null,
            "overflow": null,
            "overflow_x": null,
            "overflow_y": null,
            "padding": null,
            "right": null,
            "top": null,
            "visibility": null,
            "width": null
          }
        },
        "7468b5adbdc346f9bd783f315f47000a": {
          "model_module": "@jupyter-widgets/controls",
          "model_name": "ProgressStyleModel",
          "model_module_version": "1.5.0",
          "state": {
            "_model_module": "@jupyter-widgets/controls",
            "_model_module_version": "1.5.0",
            "_model_name": "ProgressStyleModel",
            "_view_count": null,
            "_view_module": "@jupyter-widgets/base",
            "_view_module_version": "1.2.0",
            "_view_name": "StyleView",
            "bar_color": null,
            "description_width": ""
          }
        },
        "bc23eb17ca4c41bb97785c53456dae36": {
          "model_module": "@jupyter-widgets/base",
          "model_name": "LayoutModel",
          "model_module_version": "1.2.0",
          "state": {
            "_model_module": "@jupyter-widgets/base",
            "_model_module_version": "1.2.0",
            "_model_name": "LayoutModel",
            "_view_count": null,
            "_view_module": "@jupyter-widgets/base",
            "_view_module_version": "1.2.0",
            "_view_name": "LayoutView",
            "align_content": null,
            "align_items": null,
            "align_self": null,
            "border": null,
            "bottom": null,
            "display": null,
            "flex": null,
            "flex_flow": null,
            "grid_area": null,
            "grid_auto_columns": null,
            "grid_auto_flow": null,
            "grid_auto_rows": null,
            "grid_column": null,
            "grid_gap": null,
            "grid_row": null,
            "grid_template_areas": null,
            "grid_template_columns": null,
            "grid_template_rows": null,
            "height": null,
            "justify_content": null,
            "justify_items": null,
            "left": null,
            "margin": null,
            "max_height": null,
            "max_width": null,
            "min_height": null,
            "min_width": null,
            "object_fit": null,
            "object_position": null,
            "order": null,
            "overflow": null,
            "overflow_x": null,
            "overflow_y": null,
            "padding": null,
            "right": null,
            "top": null,
            "visibility": null,
            "width": null
          }
        },
        "d9008c2fc3994e0d8f8e021cf979e418": {
          "model_module": "@jupyter-widgets/controls",
          "model_name": "DescriptionStyleModel",
          "model_module_version": "1.5.0",
          "state": {
            "_model_module": "@jupyter-widgets/controls",
            "_model_module_version": "1.5.0",
            "_model_name": "DescriptionStyleModel",
            "_view_count": null,
            "_view_module": "@jupyter-widgets/base",
            "_view_module_version": "1.2.0",
            "_view_name": "StyleView",
            "description_width": ""
          }
        },
        "f336f94083724453bc99cb587a11d884": {
          "model_module": "@jupyter-widgets/controls",
          "model_name": "HBoxModel",
          "model_module_version": "1.5.0",
          "state": {
            "_dom_classes": [],
            "_model_module": "@jupyter-widgets/controls",
            "_model_module_version": "1.5.0",
            "_model_name": "HBoxModel",
            "_view_count": null,
            "_view_module": "@jupyter-widgets/controls",
            "_view_module_version": "1.5.0",
            "_view_name": "HBoxView",
            "box_style": "",
            "children": [
              "IPY_MODEL_d048b6e5c30f46c8875e9804a3d37328",
              "IPY_MODEL_b5c9a5b990204711acb2d80159fb9450",
              "IPY_MODEL_6ac501c26d9047e992d13872055565e1"
            ],
            "layout": "IPY_MODEL_7a2b67325189404aaa093a15f5a3b71d"
          }
        },
        "d048b6e5c30f46c8875e9804a3d37328": {
          "model_module": "@jupyter-widgets/controls",
          "model_name": "HTMLModel",
          "model_module_version": "1.5.0",
          "state": {
            "_dom_classes": [],
            "_model_module": "@jupyter-widgets/controls",
            "_model_module_version": "1.5.0",
            "_model_name": "HTMLModel",
            "_view_count": null,
            "_view_module": "@jupyter-widgets/controls",
            "_view_module_version": "1.5.0",
            "_view_name": "HTMLView",
            "description": "",
            "description_tooltip": null,
            "layout": "IPY_MODEL_77b320e60f854270b135fbb509a060f4",
            "placeholder": "​",
            "style": "IPY_MODEL_b693d965cb2e476f8d7e40f3b448d83f",
            "value": "tokenizer_config.json: 100%"
          }
        },
        "b5c9a5b990204711acb2d80159fb9450": {
          "model_module": "@jupyter-widgets/controls",
          "model_name": "FloatProgressModel",
          "model_module_version": "1.5.0",
          "state": {
            "_dom_classes": [],
            "_model_module": "@jupyter-widgets/controls",
            "_model_module_version": "1.5.0",
            "_model_name": "FloatProgressModel",
            "_view_count": null,
            "_view_module": "@jupyter-widgets/controls",
            "_view_module_version": "1.5.0",
            "_view_name": "ProgressView",
            "bar_style": "success",
            "description": "",
            "description_tooltip": null,
            "layout": "IPY_MODEL_408a79f7145f4e47b20950ff5d79044c",
            "max": 350,
            "min": 0,
            "orientation": "horizontal",
            "style": "IPY_MODEL_95e1558b2b1e487e9d9caf8314b2c51a",
            "value": 350
          }
        },
        "6ac501c26d9047e992d13872055565e1": {
          "model_module": "@jupyter-widgets/controls",
          "model_name": "HTMLModel",
          "model_module_version": "1.5.0",
          "state": {
            "_dom_classes": [],
            "_model_module": "@jupyter-widgets/controls",
            "_model_module_version": "1.5.0",
            "_model_name": "HTMLModel",
            "_view_count": null,
            "_view_module": "@jupyter-widgets/controls",
            "_view_module_version": "1.5.0",
            "_view_name": "HTMLView",
            "description": "",
            "description_tooltip": null,
            "layout": "IPY_MODEL_e1dc22af7cbd4b9babcfb8384bdb4c1d",
            "placeholder": "​",
            "style": "IPY_MODEL_9988bbd7e0814e08bfe969f3799a3a09",
            "value": " 350/350 [00:00&lt;00:00, 21.1kB/s]"
          }
        },
        "7a2b67325189404aaa093a15f5a3b71d": {
          "model_module": "@jupyter-widgets/base",
          "model_name": "LayoutModel",
          "model_module_version": "1.2.0",
          "state": {
            "_model_module": "@jupyter-widgets/base",
            "_model_module_version": "1.2.0",
            "_model_name": "LayoutModel",
            "_view_count": null,
            "_view_module": "@jupyter-widgets/base",
            "_view_module_version": "1.2.0",
            "_view_name": "LayoutView",
            "align_content": null,
            "align_items": null,
            "align_self": null,
            "border": null,
            "bottom": null,
            "display": null,
            "flex": null,
            "flex_flow": null,
            "grid_area": null,
            "grid_auto_columns": null,
            "grid_auto_flow": null,
            "grid_auto_rows": null,
            "grid_column": null,
            "grid_gap": null,
            "grid_row": null,
            "grid_template_areas": null,
            "grid_template_columns": null,
            "grid_template_rows": null,
            "height": null,
            "justify_content": null,
            "justify_items": null,
            "left": null,
            "margin": null,
            "max_height": null,
            "max_width": null,
            "min_height": null,
            "min_width": null,
            "object_fit": null,
            "object_position": null,
            "order": null,
            "overflow": null,
            "overflow_x": null,
            "overflow_y": null,
            "padding": null,
            "right": null,
            "top": null,
            "visibility": null,
            "width": null
          }
        },
        "77b320e60f854270b135fbb509a060f4": {
          "model_module": "@jupyter-widgets/base",
          "model_name": "LayoutModel",
          "model_module_version": "1.2.0",
          "state": {
            "_model_module": "@jupyter-widgets/base",
            "_model_module_version": "1.2.0",
            "_model_name": "LayoutModel",
            "_view_count": null,
            "_view_module": "@jupyter-widgets/base",
            "_view_module_version": "1.2.0",
            "_view_name": "LayoutView",
            "align_content": null,
            "align_items": null,
            "align_self": null,
            "border": null,
            "bottom": null,
            "display": null,
            "flex": null,
            "flex_flow": null,
            "grid_area": null,
            "grid_auto_columns": null,
            "grid_auto_flow": null,
            "grid_auto_rows": null,
            "grid_column": null,
            "grid_gap": null,
            "grid_row": null,
            "grid_template_areas": null,
            "grid_template_columns": null,
            "grid_template_rows": null,
            "height": null,
            "justify_content": null,
            "justify_items": null,
            "left": null,
            "margin": null,
            "max_height": null,
            "max_width": null,
            "min_height": null,
            "min_width": null,
            "object_fit": null,
            "object_position": null,
            "order": null,
            "overflow": null,
            "overflow_x": null,
            "overflow_y": null,
            "padding": null,
            "right": null,
            "top": null,
            "visibility": null,
            "width": null
          }
        },
        "b693d965cb2e476f8d7e40f3b448d83f": {
          "model_module": "@jupyter-widgets/controls",
          "model_name": "DescriptionStyleModel",
          "model_module_version": "1.5.0",
          "state": {
            "_model_module": "@jupyter-widgets/controls",
            "_model_module_version": "1.5.0",
            "_model_name": "DescriptionStyleModel",
            "_view_count": null,
            "_view_module": "@jupyter-widgets/base",
            "_view_module_version": "1.2.0",
            "_view_name": "StyleView",
            "description_width": ""
          }
        },
        "408a79f7145f4e47b20950ff5d79044c": {
          "model_module": "@jupyter-widgets/base",
          "model_name": "LayoutModel",
          "model_module_version": "1.2.0",
          "state": {
            "_model_module": "@jupyter-widgets/base",
            "_model_module_version": "1.2.0",
            "_model_name": "LayoutModel",
            "_view_count": null,
            "_view_module": "@jupyter-widgets/base",
            "_view_module_version": "1.2.0",
            "_view_name": "LayoutView",
            "align_content": null,
            "align_items": null,
            "align_self": null,
            "border": null,
            "bottom": null,
            "display": null,
            "flex": null,
            "flex_flow": null,
            "grid_area": null,
            "grid_auto_columns": null,
            "grid_auto_flow": null,
            "grid_auto_rows": null,
            "grid_column": null,
            "grid_gap": null,
            "grid_row": null,
            "grid_template_areas": null,
            "grid_template_columns": null,
            "grid_template_rows": null,
            "height": null,
            "justify_content": null,
            "justify_items": null,
            "left": null,
            "margin": null,
            "max_height": null,
            "max_width": null,
            "min_height": null,
            "min_width": null,
            "object_fit": null,
            "object_position": null,
            "order": null,
            "overflow": null,
            "overflow_x": null,
            "overflow_y": null,
            "padding": null,
            "right": null,
            "top": null,
            "visibility": null,
            "width": null
          }
        },
        "95e1558b2b1e487e9d9caf8314b2c51a": {
          "model_module": "@jupyter-widgets/controls",
          "model_name": "ProgressStyleModel",
          "model_module_version": "1.5.0",
          "state": {
            "_model_module": "@jupyter-widgets/controls",
            "_model_module_version": "1.5.0",
            "_model_name": "ProgressStyleModel",
            "_view_count": null,
            "_view_module": "@jupyter-widgets/base",
            "_view_module_version": "1.2.0",
            "_view_name": "StyleView",
            "bar_color": null,
            "description_width": ""
          }
        },
        "e1dc22af7cbd4b9babcfb8384bdb4c1d": {
          "model_module": "@jupyter-widgets/base",
          "model_name": "LayoutModel",
          "model_module_version": "1.2.0",
          "state": {
            "_model_module": "@jupyter-widgets/base",
            "_model_module_version": "1.2.0",
            "_model_name": "LayoutModel",
            "_view_count": null,
            "_view_module": "@jupyter-widgets/base",
            "_view_module_version": "1.2.0",
            "_view_name": "LayoutView",
            "align_content": null,
            "align_items": null,
            "align_self": null,
            "border": null,
            "bottom": null,
            "display": null,
            "flex": null,
            "flex_flow": null,
            "grid_area": null,
            "grid_auto_columns": null,
            "grid_auto_flow": null,
            "grid_auto_rows": null,
            "grid_column": null,
            "grid_gap": null,
            "grid_row": null,
            "grid_template_areas": null,
            "grid_template_columns": null,
            "grid_template_rows": null,
            "height": null,
            "justify_content": null,
            "justify_items": null,
            "left": null,
            "margin": null,
            "max_height": null,
            "max_width": null,
            "min_height": null,
            "min_width": null,
            "object_fit": null,
            "object_position": null,
            "order": null,
            "overflow": null,
            "overflow_x": null,
            "overflow_y": null,
            "padding": null,
            "right": null,
            "top": null,
            "visibility": null,
            "width": null
          }
        },
        "9988bbd7e0814e08bfe969f3799a3a09": {
          "model_module": "@jupyter-widgets/controls",
          "model_name": "DescriptionStyleModel",
          "model_module_version": "1.5.0",
          "state": {
            "_model_module": "@jupyter-widgets/controls",
            "_model_module_version": "1.5.0",
            "_model_name": "DescriptionStyleModel",
            "_view_count": null,
            "_view_module": "@jupyter-widgets/base",
            "_view_module_version": "1.2.0",
            "_view_name": "StyleView",
            "description_width": ""
          }
        },
        "36a145d23b6e4bc7a7651fc8e4b88a61": {
          "model_module": "@jupyter-widgets/controls",
          "model_name": "HBoxModel",
          "model_module_version": "1.5.0",
          "state": {
            "_dom_classes": [],
            "_model_module": "@jupyter-widgets/controls",
            "_model_module_version": "1.5.0",
            "_model_name": "HBoxModel",
            "_view_count": null,
            "_view_module": "@jupyter-widgets/controls",
            "_view_module_version": "1.5.0",
            "_view_name": "HBoxView",
            "box_style": "",
            "children": [
              "IPY_MODEL_d12072023de94c5abef76d7d859b4ecd",
              "IPY_MODEL_54497bdffdbe461798b2e8c6655303f3",
              "IPY_MODEL_6f2400ae01c44d2d892f316184968ad5"
            ],
            "layout": "IPY_MODEL_b2754e89e0134eb9b82f379d4aac629b"
          }
        },
        "d12072023de94c5abef76d7d859b4ecd": {
          "model_module": "@jupyter-widgets/controls",
          "model_name": "HTMLModel",
          "model_module_version": "1.5.0",
          "state": {
            "_dom_classes": [],
            "_model_module": "@jupyter-widgets/controls",
            "_model_module_version": "1.5.0",
            "_model_name": "HTMLModel",
            "_view_count": null,
            "_view_module": "@jupyter-widgets/controls",
            "_view_module_version": "1.5.0",
            "_view_name": "HTMLView",
            "description": "",
            "description_tooltip": null,
            "layout": "IPY_MODEL_c69c0d26a6d34765aa4c9abc7b1320c2",
            "placeholder": "​",
            "style": "IPY_MODEL_1620acfaa2374338b5addc57733fab62",
            "value": "vocab.txt: 100%"
          }
        },
        "54497bdffdbe461798b2e8c6655303f3": {
          "model_module": "@jupyter-widgets/controls",
          "model_name": "FloatProgressModel",
          "model_module_version": "1.5.0",
          "state": {
            "_dom_classes": [],
            "_model_module": "@jupyter-widgets/controls",
            "_model_module_version": "1.5.0",
            "_model_name": "FloatProgressModel",
            "_view_count": null,
            "_view_module": "@jupyter-widgets/controls",
            "_view_module_version": "1.5.0",
            "_view_name": "ProgressView",
            "bar_style": "success",
            "description": "",
            "description_tooltip": null,
            "layout": "IPY_MODEL_96fdc3190eaa4cae9f365ee38ed7c835",
            "max": 231508,
            "min": 0,
            "orientation": "horizontal",
            "style": "IPY_MODEL_c3f23fb801354cb4b629702d90e6f2d4",
            "value": 231508
          }
        },
        "6f2400ae01c44d2d892f316184968ad5": {
          "model_module": "@jupyter-widgets/controls",
          "model_name": "HTMLModel",
          "model_module_version": "1.5.0",
          "state": {
            "_dom_classes": [],
            "_model_module": "@jupyter-widgets/controls",
            "_model_module_version": "1.5.0",
            "_model_name": "HTMLModel",
            "_view_count": null,
            "_view_module": "@jupyter-widgets/controls",
            "_view_module_version": "1.5.0",
            "_view_name": "HTMLView",
            "description": "",
            "description_tooltip": null,
            "layout": "IPY_MODEL_8a91b681ceed459ba6549bbeb0ebd9f2",
            "placeholder": "​",
            "style": "IPY_MODEL_790ab3b12fe249f8bc3144b7bcbc2b77",
            "value": " 232k/232k [00:00&lt;00:00, 1.75MB/s]"
          }
        },
        "b2754e89e0134eb9b82f379d4aac629b": {
          "model_module": "@jupyter-widgets/base",
          "model_name": "LayoutModel",
          "model_module_version": "1.2.0",
          "state": {
            "_model_module": "@jupyter-widgets/base",
            "_model_module_version": "1.2.0",
            "_model_name": "LayoutModel",
            "_view_count": null,
            "_view_module": "@jupyter-widgets/base",
            "_view_module_version": "1.2.0",
            "_view_name": "LayoutView",
            "align_content": null,
            "align_items": null,
            "align_self": null,
            "border": null,
            "bottom": null,
            "display": null,
            "flex": null,
            "flex_flow": null,
            "grid_area": null,
            "grid_auto_columns": null,
            "grid_auto_flow": null,
            "grid_auto_rows": null,
            "grid_column": null,
            "grid_gap": null,
            "grid_row": null,
            "grid_template_areas": null,
            "grid_template_columns": null,
            "grid_template_rows": null,
            "height": null,
            "justify_content": null,
            "justify_items": null,
            "left": null,
            "margin": null,
            "max_height": null,
            "max_width": null,
            "min_height": null,
            "min_width": null,
            "object_fit": null,
            "object_position": null,
            "order": null,
            "overflow": null,
            "overflow_x": null,
            "overflow_y": null,
            "padding": null,
            "right": null,
            "top": null,
            "visibility": null,
            "width": null
          }
        },
        "c69c0d26a6d34765aa4c9abc7b1320c2": {
          "model_module": "@jupyter-widgets/base",
          "model_name": "LayoutModel",
          "model_module_version": "1.2.0",
          "state": {
            "_model_module": "@jupyter-widgets/base",
            "_model_module_version": "1.2.0",
            "_model_name": "LayoutModel",
            "_view_count": null,
            "_view_module": "@jupyter-widgets/base",
            "_view_module_version": "1.2.0",
            "_view_name": "LayoutView",
            "align_content": null,
            "align_items": null,
            "align_self": null,
            "border": null,
            "bottom": null,
            "display": null,
            "flex": null,
            "flex_flow": null,
            "grid_area": null,
            "grid_auto_columns": null,
            "grid_auto_flow": null,
            "grid_auto_rows": null,
            "grid_column": null,
            "grid_gap": null,
            "grid_row": null,
            "grid_template_areas": null,
            "grid_template_columns": null,
            "grid_template_rows": null,
            "height": null,
            "justify_content": null,
            "justify_items": null,
            "left": null,
            "margin": null,
            "max_height": null,
            "max_width": null,
            "min_height": null,
            "min_width": null,
            "object_fit": null,
            "object_position": null,
            "order": null,
            "overflow": null,
            "overflow_x": null,
            "overflow_y": null,
            "padding": null,
            "right": null,
            "top": null,
            "visibility": null,
            "width": null
          }
        },
        "1620acfaa2374338b5addc57733fab62": {
          "model_module": "@jupyter-widgets/controls",
          "model_name": "DescriptionStyleModel",
          "model_module_version": "1.5.0",
          "state": {
            "_model_module": "@jupyter-widgets/controls",
            "_model_module_version": "1.5.0",
            "_model_name": "DescriptionStyleModel",
            "_view_count": null,
            "_view_module": "@jupyter-widgets/base",
            "_view_module_version": "1.2.0",
            "_view_name": "StyleView",
            "description_width": ""
          }
        },
        "96fdc3190eaa4cae9f365ee38ed7c835": {
          "model_module": "@jupyter-widgets/base",
          "model_name": "LayoutModel",
          "model_module_version": "1.2.0",
          "state": {
            "_model_module": "@jupyter-widgets/base",
            "_model_module_version": "1.2.0",
            "_model_name": "LayoutModel",
            "_view_count": null,
            "_view_module": "@jupyter-widgets/base",
            "_view_module_version": "1.2.0",
            "_view_name": "LayoutView",
            "align_content": null,
            "align_items": null,
            "align_self": null,
            "border": null,
            "bottom": null,
            "display": null,
            "flex": null,
            "flex_flow": null,
            "grid_area": null,
            "grid_auto_columns": null,
            "grid_auto_flow": null,
            "grid_auto_rows": null,
            "grid_column": null,
            "grid_gap": null,
            "grid_row": null,
            "grid_template_areas": null,
            "grid_template_columns": null,
            "grid_template_rows": null,
            "height": null,
            "justify_content": null,
            "justify_items": null,
            "left": null,
            "margin": null,
            "max_height": null,
            "max_width": null,
            "min_height": null,
            "min_width": null,
            "object_fit": null,
            "object_position": null,
            "order": null,
            "overflow": null,
            "overflow_x": null,
            "overflow_y": null,
            "padding": null,
            "right": null,
            "top": null,
            "visibility": null,
            "width": null
          }
        },
        "c3f23fb801354cb4b629702d90e6f2d4": {
          "model_module": "@jupyter-widgets/controls",
          "model_name": "ProgressStyleModel",
          "model_module_version": "1.5.0",
          "state": {
            "_model_module": "@jupyter-widgets/controls",
            "_model_module_version": "1.5.0",
            "_model_name": "ProgressStyleModel",
            "_view_count": null,
            "_view_module": "@jupyter-widgets/base",
            "_view_module_version": "1.2.0",
            "_view_name": "StyleView",
            "bar_color": null,
            "description_width": ""
          }
        },
        "8a91b681ceed459ba6549bbeb0ebd9f2": {
          "model_module": "@jupyter-widgets/base",
          "model_name": "LayoutModel",
          "model_module_version": "1.2.0",
          "state": {
            "_model_module": "@jupyter-widgets/base",
            "_model_module_version": "1.2.0",
            "_model_name": "LayoutModel",
            "_view_count": null,
            "_view_module": "@jupyter-widgets/base",
            "_view_module_version": "1.2.0",
            "_view_name": "LayoutView",
            "align_content": null,
            "align_items": null,
            "align_self": null,
            "border": null,
            "bottom": null,
            "display": null,
            "flex": null,
            "flex_flow": null,
            "grid_area": null,
            "grid_auto_columns": null,
            "grid_auto_flow": null,
            "grid_auto_rows": null,
            "grid_column": null,
            "grid_gap": null,
            "grid_row": null,
            "grid_template_areas": null,
            "grid_template_columns": null,
            "grid_template_rows": null,
            "height": null,
            "justify_content": null,
            "justify_items": null,
            "left": null,
            "margin": null,
            "max_height": null,
            "max_width": null,
            "min_height": null,
            "min_width": null,
            "object_fit": null,
            "object_position": null,
            "order": null,
            "overflow": null,
            "overflow_x": null,
            "overflow_y": null,
            "padding": null,
            "right": null,
            "top": null,
            "visibility": null,
            "width": null
          }
        },
        "790ab3b12fe249f8bc3144b7bcbc2b77": {
          "model_module": "@jupyter-widgets/controls",
          "model_name": "DescriptionStyleModel",
          "model_module_version": "1.5.0",
          "state": {
            "_model_module": "@jupyter-widgets/controls",
            "_model_module_version": "1.5.0",
            "_model_name": "DescriptionStyleModel",
            "_view_count": null,
            "_view_module": "@jupyter-widgets/base",
            "_view_module_version": "1.2.0",
            "_view_name": "StyleView",
            "description_width": ""
          }
        },
        "0e5f37a2ee9648d595d2b585c7a74f3e": {
          "model_module": "@jupyter-widgets/controls",
          "model_name": "HBoxModel",
          "model_module_version": "1.5.0",
          "state": {
            "_dom_classes": [],
            "_model_module": "@jupyter-widgets/controls",
            "_model_module_version": "1.5.0",
            "_model_name": "HBoxModel",
            "_view_count": null,
            "_view_module": "@jupyter-widgets/controls",
            "_view_module_version": "1.5.0",
            "_view_name": "HBoxView",
            "box_style": "",
            "children": [
              "IPY_MODEL_b94b6c1ddaa244a0ac309b588d4b3c98",
              "IPY_MODEL_714b8b2c00964d1dac8bebe409a3d53a",
              "IPY_MODEL_9a1423b6941f4157abc9f50f1dab9156"
            ],
            "layout": "IPY_MODEL_323d773cd89247b0af306ee1b9f3724c"
          }
        },
        "b94b6c1ddaa244a0ac309b588d4b3c98": {
          "model_module": "@jupyter-widgets/controls",
          "model_name": "HTMLModel",
          "model_module_version": "1.5.0",
          "state": {
            "_dom_classes": [],
            "_model_module": "@jupyter-widgets/controls",
            "_model_module_version": "1.5.0",
            "_model_name": "HTMLModel",
            "_view_count": null,
            "_view_module": "@jupyter-widgets/controls",
            "_view_module_version": "1.5.0",
            "_view_name": "HTMLView",
            "description": "",
            "description_tooltip": null,
            "layout": "IPY_MODEL_2a5f26479b3846788da74912558b431a",
            "placeholder": "​",
            "style": "IPY_MODEL_f7a715d35c704e75b8ad66e96392dcf8",
            "value": "tokenizer.json: 100%"
          }
        },
        "714b8b2c00964d1dac8bebe409a3d53a": {
          "model_module": "@jupyter-widgets/controls",
          "model_name": "FloatProgressModel",
          "model_module_version": "1.5.0",
          "state": {
            "_dom_classes": [],
            "_model_module": "@jupyter-widgets/controls",
            "_model_module_version": "1.5.0",
            "_model_name": "FloatProgressModel",
            "_view_count": null,
            "_view_module": "@jupyter-widgets/controls",
            "_view_module_version": "1.5.0",
            "_view_name": "ProgressView",
            "bar_style": "success",
            "description": "",
            "description_tooltip": null,
            "layout": "IPY_MODEL_422a1fac8ee0472ab49586789853c504",
            "max": 466247,
            "min": 0,
            "orientation": "horizontal",
            "style": "IPY_MODEL_840682c8c77a471091beb91d56c39d55",
            "value": 466247
          }
        },
        "9a1423b6941f4157abc9f50f1dab9156": {
          "model_module": "@jupyter-widgets/controls",
          "model_name": "HTMLModel",
          "model_module_version": "1.5.0",
          "state": {
            "_dom_classes": [],
            "_model_module": "@jupyter-widgets/controls",
            "_model_module_version": "1.5.0",
            "_model_name": "HTMLModel",
            "_view_count": null,
            "_view_module": "@jupyter-widgets/controls",
            "_view_module_version": "1.5.0",
            "_view_name": "HTMLView",
            "description": "",
            "description_tooltip": null,
            "layout": "IPY_MODEL_4d37c65979b64f3091e4bcd88281403a",
            "placeholder": "​",
            "style": "IPY_MODEL_320d466f3d744258b1ed5cf56b7a73d3",
            "value": " 466k/466k [00:00&lt;00:00, 6.84MB/s]"
          }
        },
        "323d773cd89247b0af306ee1b9f3724c": {
          "model_module": "@jupyter-widgets/base",
          "model_name": "LayoutModel",
          "model_module_version": "1.2.0",
          "state": {
            "_model_module": "@jupyter-widgets/base",
            "_model_module_version": "1.2.0",
            "_model_name": "LayoutModel",
            "_view_count": null,
            "_view_module": "@jupyter-widgets/base",
            "_view_module_version": "1.2.0",
            "_view_name": "LayoutView",
            "align_content": null,
            "align_items": null,
            "align_self": null,
            "border": null,
            "bottom": null,
            "display": null,
            "flex": null,
            "flex_flow": null,
            "grid_area": null,
            "grid_auto_columns": null,
            "grid_auto_flow": null,
            "grid_auto_rows": null,
            "grid_column": null,
            "grid_gap": null,
            "grid_row": null,
            "grid_template_areas": null,
            "grid_template_columns": null,
            "grid_template_rows": null,
            "height": null,
            "justify_content": null,
            "justify_items": null,
            "left": null,
            "margin": null,
            "max_height": null,
            "max_width": null,
            "min_height": null,
            "min_width": null,
            "object_fit": null,
            "object_position": null,
            "order": null,
            "overflow": null,
            "overflow_x": null,
            "overflow_y": null,
            "padding": null,
            "right": null,
            "top": null,
            "visibility": null,
            "width": null
          }
        },
        "2a5f26479b3846788da74912558b431a": {
          "model_module": "@jupyter-widgets/base",
          "model_name": "LayoutModel",
          "model_module_version": "1.2.0",
          "state": {
            "_model_module": "@jupyter-widgets/base",
            "_model_module_version": "1.2.0",
            "_model_name": "LayoutModel",
            "_view_count": null,
            "_view_module": "@jupyter-widgets/base",
            "_view_module_version": "1.2.0",
            "_view_name": "LayoutView",
            "align_content": null,
            "align_items": null,
            "align_self": null,
            "border": null,
            "bottom": null,
            "display": null,
            "flex": null,
            "flex_flow": null,
            "grid_area": null,
            "grid_auto_columns": null,
            "grid_auto_flow": null,
            "grid_auto_rows": null,
            "grid_column": null,
            "grid_gap": null,
            "grid_row": null,
            "grid_template_areas": null,
            "grid_template_columns": null,
            "grid_template_rows": null,
            "height": null,
            "justify_content": null,
            "justify_items": null,
            "left": null,
            "margin": null,
            "max_height": null,
            "max_width": null,
            "min_height": null,
            "min_width": null,
            "object_fit": null,
            "object_position": null,
            "order": null,
            "overflow": null,
            "overflow_x": null,
            "overflow_y": null,
            "padding": null,
            "right": null,
            "top": null,
            "visibility": null,
            "width": null
          }
        },
        "f7a715d35c704e75b8ad66e96392dcf8": {
          "model_module": "@jupyter-widgets/controls",
          "model_name": "DescriptionStyleModel",
          "model_module_version": "1.5.0",
          "state": {
            "_model_module": "@jupyter-widgets/controls",
            "_model_module_version": "1.5.0",
            "_model_name": "DescriptionStyleModel",
            "_view_count": null,
            "_view_module": "@jupyter-widgets/base",
            "_view_module_version": "1.2.0",
            "_view_name": "StyleView",
            "description_width": ""
          }
        },
        "422a1fac8ee0472ab49586789853c504": {
          "model_module": "@jupyter-widgets/base",
          "model_name": "LayoutModel",
          "model_module_version": "1.2.0",
          "state": {
            "_model_module": "@jupyter-widgets/base",
            "_model_module_version": "1.2.0",
            "_model_name": "LayoutModel",
            "_view_count": null,
            "_view_module": "@jupyter-widgets/base",
            "_view_module_version": "1.2.0",
            "_view_name": "LayoutView",
            "align_content": null,
            "align_items": null,
            "align_self": null,
            "border": null,
            "bottom": null,
            "display": null,
            "flex": null,
            "flex_flow": null,
            "grid_area": null,
            "grid_auto_columns": null,
            "grid_auto_flow": null,
            "grid_auto_rows": null,
            "grid_column": null,
            "grid_gap": null,
            "grid_row": null,
            "grid_template_areas": null,
            "grid_template_columns": null,
            "grid_template_rows": null,
            "height": null,
            "justify_content": null,
            "justify_items": null,
            "left": null,
            "margin": null,
            "max_height": null,
            "max_width": null,
            "min_height": null,
            "min_width": null,
            "object_fit": null,
            "object_position": null,
            "order": null,
            "overflow": null,
            "overflow_x": null,
            "overflow_y": null,
            "padding": null,
            "right": null,
            "top": null,
            "visibility": null,
            "width": null
          }
        },
        "840682c8c77a471091beb91d56c39d55": {
          "model_module": "@jupyter-widgets/controls",
          "model_name": "ProgressStyleModel",
          "model_module_version": "1.5.0",
          "state": {
            "_model_module": "@jupyter-widgets/controls",
            "_model_module_version": "1.5.0",
            "_model_name": "ProgressStyleModel",
            "_view_count": null,
            "_view_module": "@jupyter-widgets/base",
            "_view_module_version": "1.2.0",
            "_view_name": "StyleView",
            "bar_color": null,
            "description_width": ""
          }
        },
        "4d37c65979b64f3091e4bcd88281403a": {
          "model_module": "@jupyter-widgets/base",
          "model_name": "LayoutModel",
          "model_module_version": "1.2.0",
          "state": {
            "_model_module": "@jupyter-widgets/base",
            "_model_module_version": "1.2.0",
            "_model_name": "LayoutModel",
            "_view_count": null,
            "_view_module": "@jupyter-widgets/base",
            "_view_module_version": "1.2.0",
            "_view_name": "LayoutView",
            "align_content": null,
            "align_items": null,
            "align_self": null,
            "border": null,
            "bottom": null,
            "display": null,
            "flex": null,
            "flex_flow": null,
            "grid_area": null,
            "grid_auto_columns": null,
            "grid_auto_flow": null,
            "grid_auto_rows": null,
            "grid_column": null,
            "grid_gap": null,
            "grid_row": null,
            "grid_template_areas": null,
            "grid_template_columns": null,
            "grid_template_rows": null,
            "height": null,
            "justify_content": null,
            "justify_items": null,
            "left": null,
            "margin": null,
            "max_height": null,
            "max_width": null,
            "min_height": null,
            "min_width": null,
            "object_fit": null,
            "object_position": null,
            "order": null,
            "overflow": null,
            "overflow_x": null,
            "overflow_y": null,
            "padding": null,
            "right": null,
            "top": null,
            "visibility": null,
            "width": null
          }
        },
        "320d466f3d744258b1ed5cf56b7a73d3": {
          "model_module": "@jupyter-widgets/controls",
          "model_name": "DescriptionStyleModel",
          "model_module_version": "1.5.0",
          "state": {
            "_model_module": "@jupyter-widgets/controls",
            "_model_module_version": "1.5.0",
            "_model_name": "DescriptionStyleModel",
            "_view_count": null,
            "_view_module": "@jupyter-widgets/base",
            "_view_module_version": "1.2.0",
            "_view_name": "StyleView",
            "description_width": ""
          }
        },
        "e1466252476541be9e87b8eccb4e0c7c": {
          "model_module": "@jupyter-widgets/controls",
          "model_name": "HBoxModel",
          "model_module_version": "1.5.0",
          "state": {
            "_dom_classes": [],
            "_model_module": "@jupyter-widgets/controls",
            "_model_module_version": "1.5.0",
            "_model_name": "HBoxModel",
            "_view_count": null,
            "_view_module": "@jupyter-widgets/controls",
            "_view_module_version": "1.5.0",
            "_view_name": "HBoxView",
            "box_style": "",
            "children": [
              "IPY_MODEL_b4754d4580b645869c96f2503d2d74c1",
              "IPY_MODEL_44d80968e6564df4871bfbc061a8b0c2",
              "IPY_MODEL_9ff14eb196dd42b6a9b188a5787e5f90"
            ],
            "layout": "IPY_MODEL_7c1765918345403eaf8602e4a056b499"
          }
        },
        "b4754d4580b645869c96f2503d2d74c1": {
          "model_module": "@jupyter-widgets/controls",
          "model_name": "HTMLModel",
          "model_module_version": "1.5.0",
          "state": {
            "_dom_classes": [],
            "_model_module": "@jupyter-widgets/controls",
            "_model_module_version": "1.5.0",
            "_model_name": "HTMLModel",
            "_view_count": null,
            "_view_module": "@jupyter-widgets/controls",
            "_view_module_version": "1.5.0",
            "_view_name": "HTMLView",
            "description": "",
            "description_tooltip": null,
            "layout": "IPY_MODEL_3854c4f25cc54de289cdf5653fe1edf4",
            "placeholder": "​",
            "style": "IPY_MODEL_e6ee478ffab84852bf94ef7935e30223",
            "value": "special_tokens_map.json: 100%"
          }
        },
        "44d80968e6564df4871bfbc061a8b0c2": {
          "model_module": "@jupyter-widgets/controls",
          "model_name": "FloatProgressModel",
          "model_module_version": "1.5.0",
          "state": {
            "_dom_classes": [],
            "_model_module": "@jupyter-widgets/controls",
            "_model_module_version": "1.5.0",
            "_model_name": "FloatProgressModel",
            "_view_count": null,
            "_view_module": "@jupyter-widgets/controls",
            "_view_module_version": "1.5.0",
            "_view_name": "ProgressView",
            "bar_style": "success",
            "description": "",
            "description_tooltip": null,
            "layout": "IPY_MODEL_d7967fcc67894677b61a95ba432e9a27",
            "max": 112,
            "min": 0,
            "orientation": "horizontal",
            "style": "IPY_MODEL_54b147d077fb43639196da69b83b6a9f",
            "value": 112
          }
        },
        "9ff14eb196dd42b6a9b188a5787e5f90": {
          "model_module": "@jupyter-widgets/controls",
          "model_name": "HTMLModel",
          "model_module_version": "1.5.0",
          "state": {
            "_dom_classes": [],
            "_model_module": "@jupyter-widgets/controls",
            "_model_module_version": "1.5.0",
            "_model_name": "HTMLModel",
            "_view_count": null,
            "_view_module": "@jupyter-widgets/controls",
            "_view_module_version": "1.5.0",
            "_view_name": "HTMLView",
            "description": "",
            "description_tooltip": null,
            "layout": "IPY_MODEL_f632d7bfd69b4abe831089b63f2e3644",
            "placeholder": "​",
            "style": "IPY_MODEL_ab6d7227809c45ddadeb1d24068adfbb",
            "value": " 112/112 [00:00&lt;00:00, 7.61kB/s]"
          }
        },
        "7c1765918345403eaf8602e4a056b499": {
          "model_module": "@jupyter-widgets/base",
          "model_name": "LayoutModel",
          "model_module_version": "1.2.0",
          "state": {
            "_model_module": "@jupyter-widgets/base",
            "_model_module_version": "1.2.0",
            "_model_name": "LayoutModel",
            "_view_count": null,
            "_view_module": "@jupyter-widgets/base",
            "_view_module_version": "1.2.0",
            "_view_name": "LayoutView",
            "align_content": null,
            "align_items": null,
            "align_self": null,
            "border": null,
            "bottom": null,
            "display": null,
            "flex": null,
            "flex_flow": null,
            "grid_area": null,
            "grid_auto_columns": null,
            "grid_auto_flow": null,
            "grid_auto_rows": null,
            "grid_column": null,
            "grid_gap": null,
            "grid_row": null,
            "grid_template_areas": null,
            "grid_template_columns": null,
            "grid_template_rows": null,
            "height": null,
            "justify_content": null,
            "justify_items": null,
            "left": null,
            "margin": null,
            "max_height": null,
            "max_width": null,
            "min_height": null,
            "min_width": null,
            "object_fit": null,
            "object_position": null,
            "order": null,
            "overflow": null,
            "overflow_x": null,
            "overflow_y": null,
            "padding": null,
            "right": null,
            "top": null,
            "visibility": null,
            "width": null
          }
        },
        "3854c4f25cc54de289cdf5653fe1edf4": {
          "model_module": "@jupyter-widgets/base",
          "model_name": "LayoutModel",
          "model_module_version": "1.2.0",
          "state": {
            "_model_module": "@jupyter-widgets/base",
            "_model_module_version": "1.2.0",
            "_model_name": "LayoutModel",
            "_view_count": null,
            "_view_module": "@jupyter-widgets/base",
            "_view_module_version": "1.2.0",
            "_view_name": "LayoutView",
            "align_content": null,
            "align_items": null,
            "align_self": null,
            "border": null,
            "bottom": null,
            "display": null,
            "flex": null,
            "flex_flow": null,
            "grid_area": null,
            "grid_auto_columns": null,
            "grid_auto_flow": null,
            "grid_auto_rows": null,
            "grid_column": null,
            "grid_gap": null,
            "grid_row": null,
            "grid_template_areas": null,
            "grid_template_columns": null,
            "grid_template_rows": null,
            "height": null,
            "justify_content": null,
            "justify_items": null,
            "left": null,
            "margin": null,
            "max_height": null,
            "max_width": null,
            "min_height": null,
            "min_width": null,
            "object_fit": null,
            "object_position": null,
            "order": null,
            "overflow": null,
            "overflow_x": null,
            "overflow_y": null,
            "padding": null,
            "right": null,
            "top": null,
            "visibility": null,
            "width": null
          }
        },
        "e6ee478ffab84852bf94ef7935e30223": {
          "model_module": "@jupyter-widgets/controls",
          "model_name": "DescriptionStyleModel",
          "model_module_version": "1.5.0",
          "state": {
            "_model_module": "@jupyter-widgets/controls",
            "_model_module_version": "1.5.0",
            "_model_name": "DescriptionStyleModel",
            "_view_count": null,
            "_view_module": "@jupyter-widgets/base",
            "_view_module_version": "1.2.0",
            "_view_name": "StyleView",
            "description_width": ""
          }
        },
        "d7967fcc67894677b61a95ba432e9a27": {
          "model_module": "@jupyter-widgets/base",
          "model_name": "LayoutModel",
          "model_module_version": "1.2.0",
          "state": {
            "_model_module": "@jupyter-widgets/base",
            "_model_module_version": "1.2.0",
            "_model_name": "LayoutModel",
            "_view_count": null,
            "_view_module": "@jupyter-widgets/base",
            "_view_module_version": "1.2.0",
            "_view_name": "LayoutView",
            "align_content": null,
            "align_items": null,
            "align_self": null,
            "border": null,
            "bottom": null,
            "display": null,
            "flex": null,
            "flex_flow": null,
            "grid_area": null,
            "grid_auto_columns": null,
            "grid_auto_flow": null,
            "grid_auto_rows": null,
            "grid_column": null,
            "grid_gap": null,
            "grid_row": null,
            "grid_template_areas": null,
            "grid_template_columns": null,
            "grid_template_rows": null,
            "height": null,
            "justify_content": null,
            "justify_items": null,
            "left": null,
            "margin": null,
            "max_height": null,
            "max_width": null,
            "min_height": null,
            "min_width": null,
            "object_fit": null,
            "object_position": null,
            "order": null,
            "overflow": null,
            "overflow_x": null,
            "overflow_y": null,
            "padding": null,
            "right": null,
            "top": null,
            "visibility": null,
            "width": null
          }
        },
        "54b147d077fb43639196da69b83b6a9f": {
          "model_module": "@jupyter-widgets/controls",
          "model_name": "ProgressStyleModel",
          "model_module_version": "1.5.0",
          "state": {
            "_model_module": "@jupyter-widgets/controls",
            "_model_module_version": "1.5.0",
            "_model_name": "ProgressStyleModel",
            "_view_count": null,
            "_view_module": "@jupyter-widgets/base",
            "_view_module_version": "1.2.0",
            "_view_name": "StyleView",
            "bar_color": null,
            "description_width": ""
          }
        },
        "f632d7bfd69b4abe831089b63f2e3644": {
          "model_module": "@jupyter-widgets/base",
          "model_name": "LayoutModel",
          "model_module_version": "1.2.0",
          "state": {
            "_model_module": "@jupyter-widgets/base",
            "_model_module_version": "1.2.0",
            "_model_name": "LayoutModel",
            "_view_count": null,
            "_view_module": "@jupyter-widgets/base",
            "_view_module_version": "1.2.0",
            "_view_name": "LayoutView",
            "align_content": null,
            "align_items": null,
            "align_self": null,
            "border": null,
            "bottom": null,
            "display": null,
            "flex": null,
            "flex_flow": null,
            "grid_area": null,
            "grid_auto_columns": null,
            "grid_auto_flow": null,
            "grid_auto_rows": null,
            "grid_column": null,
            "grid_gap": null,
            "grid_row": null,
            "grid_template_areas": null,
            "grid_template_columns": null,
            "grid_template_rows": null,
            "height": null,
            "justify_content": null,
            "justify_items": null,
            "left": null,
            "margin": null,
            "max_height": null,
            "max_width": null,
            "min_height": null,
            "min_width": null,
            "object_fit": null,
            "object_position": null,
            "order": null,
            "overflow": null,
            "overflow_x": null,
            "overflow_y": null,
            "padding": null,
            "right": null,
            "top": null,
            "visibility": null,
            "width": null
          }
        },
        "ab6d7227809c45ddadeb1d24068adfbb": {
          "model_module": "@jupyter-widgets/controls",
          "model_name": "DescriptionStyleModel",
          "model_module_version": "1.5.0",
          "state": {
            "_model_module": "@jupyter-widgets/controls",
            "_model_module_version": "1.5.0",
            "_model_name": "DescriptionStyleModel",
            "_view_count": null,
            "_view_module": "@jupyter-widgets/base",
            "_view_module_version": "1.2.0",
            "_view_name": "StyleView",
            "description_width": ""
          }
        },
        "9a5c79a1dff04701bd8e1d967c0466be": {
          "model_module": "@jupyter-widgets/controls",
          "model_name": "HBoxModel",
          "model_module_version": "1.5.0",
          "state": {
            "_dom_classes": [],
            "_model_module": "@jupyter-widgets/controls",
            "_model_module_version": "1.5.0",
            "_model_name": "HBoxModel",
            "_view_count": null,
            "_view_module": "@jupyter-widgets/controls",
            "_view_module_version": "1.5.0",
            "_view_name": "HBoxView",
            "box_style": "",
            "children": [
              "IPY_MODEL_b17afc9a4e52448fa96024818348238a",
              "IPY_MODEL_cfbb65bb2d35422c8265a485c4e3dd77",
              "IPY_MODEL_e2c9c48a001a46fbb95dae9d6ba2e63f"
            ],
            "layout": "IPY_MODEL_560e5fd94dd14973b0064324586d01c2"
          }
        },
        "b17afc9a4e52448fa96024818348238a": {
          "model_module": "@jupyter-widgets/controls",
          "model_name": "HTMLModel",
          "model_module_version": "1.5.0",
          "state": {
            "_dom_classes": [],
            "_model_module": "@jupyter-widgets/controls",
            "_model_module_version": "1.5.0",
            "_model_name": "HTMLModel",
            "_view_count": null,
            "_view_module": "@jupyter-widgets/controls",
            "_view_module_version": "1.5.0",
            "_view_name": "HTMLView",
            "description": "",
            "description_tooltip": null,
            "layout": "IPY_MODEL_f6bc2fd0ddfb42b79057828a69178165",
            "placeholder": "​",
            "style": "IPY_MODEL_bae712260ac84d91b829a2cc2264562d",
            "value": "1_Pooling/config.json: 100%"
          }
        },
        "cfbb65bb2d35422c8265a485c4e3dd77": {
          "model_module": "@jupyter-widgets/controls",
          "model_name": "FloatProgressModel",
          "model_module_version": "1.5.0",
          "state": {
            "_dom_classes": [],
            "_model_module": "@jupyter-widgets/controls",
            "_model_module_version": "1.5.0",
            "_model_name": "FloatProgressModel",
            "_view_count": null,
            "_view_module": "@jupyter-widgets/controls",
            "_view_module_version": "1.5.0",
            "_view_name": "ProgressView",
            "bar_style": "success",
            "description": "",
            "description_tooltip": null,
            "layout": "IPY_MODEL_e6955c1bb1e7451a8057f8a634efe51b",
            "max": 190,
            "min": 0,
            "orientation": "horizontal",
            "style": "IPY_MODEL_223577fa26da4490bacb8b8f4d44f25c",
            "value": 190
          }
        },
        "e2c9c48a001a46fbb95dae9d6ba2e63f": {
          "model_module": "@jupyter-widgets/controls",
          "model_name": "HTMLModel",
          "model_module_version": "1.5.0",
          "state": {
            "_dom_classes": [],
            "_model_module": "@jupyter-widgets/controls",
            "_model_module_version": "1.5.0",
            "_model_name": "HTMLModel",
            "_view_count": null,
            "_view_module": "@jupyter-widgets/controls",
            "_view_module_version": "1.5.0",
            "_view_name": "HTMLView",
            "description": "",
            "description_tooltip": null,
            "layout": "IPY_MODEL_8dfa246135bf4772893e9978b9c111d6",
            "placeholder": "​",
            "style": "IPY_MODEL_3b7dbc2accb14b44b8c3e8361949080f",
            "value": " 190/190 [00:00&lt;00:00, 14.0kB/s]"
          }
        },
        "560e5fd94dd14973b0064324586d01c2": {
          "model_module": "@jupyter-widgets/base",
          "model_name": "LayoutModel",
          "model_module_version": "1.2.0",
          "state": {
            "_model_module": "@jupyter-widgets/base",
            "_model_module_version": "1.2.0",
            "_model_name": "LayoutModel",
            "_view_count": null,
            "_view_module": "@jupyter-widgets/base",
            "_view_module_version": "1.2.0",
            "_view_name": "LayoutView",
            "align_content": null,
            "align_items": null,
            "align_self": null,
            "border": null,
            "bottom": null,
            "display": null,
            "flex": null,
            "flex_flow": null,
            "grid_area": null,
            "grid_auto_columns": null,
            "grid_auto_flow": null,
            "grid_auto_rows": null,
            "grid_column": null,
            "grid_gap": null,
            "grid_row": null,
            "grid_template_areas": null,
            "grid_template_columns": null,
            "grid_template_rows": null,
            "height": null,
            "justify_content": null,
            "justify_items": null,
            "left": null,
            "margin": null,
            "max_height": null,
            "max_width": null,
            "min_height": null,
            "min_width": null,
            "object_fit": null,
            "object_position": null,
            "order": null,
            "overflow": null,
            "overflow_x": null,
            "overflow_y": null,
            "padding": null,
            "right": null,
            "top": null,
            "visibility": null,
            "width": null
          }
        },
        "f6bc2fd0ddfb42b79057828a69178165": {
          "model_module": "@jupyter-widgets/base",
          "model_name": "LayoutModel",
          "model_module_version": "1.2.0",
          "state": {
            "_model_module": "@jupyter-widgets/base",
            "_model_module_version": "1.2.0",
            "_model_name": "LayoutModel",
            "_view_count": null,
            "_view_module": "@jupyter-widgets/base",
            "_view_module_version": "1.2.0",
            "_view_name": "LayoutView",
            "align_content": null,
            "align_items": null,
            "align_self": null,
            "border": null,
            "bottom": null,
            "display": null,
            "flex": null,
            "flex_flow": null,
            "grid_area": null,
            "grid_auto_columns": null,
            "grid_auto_flow": null,
            "grid_auto_rows": null,
            "grid_column": null,
            "grid_gap": null,
            "grid_row": null,
            "grid_template_areas": null,
            "grid_template_columns": null,
            "grid_template_rows": null,
            "height": null,
            "justify_content": null,
            "justify_items": null,
            "left": null,
            "margin": null,
            "max_height": null,
            "max_width": null,
            "min_height": null,
            "min_width": null,
            "object_fit": null,
            "object_position": null,
            "order": null,
            "overflow": null,
            "overflow_x": null,
            "overflow_y": null,
            "padding": null,
            "right": null,
            "top": null,
            "visibility": null,
            "width": null
          }
        },
        "bae712260ac84d91b829a2cc2264562d": {
          "model_module": "@jupyter-widgets/controls",
          "model_name": "DescriptionStyleModel",
          "model_module_version": "1.5.0",
          "state": {
            "_model_module": "@jupyter-widgets/controls",
            "_model_module_version": "1.5.0",
            "_model_name": "DescriptionStyleModel",
            "_view_count": null,
            "_view_module": "@jupyter-widgets/base",
            "_view_module_version": "1.2.0",
            "_view_name": "StyleView",
            "description_width": ""
          }
        },
        "e6955c1bb1e7451a8057f8a634efe51b": {
          "model_module": "@jupyter-widgets/base",
          "model_name": "LayoutModel",
          "model_module_version": "1.2.0",
          "state": {
            "_model_module": "@jupyter-widgets/base",
            "_model_module_version": "1.2.0",
            "_model_name": "LayoutModel",
            "_view_count": null,
            "_view_module": "@jupyter-widgets/base",
            "_view_module_version": "1.2.0",
            "_view_name": "LayoutView",
            "align_content": null,
            "align_items": null,
            "align_self": null,
            "border": null,
            "bottom": null,
            "display": null,
            "flex": null,
            "flex_flow": null,
            "grid_area": null,
            "grid_auto_columns": null,
            "grid_auto_flow": null,
            "grid_auto_rows": null,
            "grid_column": null,
            "grid_gap": null,
            "grid_row": null,
            "grid_template_areas": null,
            "grid_template_columns": null,
            "grid_template_rows": null,
            "height": null,
            "justify_content": null,
            "justify_items": null,
            "left": null,
            "margin": null,
            "max_height": null,
            "max_width": null,
            "min_height": null,
            "min_width": null,
            "object_fit": null,
            "object_position": null,
            "order": null,
            "overflow": null,
            "overflow_x": null,
            "overflow_y": null,
            "padding": null,
            "right": null,
            "top": null,
            "visibility": null,
            "width": null
          }
        },
        "223577fa26da4490bacb8b8f4d44f25c": {
          "model_module": "@jupyter-widgets/controls",
          "model_name": "ProgressStyleModel",
          "model_module_version": "1.5.0",
          "state": {
            "_model_module": "@jupyter-widgets/controls",
            "_model_module_version": "1.5.0",
            "_model_name": "ProgressStyleModel",
            "_view_count": null,
            "_view_module": "@jupyter-widgets/base",
            "_view_module_version": "1.2.0",
            "_view_name": "StyleView",
            "bar_color": null,
            "description_width": ""
          }
        },
        "8dfa246135bf4772893e9978b9c111d6": {
          "model_module": "@jupyter-widgets/base",
          "model_name": "LayoutModel",
          "model_module_version": "1.2.0",
          "state": {
            "_model_module": "@jupyter-widgets/base",
            "_model_module_version": "1.2.0",
            "_model_name": "LayoutModel",
            "_view_count": null,
            "_view_module": "@jupyter-widgets/base",
            "_view_module_version": "1.2.0",
            "_view_name": "LayoutView",
            "align_content": null,
            "align_items": null,
            "align_self": null,
            "border": null,
            "bottom": null,
            "display": null,
            "flex": null,
            "flex_flow": null,
            "grid_area": null,
            "grid_auto_columns": null,
            "grid_auto_flow": null,
            "grid_auto_rows": null,
            "grid_column": null,
            "grid_gap": null,
            "grid_row": null,
            "grid_template_areas": null,
            "grid_template_columns": null,
            "grid_template_rows": null,
            "height": null,
            "justify_content": null,
            "justify_items": null,
            "left": null,
            "margin": null,
            "max_height": null,
            "max_width": null,
            "min_height": null,
            "min_width": null,
            "object_fit": null,
            "object_position": null,
            "order": null,
            "overflow": null,
            "overflow_x": null,
            "overflow_y": null,
            "padding": null,
            "right": null,
            "top": null,
            "visibility": null,
            "width": null
          }
        },
        "3b7dbc2accb14b44b8c3e8361949080f": {
          "model_module": "@jupyter-widgets/controls",
          "model_name": "DescriptionStyleModel",
          "model_module_version": "1.5.0",
          "state": {
            "_model_module": "@jupyter-widgets/controls",
            "_model_module_version": "1.5.0",
            "_model_name": "DescriptionStyleModel",
            "_view_count": null,
            "_view_module": "@jupyter-widgets/base",
            "_view_module_version": "1.2.0",
            "_view_name": "StyleView",
            "description_width": ""
          }
        }
      }
    }
  },
  "nbformat": 4,
  "nbformat_minor": 0
}