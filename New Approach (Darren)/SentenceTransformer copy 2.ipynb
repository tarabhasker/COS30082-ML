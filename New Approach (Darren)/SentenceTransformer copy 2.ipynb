{
 "cells": [
  {
   "cell_type": "code",
   "execution_count": 6,
   "metadata": {},
   "outputs": [],
   "source": [
    "import torch\n",
    "import torch.nn as nn\n",
    "from torchvision import transforms\n",
    "from PIL import Image\n",
    "from transformers import CLIPProcessor, CLIPModel\n",
    "from sentence_transformers import SentenceTransformer\n",
    "\n",
    "# Descriptions\n",
    "plant_crop_descriptions = {\n",
    "    0: \"Apple Leaf\",\n",
    "    1: \"Blueberry Leaf\",\n",
    "    2: \"Cherry Leaf\",\n",
    "    3: \"Corn Leaf\",\n",
    "    4: \"Grape Leaf\",\n",
    "    5: \"Orange Leaf\",\n",
    "    6: \"Peach Leaf\",\n",
    "    7: \"Pepper Leaf\",\n",
    "    8: \"Potato Leaf\",\n",
    "    9: \"Raspberry Leaf\",\n",
    "    10: \"Soybean Leaf\",\n",
    "    11: \"Squash Leaf\",\n",
    "    12: \"Strawberry Leaf\",\n",
    "    13: \"Tomato Leaf\",\n",
    "}\n",
    "\n",
    "\n",
    "plant_disease_descriptions = {\n",
    "    0: \"Healthy Leaf- vibrant, disease-free, normal leaf appearance.\",\n",
    "    1: \"Apple Leaf with Scab - dark spots, rough, scaly surface.\",\n",
    "    2: \"Black Rot - blackened lesions, wilted tissue, spreading damage.\",\n",
    "    3: \"Cedar Apple Rust - orange spots, thread-like fungal growth visible.\",\n",
    "    4: \"Powdery Mildew - white powdery patches, fungal overgrowth on surface.\",\n",
    "    5: \"Cercospora Leaf Spot (Gray Leaf Spot) - gray, circular, small necrotic lesions.\",\n",
    "    6: \"Common Rust - brown pustules, raised fungal spores on leaf.\",\n",
    "    7: \"Northern Leaf Blight - elongated gray-brown lesions, spreading necrotic areas.\",\n",
    "    8: \"Esca (Black Measles) - dark streaks, cracked, dying leaf tissue.\",\n",
    "    9: \"Leaf Blight (Isariopsis Leaf Spot) - brown patches, soft, rotting edges.\",\n",
    "    10: \"Huanglongbing (Citrus Greening) - yellow veins, deformed fruit, stunted growth.\",\n",
    "    11: \"Bacterial Spot - wet-looking spots, irregular, gradually turning black.\",\n",
    "    12: \"Early Blight - brown concentric rings, yellowing surrounding tissue areas.\",\n",
    "    13: \"Late Blight - large black patches, water-soaked lesions on leaves.\",\n",
    "    14: \"Leaf Scorch - browning tips, drying edges, desiccated appearance.\",\n",
    "    15: \"Leaf Mold - fuzzy growth, pale yellow spots, leaf decay.\",\n",
    "    16: \"Septoria Leaf Spot - small brown spots, spreading, surrounded by yellow.\",\n",
    "    17: \"Spider Mites (Two-Spotted Spider Mite) - speckled leaves, fine webbing visible.\",\n",
    "    18: \"Target Spot - dark circular spots, lighter centers, extensive necrosis.\",\n",
    "    19: \"Tomato Leaf with Yellow Leaf Curl Virus - curled leaves, stunted yellow growth.\",\n",
    "    20: \"Tomato Leaf with Mosaic Virus - mottled appearance, discolored green-yellow patterns.\"\n",
    "}\n",
    "\n",
    "\n",
    "# Add device configuration\n",
    "device = torch.device(\"cuda\" if torch.cuda.is_available() else \"cpu\")\n",
    "\n",
    "# Load models and move them to the correct device\n",
    "clip_model = CLIPModel.from_pretrained(\"openai/clip-vit-base-patch32\").to(device)\n",
    "clip_processor = CLIPProcessor.from_pretrained(\"openai/clip-vit-base-patch32\")\n",
    "text_model = SentenceTransformer(\"all-MiniLM-L6-v2\").to(device)\n",
    "\n",
    "# Define a projection layer to align dimensions and move to device\n",
    "projection_layer = nn.Linear(512, 384, bias=False).to(device)\n",
    "\n",
    "# Prepare crop and disease descriptions\n",
    "crop_texts = list(plant_crop_descriptions.values())\n",
    "disease_texts = list(plant_disease_descriptions.values())\n",
    "\n",
    "# Generate text embeddings using SentenceTransformer and move to device\n",
    "crop_embeddings = text_model.encode(crop_texts, convert_to_tensor=True).to(device)\n",
    "disease_embeddings = text_model.encode(disease_texts, convert_to_tensor=True).to(device)\n",
    "\n",
    "# Normalize embeddings\n",
    "crop_embeddings = crop_embeddings / crop_embeddings.norm(p=2, dim=-1, keepdim=True)\n",
    "disease_embeddings = disease_embeddings / disease_embeddings.norm(p=2, dim=-1, keepdim=True)\n",
    "\n",
    "def predict_image(image_path):\n",
    "    # Load and preprocess the image\n",
    "    image = Image.open(image_path).convert(\"RGB\")\n",
    "    inputs = clip_processor(images=image, return_tensors=\"pt\", padding=True).to(device)\n",
    "\n",
    "    # Get image embedding\n",
    "    with torch.no_grad():\n",
    "        image_embedding = clip_model.get_image_features(**inputs)\n",
    "        image_embedding = image_embedding / image_embedding.norm(p=2, dim=-1, keepdim=True)  # Normalize\n",
    "        image_embedding = projection_layer(image_embedding)  # Project to 384 dimensions\n",
    "\n",
    "    # Compute similarities\n",
    "    crop_similarities = torch.nn.functional.cosine_similarity(image_embedding, crop_embeddings.unsqueeze(0), dim=-1)\n",
    "    disease_similarities = torch.nn.functional.cosine_similarity(image_embedding, disease_embeddings.unsqueeze(0), dim=-1)\n",
    "\n",
    "    # Get predictions\n",
    "    predicted_crop_idx = torch.argmax(crop_similarities).item()  # Crop index\n",
    "    predicted_disease_idx = torch.argmax(disease_similarities).item()  # Disease index\n",
    "\n",
    "    return predicted_crop_idx, predicted_disease_idx\n",
    "\n"
   ]
  },
  {
   "cell_type": "code",
   "execution_count": 7,
   "metadata": {},
   "outputs": [
    {
     "name": "stdout",
     "output_type": "stream",
     "text": [
      "Predicted Crop Index: 5\n",
      "Predicted Disease Index: 16\n"
     ]
    }
   ],
   "source": [
    "# Example usage\n",
    "image_path = \"plantvillage/686a65da-b541-4b08-94bf-631cf6d27449___RS_HL-7584.JPG\"  # Replace with your image path\n",
    "predicted_crop_idx, predicted_disease_idx = predict_image(image_path)\n",
    "\n",
    "print(f\"Predicted Crop Index: {predicted_crop_idx}\")\n",
    "print(f\"Predicted Disease Index: {predicted_disease_idx}\")"
   ]
  },
  {
   "cell_type": "code",
   "execution_count": 8,
   "metadata": {},
   "outputs": [],
   "source": [
    "import pandas as pd\n",
    "from tqdm import tqdm\n",
    "\n",
    "def evaluate_model(csv_file):\n",
    "    # Load the CSV file\n",
    "    column_names = ['image_name', 'crop_label', 'disease_label']\n",
    "    data = pd.read_csv(\"PV test seen.csv\", header=None, names=column_names)\n",
    "    \n",
    "    # Initialize counters for correct predictions\n",
    "    total_images = 0\n",
    "    correct_crop_predictions = 0\n",
    "    correct_disease_predictions = 0\n",
    "\n",
    "    for _, row in tqdm(data.iterrows(), total=len(data)):\n",
    "        # Extract image path and true labels\n",
    "        image_path = \"plantvillage/\" + row['image_name']  # Prepend \"plantvillage/\"\n",
    "        true_crop_label = int(row['crop_label'])  # Crop label\n",
    "        true_disease_label = int(row['disease_label'])  # Disease label\n",
    "\n",
    "        # Predict crop and disease labels\n",
    "        predicted_crop_idx, predicted_disease_idx = predict_image(image_path)\n",
    "\n",
    "        # Update counters\n",
    "        total_images += 1\n",
    "        if predicted_crop_idx == true_crop_label:\n",
    "            correct_crop_predictions += 1\n",
    "        if predicted_disease_idx == true_disease_label:\n",
    "            correct_disease_predictions += 1\n",
    "\n",
    "    # Calculate accuracy\n",
    "    crop_accuracy = correct_crop_predictions / total_images * 100\n",
    "    disease_accuracy = correct_disease_predictions / total_images * 100\n",
    "\n",
    "    return crop_accuracy, disease_accuracy\n",
    "\n"
   ]
  },
  {
   "cell_type": "code",
   "execution_count": 10,
   "metadata": {},
   "outputs": [
    {
     "name": "stderr",
     "output_type": "stream",
     "text": [
      "  0%|          | 0/10279 [00:00<?, ?it/s]"
     ]
    },
    {
     "name": "stderr",
     "output_type": "stream",
     "text": [
      "100%|██████████| 10279/10279 [09:29<00:00, 18.03it/s]"
     ]
    },
    {
     "name": "stdout",
     "output_type": "stream",
     "text": [
      "Crop Accuracy: 4.03%\n",
      "Disease Accuracy: 2.90%\n"
     ]
    },
    {
     "name": "stderr",
     "output_type": "stream",
     "text": [
      "\n"
     ]
    }
   ],
   "source": [
    "csv_file = \"PV test seen.csv\"\n",
    "crop_acc, disease_acc = evaluate_model(csv_file)\n",
    "\n",
    "print(f\"Crop Accuracy: {crop_acc:.2f}%\")\n",
    "print(f\"Disease Accuracy: {disease_acc:.2f}%\")\n"
   ]
  }
 ],
 "metadata": {
  "kernelspec": {
   "display_name": "Python 3",
   "language": "python",
   "name": "python3"
  },
  "language_info": {
   "codemirror_mode": {
    "name": "ipython",
    "version": 3
   },
   "file_extension": ".py",
   "mimetype": "text/x-python",
   "name": "python",
   "nbconvert_exporter": "python",
   "pygments_lexer": "ipython3",
   "version": "3.11.9"
  }
 },
 "nbformat": 4,
 "nbformat_minor": 2
}
