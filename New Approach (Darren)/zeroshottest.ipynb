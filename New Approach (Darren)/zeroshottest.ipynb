{
 "cells": [
  {
   "cell_type": "code",
   "execution_count": 4,
   "metadata": {},
   "outputs": [
    {
     "name": "stdout",
     "output_type": "stream",
     "text": [
      "Using device: cuda\n"
     ]
    },
    {
     "name": "stderr",
     "output_type": "stream",
     "text": [
      "Testing Progress: 100%|██████████| 10279/10279 [07:56<00:00, 21.57it/s]"
     ]
    },
    {
     "name": "stdout",
     "output_type": "stream",
     "text": [
      "Accuracy: 0.00%\n"
     ]
    },
    {
     "name": "stderr",
     "output_type": "stream",
     "text": [
      "\n"
     ]
    }
   ],
   "source": [
    "import pandas as pd\n",
    "import torch\n",
    "from PIL import Image\n",
    "from transformers import CLIPProcessor, CLIPModel\n",
    "from sklearn.metrics import accuracy_score\n",
    "import os\n",
    "from tqdm import tqdm  # 导入tqdm库来添加进度条\n",
    "\n",
    "# Check if a GPU is available and use it, otherwise fall back to CPU\n",
    "device = torch.device(\"cuda\" if torch.cuda.is_available() else \"cpu\")\n",
    "print(f\"Using device: {device}\")\n",
    "\n",
    "# Load CLIP model and processor from Hugging Face\n",
    "model = CLIPModel.from_pretrained(\"openai/clip-vit-base-patch32\")\n",
    "processor = CLIPProcessor.from_pretrained(\"openai/clip-vit-base-patch32\")\n",
    "\n",
    "# Move the model to GPU or CPU\n",
    "model.to(device)\n",
    "\n",
    "# Plant crop descriptions (for zero-shot classification)\n",
    "plant_crop_descriptions = {\n",
    "    0: \"Apple Leaf\",\n",
    "    1: \"Blueberry Leaf\",\n",
    "    2: \"Cherry Leaf\",\n",
    "    3: \"Corn Leaf\",\n",
    "    4: \"Grape Leaf\",\n",
    "    5: \"Orange Leaf\",\n",
    "    6: \"Peach Leaf\",\n",
    "    7: \"Pepper Leaf\",\n",
    "    8: \"Potato Leaf\",\n",
    "    9: \"Raspberry Leaf\",\n",
    "    10: \"Soybean Leaf\",\n",
    "    11: \"Squash Leaf\",\n",
    "    12: \"Strawberry Leaf\",\n",
    "    13: \"Tomato Leaf\",\n",
    "}\n",
    "\n",
    "# Plant disease descriptions (for zero-shot classification)\n",
    "plant_disease_descriptions = {\n",
    "    0: \"Healthy Leaf\",\n",
    "    1: \"Apple Leaf with Scab\",\n",
    "    2: \"Black Rot\",\n",
    "    3: \"Cedar apple rust\",\n",
    "    4: \"Powdery Mildew\",\n",
    "    5: \"Cercospora leaf spot (Gray leaf spot)\",\n",
    "    6: \"Common rust\",\n",
    "    7: \"Northern Leaf Blight\",\n",
    "    8: \"Esca (Black Measles)\",\n",
    "    9: \"Leaf blight (Isariopsis Leaf Spot)\",\n",
    "    10: \"Huanglongbing (Citrus Greening)\",\n",
    "    11: \"Bacterial spot\",\n",
    "    12: \"Early blight\",\n",
    "    13: \"Late blight\",\n",
    "    14: \"Leaf scorch\",\n",
    "    15: \"Leaf Mold\",\n",
    "    16: \"Septoria leaf spot\",\n",
    "    17: \"Spider mites (Two-spotted spider mite)\",\n",
    "    18: \"Target Spot\",\n",
    "    19: \"Tomato Leaf with Yellow Leaf Curl Virus\",\n",
    "    20: \"Tomato Leaf with Mosaic Virus\",\n",
    "}\n",
    "\n",
    "# Load test data from the CSV file (no column names)\n",
    "test_data = pd.read_csv(\"PV test seen.csv\", header=None)\n",
    "\n",
    "# List to store ground truth labels and predicted labels\n",
    "ground_truth = []\n",
    "predictions = []\n",
    "\n",
    "# Set base directory for images\n",
    "base_dir = \"plantvillage\"  # Base directory for images\n",
    "\n",
    "# Loop through the test images in the folder using tqdm for progress bar\n",
    "for index, row in tqdm(test_data.iterrows(), total=test_data.shape[0], desc=\"Testing Progress\"):\n",
    "    image_path = os.path.join(base_dir, row[0])  # Add base directory to image path\n",
    "    true_crop = row[1]  # Plant crop type (this might not be used for classification directly)\n",
    "    true_disease = row[2]  # True disease label\n",
    "\n",
    "    # Load and process the image\n",
    "    try:\n",
    "        image = Image.open(image_path)\n",
    "    except Exception as e:\n",
    "        print(f\"Error loading image {image_path}: {e}\")\n",
    "        continue\n",
    "\n",
    "    # Combine plant crop descriptions and plant disease descriptions\n",
    "    class_descriptions = list(plant_crop_descriptions.values()) + list(plant_disease_descriptions.values())\n",
    "\n",
    "    inputs = processor(text=class_descriptions, images=image, return_tensors=\"pt\", padding=True)\n",
    "\n",
    "    # Move inputs to the same device as the model (GPU or CPU)\n",
    "    inputs = {key: value.to(device) for key, value in inputs.items()}\n",
    "\n",
    "    # Get model outputs\n",
    "    with torch.no_grad():\n",
    "        outputs = model(**inputs)\n",
    "\n",
    "    # Calculate similarity between the image and each class description (crop + disease)\n",
    "    logits_per_image = outputs.logits_per_image  # shape: [batch_size, num_classes]\n",
    "    probs = logits_per_image.softmax(dim=1)  # softmax to get probabilities\n",
    "\n",
    "    # Get the predicted class index\n",
    "    predicted_class_idx = torch.argmax(probs, dim=1).item()\n",
    "    predicted_class_label = class_descriptions[predicted_class_idx]\n",
    "\n",
    "    # Add the true disease and prediction to the lists\n",
    "    ground_truth.append(true_disease)\n",
    "    predictions.append(predicted_class_label)\n",
    "\n",
    "# Calculate the accuracy\n",
    "accuracy = accuracy_score(ground_truth, predictions)\n",
    "print(f\"Accuracy: {accuracy * 100:.2f}%\")\n"
   ]
  }
 ],
 "metadata": {
  "kernelspec": {
   "display_name": "Python 3",
   "language": "python",
   "name": "python3"
  },
  "language_info": {
   "codemirror_mode": {
    "name": "ipython",
    "version": 3
   },
   "file_extension": ".py",
   "mimetype": "text/x-python",
   "name": "python",
   "nbconvert_exporter": "python",
   "pygments_lexer": "ipython3",
   "version": "3.11.9"
  }
 },
 "nbformat": 4,
 "nbformat_minor": 2
}
