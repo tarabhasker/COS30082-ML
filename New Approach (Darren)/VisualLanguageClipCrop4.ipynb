{
 "cells": [
  {
   "cell_type": "code",
   "execution_count": 3,
   "metadata": {},
   "outputs": [],
   "source": [
    "import tensorflow as tf\n",
    "import pandas as pd\n",
    "import os\n",
    "from tensorflow.keras.layers import Dense, Dropout\n",
    "from tensorflow.keras.models import Model\n",
    "from tensorflow.keras.optimizers import Adam\n",
    "import clip\n",
    "import torch\n",
    "from PIL import Image\n",
    "from tqdm import tqdm\n",
    "from torchvision import transforms"
   ]
  },
  {
   "cell_type": "code",
   "execution_count": 4,
   "metadata": {},
   "outputs": [],
   "source": [
    "# 检查设备\n",
    "device = \"cuda\" if torch.cuda.is_available() else \"cpu\"\n",
    "\n",
    "# 加载 CLIP 模型\n",
    "clip_model, preprocess = clip.load(\"ViT-B/32\", device=device)"
   ]
  },
  {
   "cell_type": "code",
   "execution_count": 7,
   "metadata": {},
   "outputs": [],
   "source": [
    "# Data paths\n",
    "train_csv_path = 'PV train.csv'\n",
    "train_img_dir = 'plantvillage/'\n",
    "test_csv_path = 'PV test seen.csv'\n",
    "test_img_dir = 'plantvillage/'\n",
    "\n",
    "# Load data\n",
    "train_df = pd.read_csv(train_csv_path, delimiter=',', header=None, names=['image', 'label', 'ignore'])\n",
    "test_df = pd.read_csv(test_csv_path, delimiter=',', header=None, names=['image', 'label', 'ignore'])\n",
    "\n",
    "train_df = train_df[['image', 'label']]\n",
    "test_df = test_df[['image', 'label']]\n",
    "\n",
    "train_df['image'] = train_df['image'].apply(lambda x: os.path.join(train_img_dir, x))\n",
    "test_df['image'] = test_df['image'].apply(lambda x: os.path.join(test_img_dir, x))\n",
    "\n",
    "train_df['label'] = train_df['label'].astype(int)\n",
    "test_df['label'] = test_df['label'].astype(int)\n",
    "\n",
    "# Text descriptions\n",
    "plant_crop_descriptions = {\n",
    "    0: \"Apple Leaf\",\n",
    "    1: \"Blueberry Leaf\",\n",
    "    2: \"Cherry Leaf\",\n",
    "    3: \"Corn Leaf\",\n",
    "    4: \"Grape Leaf\",\n",
    "    5: \"Orange Leaf\",\n",
    "    6: \"Peach Leaf\",\n",
    "    7: \"Pepper Leaf\",\n",
    "    8: \"Potato Leaf\",\n",
    "    9: \"Raspberry Leaf\",\n",
    "    10: \"Soybean Leaf\",\n",
    "    11: \"Squash Leaf\",\n",
    "    12: \"Strawberry Leaf\",\n",
    "    13: \"Tomato Leaf\",\n",
    "}\n"
   ]
  },
  {
   "cell_type": "code",
   "execution_count": 8,
   "metadata": {},
   "outputs": [],
   "source": [
    "# 合并所有文字描述\n",
    "text_descriptions = list(plant_crop_descriptions.values())\n",
    "\n",
    "# 提取文本特征\n",
    "text_tokens = clip.tokenize(text_descriptions).to(device)\n",
    "with torch.no_grad():\n",
    "    text_features = clip_model.encode_text(text_tokens)\n",
    "    text_features /= text_features.norm(dim=-1, keepdim=True)  # 归一化文本特征\n",
    "\n",
    "# Data augmentation transformations\n",
    "augmentation_transforms = transforms.Compose([\n",
    "    transforms.RandomHorizontalFlip(p=0.5),\n",
    "    transforms.RandomVerticalFlip(p=0.5),\n",
    "    transforms.RandomRotation(degrees=20),\n",
    "    transforms.ColorJitter(brightness=0.2, contrast=0.2, saturation=0.2, hue=0.1),\n",
    "    transforms.Resize((224, 224)),  # Resize to match CLIP's input size\n",
    "    transforms.ToTensor(),\n",
    "    transforms.Normalize(mean=(0.48145466, 0.4578275, 0.40821073),\n",
    "                         std=(0.26862954, 0.26130258, 0.27577711))  # CLIP normalization\n",
    "])\n",
    "\n",
    "# Preprocess image with optional augmentation\n",
    "def preprocess_image_with_augmentation(image_path, augment=False):\n",
    "    image = Image.open(image_path).convert(\"RGB\")\n",
    "    if augment:\n",
    "        image = augmentation_transforms(image)\n",
    "    else:\n",
    "        image = preprocess(image)  # Use CLIP's default preprocess pipeline\n",
    "    return image.unsqueeze(0).to(device)\n",
    "\n",
    "# Extract CLIP features with augmentation\n",
    "def extract_clip_features_with_augmentation(df, clip_model, augment=False):\n",
    "    features = []\n",
    "    labels = []\n",
    "    for _, row in tqdm(df.iterrows(), total=len(df), desc=\"Extracting CLIP Features\"):\n",
    "        image_path = row['image']\n",
    "        label = row['label']\n",
    "        image = preprocess_image_with_augmentation(image_path, augment=augment)\n",
    "        with torch.no_grad():\n",
    "            feature = clip_model.encode_image(image)\n",
    "            feature /= feature.norm(dim=-1, keepdim=True)  # Normalize image features\n",
    "        features.append(feature.cpu().numpy())\n",
    "        labels.append(label)\n",
    "    return tf.convert_to_tensor(features), tf.convert_to_tensor(labels)"
   ]
  },
  {
   "cell_type": "code",
   "execution_count": 6,
   "metadata": {},
   "outputs": [
    {
     "name": "stderr",
     "output_type": "stream",
     "text": [
      "Extracting CLIP Features: 100%|██████████| 38994/38994 [13:32<00:00, 48.01it/s]\n",
      "Extracting CLIP Features: 100%|██████████| 10279/10279 [02:39<00:00, 64.37it/s]\n"
     ]
    }
   ],
   "source": [
    "# Extract augmented features for training set\n",
    "train_features_augmented, train_labels_augmented = extract_clip_features_with_augmentation(\n",
    "    train_df, clip_model, augment=True\n",
    ")\n",
    "\n",
    "# Extract normal features for test set (no augmentation for test)\n",
    "test_features, test_labels = extract_clip_features_with_augmentation(test_df, clip_model, augment=False)\n"
   ]
  },
  {
   "cell_type": "code",
   "execution_count": 7,
   "metadata": {},
   "outputs": [
    {
     "name": "stdout",
     "output_type": "stream",
     "text": [
      "Predicted: Grape Leaf\n"
     ]
    }
   ],
   "source": [
    "# 方案 1: 零样本分类\n",
    "def classify_with_clip(image_path, clip_model, text_features):\n",
    "    image = preprocess_image_with_augmentation(image_path)\n",
    "    with torch.no_grad():\n",
    "        image_features = clip_model.encode_image(image)\n",
    "        image_features /= image_features.norm(dim=-1, keepdim=True)  # 归一化\n",
    "        similarities = (image_features @ text_features.T).cpu().numpy()\n",
    "        best_match_idx = similarities.argmax()\n",
    "    return best_match_idx\n",
    "\n",
    "# 示例: 零样本分类\n",
    "example_image_path = train_df.iloc[0]['image']\n",
    "predicted_label_idx = classify_with_clip(example_image_path, clip_model, text_features)\n",
    "print(f\"Predicted: {text_descriptions[predicted_label_idx]}\")\n",
    "\n",
    "# 方案 2: 联合特征训练分类器\n",
    "# 转换为 TensorFlow 张量\n",
    "train_features_augmented = tf.squeeze(train_features_augmented, axis=1)\n",
    "test_features = tf.squeeze(test_features, axis=1)"
   ]
  },
  {
   "cell_type": "code",
   "execution_count": 8,
   "metadata": {},
   "outputs": [],
   "source": [
    "from tensorflow.keras.callbacks import EarlyStopping\n",
    "\n",
    "# Define early stopping\n",
    "early_stopping = EarlyStopping(\n",
    "    monitor='val_loss',  # Monitor the validation loss\n",
    "    patience=3,          # Number of epochs with no improvement after which training will stop\n",
    "    restore_best_weights=True  # Restore model weights from the epoch with the best value of the monitored quantity\n",
    ")\n",
    "\n",
    "# Classifier\n",
    "input_shape = train_features_augmented.shape[1:]\n",
    "inputs = tf.keras.Input(shape=input_shape)\n",
    "x = Dense(512, activation='relu')(inputs)\n",
    "x = Dropout(0.5)(x)\n",
    "x = Dense(256, activation='relu')(x)  # Fixed: Updated to chain properly with previous layer\n",
    "x = Dropout(0.3)(x)\n",
    "outputs = Dense(len(set(train_labels_augmented.numpy())), activation='softmax')(x)\n",
    "\n",
    "model = Model(inputs=inputs, outputs=outputs)\n",
    "\n",
    "# Compile the model\n",
    "model.compile(optimizer=Adam(learning_rate=0.00005),\n",
    "              loss='sparse_categorical_crossentropy',\n",
    "              metrics=['accuracy'])\n"
   ]
  },
  {
   "cell_type": "code",
   "execution_count": 9,
   "metadata": {},
   "outputs": [
    {
     "name": "stdout",
     "output_type": "stream",
     "text": [
      "Epoch 1/35\n",
      "\u001b[1m1219/1219\u001b[0m \u001b[32m━━━━━━━━━━━━━━━━━━━━\u001b[0m\u001b[37m\u001b[0m \u001b[1m6s\u001b[0m 4ms/step - accuracy: 0.3999 - loss: 2.0874 - val_accuracy: 0.6380 - val_loss: 1.2174\n",
      "Epoch 2/35\n",
      "\u001b[1m1219/1219\u001b[0m \u001b[32m━━━━━━━━━━━━━━━━━━━━\u001b[0m\u001b[37m\u001b[0m \u001b[1m5s\u001b[0m 4ms/step - accuracy: 0.6930 - loss: 1.0292 - val_accuracy: 0.7698 - val_loss: 0.7930\n",
      "Epoch 3/35\n",
      "\u001b[1m1219/1219\u001b[0m \u001b[32m━━━━━━━━━━━━━━━━━━━━\u001b[0m\u001b[37m\u001b[0m \u001b[1m5s\u001b[0m 4ms/step - accuracy: 0.7864 - loss: 0.7032 - val_accuracy: 0.8483 - val_loss: 0.5887\n",
      "Epoch 4/35\n",
      "\u001b[1m1219/1219\u001b[0m \u001b[32m━━━━━━━━━━━━━━━━━━━━\u001b[0m\u001b[37m\u001b[0m \u001b[1m4s\u001b[0m 4ms/step - accuracy: 0.8404 - loss: 0.5348 - val_accuracy: 0.8735 - val_loss: 0.4690\n",
      "Epoch 5/35\n",
      "\u001b[1m1219/1219\u001b[0m \u001b[32m━━━━━━━━━━━━━━━━━━━━\u001b[0m\u001b[37m\u001b[0m \u001b[1m5s\u001b[0m 4ms/step - accuracy: 0.8709 - loss: 0.4342 - val_accuracy: 0.8988 - val_loss: 0.3805\n",
      "Epoch 6/35\n",
      "\u001b[1m1219/1219\u001b[0m \u001b[32m━━━━━━━━━━━━━━━━━━━━\u001b[0m\u001b[37m\u001b[0m \u001b[1m5s\u001b[0m 4ms/step - accuracy: 0.8937 - loss: 0.3675 - val_accuracy: 0.9102 - val_loss: 0.3265\n",
      "Epoch 7/35\n",
      "\u001b[1m1219/1219\u001b[0m \u001b[32m━━━━━━━━━━━━━━━━━━━━\u001b[0m\u001b[37m\u001b[0m \u001b[1m5s\u001b[0m 4ms/step - accuracy: 0.9059 - loss: 0.3124 - val_accuracy: 0.9237 - val_loss: 0.2766\n",
      "Epoch 8/35\n",
      "\u001b[1m1219/1219\u001b[0m \u001b[32m━━━━━━━━━━━━━━━━━━━━\u001b[0m\u001b[37m\u001b[0m \u001b[1m5s\u001b[0m 4ms/step - accuracy: 0.9179 - loss: 0.2699 - val_accuracy: 0.9315 - val_loss: 0.2427\n",
      "Epoch 9/35\n",
      "\u001b[1m1219/1219\u001b[0m \u001b[32m━━━━━━━━━━━━━━━━━━━━\u001b[0m\u001b[37m\u001b[0m \u001b[1m4s\u001b[0m 3ms/step - accuracy: 0.9245 - loss: 0.2437 - val_accuracy: 0.9375 - val_loss: 0.2190\n",
      "Epoch 10/35\n",
      "\u001b[1m1219/1219\u001b[0m \u001b[32m━━━━━━━━━━━━━━━━━━━━\u001b[0m\u001b[37m\u001b[0m \u001b[1m6s\u001b[0m 5ms/step - accuracy: 0.9322 - loss: 0.2223 - val_accuracy: 0.9431 - val_loss: 0.1951\n",
      "Epoch 11/35\n",
      "\u001b[1m1219/1219\u001b[0m \u001b[32m━━━━━━━━━━━━━━━━━━━━\u001b[0m\u001b[37m\u001b[0m \u001b[1m5s\u001b[0m 4ms/step - accuracy: 0.9384 - loss: 0.2005 - val_accuracy: 0.9469 - val_loss: 0.1828\n",
      "Epoch 12/35\n",
      "\u001b[1m1219/1219\u001b[0m \u001b[32m━━━━━━━━━━━━━━━━━━━━\u001b[0m\u001b[37m\u001b[0m \u001b[1m5s\u001b[0m 4ms/step - accuracy: 0.9438 - loss: 0.1861 - val_accuracy: 0.9511 - val_loss: 0.1662\n",
      "Epoch 13/35\n",
      "\u001b[1m1219/1219\u001b[0m \u001b[32m━━━━━━━━━━━━━━━━━━━━\u001b[0m\u001b[37m\u001b[0m \u001b[1m5s\u001b[0m 4ms/step - accuracy: 0.9498 - loss: 0.1659 - val_accuracy: 0.9517 - val_loss: 0.1610\n",
      "Epoch 14/35\n",
      "\u001b[1m1219/1219\u001b[0m \u001b[32m━━━━━━━━━━━━━━━━━━━━\u001b[0m\u001b[37m\u001b[0m \u001b[1m6s\u001b[0m 5ms/step - accuracy: 0.9554 - loss: 0.1516 - val_accuracy: 0.9555 - val_loss: 0.1485\n",
      "Epoch 15/35\n",
      "\u001b[1m1219/1219\u001b[0m \u001b[32m━━━━━━━━━━━━━━━━━━━━\u001b[0m\u001b[37m\u001b[0m \u001b[1m6s\u001b[0m 5ms/step - accuracy: 0.9537 - loss: 0.1508 - val_accuracy: 0.9588 - val_loss: 0.1393\n",
      "Epoch 16/35\n",
      "\u001b[1m1219/1219\u001b[0m \u001b[32m━━━━━━━━━━━━━━━━━━━━\u001b[0m\u001b[37m\u001b[0m \u001b[1m6s\u001b[0m 5ms/step - accuracy: 0.9582 - loss: 0.1377 - val_accuracy: 0.9611 - val_loss: 0.1324\n",
      "Epoch 17/35\n",
      "\u001b[1m1219/1219\u001b[0m \u001b[32m━━━━━━━━━━━━━━━━━━━━\u001b[0m\u001b[37m\u001b[0m \u001b[1m6s\u001b[0m 5ms/step - accuracy: 0.9627 - loss: 0.1223 - val_accuracy: 0.9645 - val_loss: 0.1224\n",
      "Epoch 18/35\n",
      "\u001b[1m1219/1219\u001b[0m \u001b[32m━━━━━━━━━━━━━━━━━━━━\u001b[0m\u001b[37m\u001b[0m \u001b[1m5s\u001b[0m 4ms/step - accuracy: 0.9624 - loss: 0.1210 - val_accuracy: 0.9660 - val_loss: 0.1196\n",
      "Epoch 19/35\n",
      "\u001b[1m1219/1219\u001b[0m \u001b[32m━━━━━━━━━━━━━━━━━━━━\u001b[0m\u001b[37m\u001b[0m \u001b[1m5s\u001b[0m 4ms/step - accuracy: 0.9640 - loss: 0.1153 - val_accuracy: 0.9669 - val_loss: 0.1124\n",
      "Epoch 20/35\n",
      "\u001b[1m1219/1219\u001b[0m \u001b[32m━━━━━━━━━━━━━━━━━━━━\u001b[0m\u001b[37m\u001b[0m \u001b[1m5s\u001b[0m 4ms/step - accuracy: 0.9646 - loss: 0.1121 - val_accuracy: 0.9659 - val_loss: 0.1117\n",
      "Epoch 21/35\n",
      "\u001b[1m1219/1219\u001b[0m \u001b[32m━━━━━━━━━━━━━━━━━━━━\u001b[0m\u001b[37m\u001b[0m \u001b[1m5s\u001b[0m 4ms/step - accuracy: 0.9682 - loss: 0.1053 - val_accuracy: 0.9697 - val_loss: 0.1050\n",
      "Epoch 22/35\n",
      "\u001b[1m1219/1219\u001b[0m \u001b[32m━━━━━━━━━━━━━━━━━━━━\u001b[0m\u001b[37m\u001b[0m \u001b[1m4s\u001b[0m 3ms/step - accuracy: 0.9701 - loss: 0.0974 - val_accuracy: 0.9692 - val_loss: 0.1019\n",
      "Epoch 23/35\n",
      "\u001b[1m1219/1219\u001b[0m \u001b[32m━━━━━━━━━━━━━━━━━━━━\u001b[0m\u001b[37m\u001b[0m \u001b[1m5s\u001b[0m 4ms/step - accuracy: 0.9709 - loss: 0.0937 - val_accuracy: 0.9716 - val_loss: 0.0970\n",
      "Epoch 24/35\n",
      "\u001b[1m1219/1219\u001b[0m \u001b[32m━━━━━━━━━━━━━━━━━━━━\u001b[0m\u001b[37m\u001b[0m \u001b[1m6s\u001b[0m 5ms/step - accuracy: 0.9724 - loss: 0.0888 - val_accuracy: 0.9722 - val_loss: 0.0934\n",
      "Epoch 25/35\n",
      "\u001b[1m1219/1219\u001b[0m \u001b[32m━━━━━━━━━━━━━━━━━━━━\u001b[0m\u001b[37m\u001b[0m \u001b[1m6s\u001b[0m 5ms/step - accuracy: 0.9727 - loss: 0.0844 - val_accuracy: 0.9729 - val_loss: 0.0898\n",
      "Epoch 26/35\n",
      "\u001b[1m1219/1219\u001b[0m \u001b[32m━━━━━━━━━━━━━━━━━━━━\u001b[0m\u001b[37m\u001b[0m \u001b[1m4s\u001b[0m 3ms/step - accuracy: 0.9728 - loss: 0.0860 - val_accuracy: 0.9728 - val_loss: 0.0890\n",
      "Epoch 27/35\n",
      "\u001b[1m1219/1219\u001b[0m \u001b[32m━━━━━━━━━━━━━━━━━━━━\u001b[0m\u001b[37m\u001b[0m \u001b[1m5s\u001b[0m 4ms/step - accuracy: 0.9744 - loss: 0.0824 - val_accuracy: 0.9731 - val_loss: 0.0879\n",
      "Epoch 28/35\n",
      "\u001b[1m1219/1219\u001b[0m \u001b[32m━━━━━━━━━━━━━━━━━━━━\u001b[0m\u001b[37m\u001b[0m \u001b[1m4s\u001b[0m 3ms/step - accuracy: 0.9760 - loss: 0.0787 - val_accuracy: 0.9735 - val_loss: 0.0844\n",
      "Epoch 29/35\n",
      "\u001b[1m1219/1219\u001b[0m \u001b[32m━━━━━━━━━━━━━━━━━━━━\u001b[0m\u001b[37m\u001b[0m \u001b[1m5s\u001b[0m 4ms/step - accuracy: 0.9754 - loss: 0.0764 - val_accuracy: 0.9753 - val_loss: 0.0807\n",
      "Epoch 30/35\n",
      "\u001b[1m1219/1219\u001b[0m \u001b[32m━━━━━━━━━━━━━━━━━━━━\u001b[0m\u001b[37m\u001b[0m \u001b[1m4s\u001b[0m 3ms/step - accuracy: 0.9781 - loss: 0.0700 - val_accuracy: 0.9761 - val_loss: 0.0791\n",
      "Epoch 31/35\n",
      "\u001b[1m1219/1219\u001b[0m \u001b[32m━━━━━━━━━━━━━━━━━━━━\u001b[0m\u001b[37m\u001b[0m \u001b[1m3s\u001b[0m 3ms/step - accuracy: 0.9775 - loss: 0.0694 - val_accuracy: 0.9762 - val_loss: 0.0770\n",
      "Epoch 32/35\n",
      "\u001b[1m1219/1219\u001b[0m \u001b[32m━━━━━━━━━━━━━━━━━━━━\u001b[0m\u001b[37m\u001b[0m \u001b[1m3s\u001b[0m 3ms/step - accuracy: 0.9794 - loss: 0.0680 - val_accuracy: 0.9759 - val_loss: 0.0760\n",
      "Epoch 33/35\n",
      "\u001b[1m1219/1219\u001b[0m \u001b[32m━━━━━━━━━━━━━━━━━━━━\u001b[0m\u001b[37m\u001b[0m \u001b[1m3s\u001b[0m 3ms/step - accuracy: 0.9804 - loss: 0.0621 - val_accuracy: 0.9754 - val_loss: 0.0786\n",
      "Epoch 34/35\n",
      "\u001b[1m1219/1219\u001b[0m \u001b[32m━━━━━━━━━━━━━━━━━━━━\u001b[0m\u001b[37m\u001b[0m \u001b[1m5s\u001b[0m 4ms/step - accuracy: 0.9801 - loss: 0.0645 - val_accuracy: 0.9767 - val_loss: 0.0731\n",
      "Epoch 35/35\n",
      "\u001b[1m1219/1219\u001b[0m \u001b[32m━━━━━━━━━━━━━━━━━━━━\u001b[0m\u001b[37m\u001b[0m \u001b[1m5s\u001b[0m 4ms/step - accuracy: 0.9810 - loss: 0.0598 - val_accuracy: 0.9773 - val_loss: 0.0713\n"
     ]
    }
   ],
   "source": [
    "# Train the model with early stopping\n",
    "history = model.fit(\n",
    "    train_features_augmented,\n",
    "    train_labels_augmented,\n",
    "    epochs=35,  # Maximum number of epochs\n",
    "    validation_data=(test_features, test_labels)\n",
    ")\n"
   ]
  },
  {
   "cell_type": "code",
   "execution_count": 10,
   "metadata": {},
   "outputs": [
    {
     "name": "stdout",
     "output_type": "stream",
     "text": [
      "\u001b[1m322/322\u001b[0m \u001b[32m━━━━━━━━━━━━━━━━━━━━\u001b[0m\u001b[37m\u001b[0m \u001b[1m0s\u001b[0m 972us/step - accuracy: 0.9662 - loss: 0.1062\n",
      "Test Loss: 0.07130509614944458, Test Accuracy: 0.9773324131965637\n"
     ]
    }
   ],
   "source": [
    "# Evaluate the model\n",
    "test_loss, test_accuracy = model.evaluate(test_features, test_labels)\n",
    "print(f\"Test Loss: {test_loss}, Test Accuracy: {test_accuracy}\")"
   ]
  },
  {
   "cell_type": "code",
   "execution_count": 11,
   "metadata": {},
   "outputs": [
    {
     "name": "stdout",
     "output_type": "stream",
     "text": [
      "                                               image  label\n",
      "0  plantvillage/6820b823-5ed9-422d-ba0c-5134cd046...      7\n",
      "1  plantvillage/821fa2f8-b221-472d-a789-f0c42923f...      7\n",
      "2  plantvillage/70985466-254f-479b-86f2-9792be086...      7\n",
      "3  plantvillage/b98b517c-c70a-4299-ba3d-857cd61ec...      7\n",
      "4  plantvillage/41f3e9be-44a8-42b1-9654-8e7127bfc...      7\n"
     ]
    }
   ],
   "source": [
    "# 定义路径\n",
    "unseen_test_csv_path = 'PV test unseen.csv'\n",
    "unseen_test_img_dir = 'plantvillage/'\n",
    "\n",
    "# 加载未见测试集\n",
    "unseen_test_df = pd.read_csv(unseen_test_csv_path, delimiter=',', header=None, names=['image', 'label', 'ignore'])\n",
    "unseen_test_df = unseen_test_df[['image', 'label']]\n",
    "\n",
    "# 添加完整的图像路径\n",
    "unseen_test_df['image'] = unseen_test_df['image'].apply(lambda x: os.path.join(unseen_test_img_dir, x))\n",
    "unseen_test_df['label'] = unseen_test_df['label'].astype(int)\n",
    "\n",
    "print(unseen_test_df.head())\n"
   ]
  },
  {
   "cell_type": "code",
   "execution_count": 12,
   "metadata": {},
   "outputs": [
    {
     "name": "stderr",
     "output_type": "stream",
     "text": [
      "Extracting CLIP Features: 100%|██████████| 216/216 [00:03<00:00, 65.79it/s]\n"
     ]
    }
   ],
   "source": [
    "# 提取未见测试集的 CLIP 特征\n",
    "unseen_test_features, unseen_test_labels = extract_clip_features_with_augmentation(unseen_test_df, clip_model)"
   ]
  },
  {
   "cell_type": "code",
   "execution_count": 13,
   "metadata": {},
   "outputs": [],
   "source": [
    "# 移除多余的维度\n",
    "unseen_test_features = tf.squeeze(unseen_test_features, axis=1)"
   ]
  },
  {
   "cell_type": "code",
   "execution_count": 14,
   "metadata": {},
   "outputs": [
    {
     "name": "stdout",
     "output_type": "stream",
     "text": [
      "\u001b[1m7/7\u001b[0m \u001b[32m━━━━━━━━━━━━━━━━━━━━\u001b[0m\u001b[37m\u001b[0m \u001b[1m0s\u001b[0m 3ms/step - accuracy: 0.7419 - loss: 0.8825\n",
      "Unseen Test Loss: 0.8036274909973145\n",
      "Unseen Test Accuracy: 0.7638888955116272\n"
     ]
    }
   ],
   "source": [
    "# 评估模型在未见测试集上的性能\n",
    "unseen_test_loss, unseen_test_accuracy = model.evaluate(unseen_test_features, unseen_test_labels)\n",
    "\n",
    "print(f\"Unseen Test Loss: {unseen_test_loss}\")\n",
    "print(f\"Unseen Test Accuracy: {unseen_test_accuracy}\")"
   ]
  },
  {
   "cell_type": "code",
   "execution_count": 15,
   "metadata": {},
   "outputs": [
    {
     "name": "stderr",
     "output_type": "stream",
     "text": [
      "WARNING:absl:You are saving your model as an HDF5 file via `model.save()` or `keras.saving.save_model(model)`. This file format is considered legacy. We recommend using instead the native Keras format, e.g. `model.save('my_model.keras')` or `keras.saving.save_model(model, 'my_model.keras')`. \n"
     ]
    }
   ],
   "source": [
    "model.save('VisualLanguageClipCrop.h5')"
   ]
  },
  {
   "cell_type": "code",
   "execution_count": 16,
   "metadata": {},
   "outputs": [
    {
     "name": "stdout",
     "output_type": "stream",
     "text": [
      "\u001b[1m7/7\u001b[0m \u001b[32m━━━━━━━━━━━━━━━━━━━━\u001b[0m\u001b[37m\u001b[0m \u001b[1m0s\u001b[0m 8ms/step \n",
      "\u001b[1m7/7\u001b[0m \u001b[32m━━━━━━━━━━━━━━━━━━━━\u001b[0m\u001b[37m\u001b[0m \u001b[1m0s\u001b[0m 0s/step  \n",
      "Top-1 Accuracy: 0.7638888888888888\n",
      "Top-5 Accuracy: 0.9907407407407407\n"
     ]
    }
   ],
   "source": [
    "import numpy as np\n",
    "\n",
    "def calculate_top_n_accuracy(model, features, labels, n=5):\n",
    "    # 获取模型的预测结果\n",
    "    predictions = model.predict(features)  # 输出为概率分布\n",
    "    \n",
    "    # 取前 N 个最高概率的索引\n",
    "    top_n_predictions = np.argsort(predictions, axis=-1)[:, -n:]  # 倒序取前 N 个\n",
    "\n",
    "    # 计算 Top-N 准确率\n",
    "    correct = 0\n",
    "    for i, label in enumerate(labels):\n",
    "        if label in top_n_predictions[i]:\n",
    "            correct += 1\n",
    "\n",
    "    top_n_accuracy = correct / len(labels)\n",
    "    return top_n_accuracy\n",
    "\n",
    "# 计算 Top-1 和 Top-5 准确率\n",
    "top_1_accuracy = calculate_top_n_accuracy(model, unseen_test_features, unseen_test_labels, n=1)\n",
    "top_5_accuracy = calculate_top_n_accuracy(model, unseen_test_features, unseen_test_labels, n=5)\n",
    "\n",
    "print(f\"Top-1 Accuracy: {top_1_accuracy}\")\n",
    "print(f\"Top-5 Accuracy: {top_5_accuracy}\")\n"
   ]
  },
  {
   "cell_type": "code",
   "execution_count": 17,
   "metadata": {},
   "outputs": [
    {
     "name": "stdout",
     "output_type": "stream",
     "text": [
      "\u001b[1m322/322\u001b[0m \u001b[32m━━━━━━━━━━━━━━━━━━━━\u001b[0m\u001b[37m\u001b[0m \u001b[1m0s\u001b[0m 926us/step - accuracy: 0.9662 - loss: 0.1062\n",
      "Harmonic Mean: 0.8575284186228088\n"
     ]
    }
   ],
   "source": [
    "def calculate_harmonic_mean(seen_accuracy, unseen_accuracy):\n",
    "    if seen_accuracy + unseen_accuracy == 0:\n",
    "        return 0\n",
    "    return 2 * (seen_accuracy * unseen_accuracy) / (seen_accuracy + unseen_accuracy)\n",
    "\n",
    "# 假设 `seen_accuracy` 和 `unseen_accuracy` 是模型在已知和未知类别测试集上的准确率\n",
    "seen_accuracy = model.evaluate(test_features, test_labels)[1]  # 测试集上的准确率\n",
    "unseen_accuracy = unseen_test_accuracy  # 未见测试集上的准确率\n",
    "\n",
    "harmonic_mean = calculate_harmonic_mean(seen_accuracy, unseen_accuracy)\n",
    "print(f\"Harmonic Mean: {harmonic_mean}\")\n"
   ]
  },
  {
   "cell_type": "code",
   "execution_count": 19,
   "metadata": {},
   "outputs": [
    {
     "name": "stdout",
     "output_type": "stream",
     "text": [
      "\u001b[1m7/7\u001b[0m \u001b[32m━━━━━━━━━━━━━━━━━━━━\u001b[0m\u001b[37m\u001b[0m \u001b[1m0s\u001b[0m 31ms/step\n"
     ]
    },
    {
     "data": {
      "image/png": "[encoded data removed]",
      "text/plain": [
       "<Figure size 640x480 with 2 Axes>"
      ]
     },
     "metadata": {},
     "output_type": "display_data"
    }
   ],
   "source": [
    "import numpy as np\n",
    "import matplotlib.pyplot as plt\n",
    "from sklearn.metrics import confusion_matrix, ConfusionMatrixDisplay\n",
    "\n",
    "# 获取模型预测结果\n",
    "predicted_probs = model.predict(unseen_test_features)  # 预测类别概率\n",
    "predicted_labels = np.argmax(predicted_probs, axis=1)  # 获取每个样本的预测类别\n",
    "true_labels = unseen_test_labels.numpy()  # 将 Tensor 转换为 NumPy\n",
    "\n",
    "# 确保混淆矩阵的维度一致\n",
    "num_classes = len(text_descriptions)  # 21 classes\n",
    "cm = confusion_matrix(true_labels, predicted_labels, labels=np.arange(num_classes))\n",
    "\n",
    "# 绘制混淆矩阵\n",
    "disp = ConfusionMatrixDisplay(confusion_matrix=cm, display_labels=np.arange(num_classes))\n",
    "disp.plot(cmap=plt.cm.Blues, xticks_rotation='vertical')\n",
    "\n",
    "# 显示\n",
    "plt.title(\"Confusion Matrix (Numeric Labels)\")\n",
    "plt.show()"
   ]
  },
  {
   "cell_type": "code",
   "execution_count": 20,
   "metadata": {},
   "outputs": [
    {
     "data": {
      "image/png": "[encoded data removed]",
      "text/plain": [
       "<Figure size 640x480 with 2 Axes>"
      ]
     },
     "metadata": {},
     "output_type": "display_data"
    }
   ],
   "source": [
    "from sklearn.manifold import TSNE\n",
    "import matplotlib.pyplot as plt\n",
    "\n",
    "tsne = TSNE(n_components=2, random_state=42)\n",
    "features_2d = tsne.fit_transform(unseen_test_features.numpy())\n",
    "\n",
    "plt.scatter(features_2d[:, 0], features_2d[:, 1], c=unseen_test_labels, cmap='viridis', s=10)\n",
    "plt.colorbar()\n",
    "plt.title(\"t-SNE Visualization of Unseen Test Features\")\n",
    "plt.show()\n"
   ]
  },
  {
   "cell_type": "code",
   "execution_count": 9,
   "metadata": {},
   "outputs": [
    {
     "name": "stderr",
     "output_type": "stream",
     "text": [
      "WARNING:absl:Compiled the loaded model, but the compiled metrics have yet to be built. `model.compile_metrics` will be empty until you train or evaluate the model.\n"
     ]
    },
    {
     "name": "stdout",
     "output_type": "stream",
     "text": [
      "\u001b[1m1/1\u001b[0m \u001b[32m━━━━━━━━━━━━━━━━━━━━\u001b[0m\u001b[37m\u001b[0m \u001b[1m0s\u001b[0m 50ms/step\n",
      "Predicted Class Index: 0\n",
      "Predicted Label: Apple Leaf\n"
     ]
    }
   ],
   "source": [
    "from tensorflow.keras.models import load_model\n",
    "\n",
    "# Load the trained classification model\n",
    "model_path = \"VisualLanguageClipCrop.h5\"  # Path to your saved model\n",
    "classification_model = load_model(model_path)\n",
    "\n",
    "# Test a single image\n",
    "def test_single_image(image_path, clip_model, classification_model):\n",
    "    # Preprocess the image and extract CLIP features\n",
    "    image = preprocess_image_with_augmentation(image_path)\n",
    "    with torch.no_grad():\n",
    "        image_features = clip_model.encode_image(image)\n",
    "        image_features /= image_features.norm(dim=-1, keepdim=True)  # Normalize\n",
    "\n",
    "    # Convert to TensorFlow tensor (remove extra dimension)\n",
    "    image_features_tf = tf.convert_to_tensor(image_features.cpu().numpy())\n",
    "    image_features_tf = tf.squeeze(image_features_tf, axis=0)\n",
    "\n",
    "    # Predict using the loaded classification model\n",
    "    predictions = classification_model.predict(tf.expand_dims(image_features_tf, axis=0))\n",
    "    predicted_class = tf.argmax(predictions[0]).numpy()\n",
    "\n",
    "    # Output the results\n",
    "    predicted_label = plant_crop_descriptions[predicted_class]\n",
    "    print(f\"Predicted Class Index: {predicted_class}\")\n",
    "    print(f\"Predicted Label: {predicted_label}\")\n",
    "    return predicted_class, predicted_label\n",
    "\n",
    "# Example: Test a single image\n",
    "test_image_path = \"plantvillage/4b22a1e7-745b-4c78-a49e-14ca8cfba26a___RS_HL-8111.JPG\"  # Replace with the path to your test image\n",
    "predicted_class, predicted_label = test_single_image(\n",
    "    test_image_path, clip_model, classification_model\n",
    ")\n"
   ]
  }
 ],
 "metadata": {
  "kernelspec": {
   "display_name": "Python 3",
   "language": "python",
   "name": "python3"
  },
  "language_info": {
   "codemirror_mode": {
    "name": "ipython",
    "version": 3
   },
   "file_extension": ".py",
   "mimetype": "text/x-python",
   "name": "python",
   "nbconvert_exporter": "python",
   "pygments_lexer": "ipython3",
   "version": "3.11.undefined"
  }
 },
 "nbformat": 4,
 "nbformat_minor": 2
}
