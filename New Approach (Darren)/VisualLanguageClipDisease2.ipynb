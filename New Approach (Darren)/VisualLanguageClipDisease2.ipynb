{
 "cells": [
  {
   "cell_type": "code",
   "execution_count": 2,
   "metadata": {},
   "outputs": [],
   "source": [
    "import tensorflow as tf\n",
    "import pandas as pd\n",
    "import os\n",
    "from tensorflow.keras.layers import Dense, Dropout\n",
    "from tensorflow.keras.models import Model\n",
    "from tensorflow.keras.optimizers import Adam\n",
    "import clip\n",
    "import torch\n",
    "from PIL import Image\n",
    "from tqdm import tqdm\n",
    "from torchvision import transforms"
   ]
  },
  {
   "cell_type": "code",
   "execution_count": 3,
   "metadata": {},
   "outputs": [],
   "source": [
    "# 检查设备\n",
    "device = \"cuda\" if torch.cuda.is_available() else \"cpu\"\n",
    "\n",
    "# 加载 CLIP 模型\n",
    "clip_model, preprocess = clip.load(\"ViT-B/32\", device=device)"
   ]
  },
  {
   "cell_type": "code",
   "execution_count": 4,
   "metadata": {},
   "outputs": [],
   "source": [
    "# 数据路径\n",
    "train_csv_path = 'PV train.csv'\n",
    "train_img_dir = 'plantvillage/'\n",
    "test_csv_path = 'PV test seen.csv'\n",
    "test_img_dir = 'plantvillage/'\n",
    "\n",
    "# 加载数据\n",
    "train_df = pd.read_csv(train_csv_path, delimiter=',', header=None, names=['image', 'ignore', 'label'])\n",
    "test_df = pd.read_csv(test_csv_path, delimiter=',', header=None, names=['image', 'ignore', 'label'])\n",
    "\n",
    "train_df = train_df[['image', 'label']]\n",
    "test_df = test_df[['image', 'label']]\n",
    "\n",
    "train_df['image'] = train_df['image'].apply(lambda x: os.path.join(train_img_dir, x))\n",
    "test_df['image'] = test_df['image'].apply(lambda x: os.path.join(test_img_dir, x))\n",
    "\n",
    "train_df['label'] = train_df['label'].astype(int)\n",
    "test_df['label'] = test_df['label'].astype(int)\n",
    "\n",
    "\n",
    "plant_disease_descriptions = {\n",
    "    0: \"Healthy Leaf\",\n",
    "    1: \"Apple Leaf with Scab\",\n",
    "    2: \"Black Rot\",\n",
    "    3: \"Cedar apple rust\",\n",
    "    4: \"Powdery Mildew\",\n",
    "    5: \"Cercospora leaf spot (Gray leaf spot)\",\n",
    "    6: \"Common rust\",\n",
    "    7: \"Northern Leaf Blight\",\n",
    "    8: \"Esca (Black Measles)\",\n",
    "    9: \"Leaf blight (Isariopsis Leaf Spot)\",\n",
    "    10: \"Huanglongbing (Citrus Greening)\",\n",
    "    11: \"Bacterial spot\",\n",
    "    12: \"Early blight\",\n",
    "    13: \"Late blight\",\n",
    "    14: \"Leaf scorch\",\n",
    "    15: \"Leaf Mold\",\n",
    "    16: \"Septoria leaf spot\",\n",
    "    17: \"Spider mites (Two-spotted spider mite)\",\n",
    "    18: \"Target Spot\",\n",
    "    19: \"Tomato Leaf with Yellow Leaf Curl Virus\",\n",
    "    20: \"Tomato Leaf with Mosaic Virus\",\n",
    "}"
   ]
  },
  {
   "cell_type": "code",
   "execution_count": 5,
   "metadata": {},
   "outputs": [],
   "source": [
    "# 合并所有文字描述\n",
    "text_descriptions = list(plant_disease_descriptions.values())\n",
    "\n",
    "# 提取文本特征\n",
    "text_tokens = clip.tokenize(text_descriptions).to(device)\n",
    "with torch.no_grad():\n",
    "    text_features = clip_model.encode_text(text_tokens)\n",
    "    text_features /= text_features.norm(dim=-1, keepdim=True)  # 归一化文本特征\n",
    "\n",
    "# Data augmentation transformations\n",
    "augmentation_transforms = transforms.Compose([\n",
    "    transforms.RandomHorizontalFlip(p=0.5),\n",
    "    transforms.RandomVerticalFlip(p=0.5),\n",
    "    transforms.RandomRotation(degrees=20),\n",
    "    transforms.ColorJitter(brightness=0.2, contrast=0.2, saturation=0.2, hue=0.1),\n",
    "    transforms.Resize((224, 224)),  # Resize to match CLIP's input size\n",
    "    transforms.ToTensor(),\n",
    "    transforms.Normalize(mean=(0.48145466, 0.4578275, 0.40821073),\n",
    "                         std=(0.26862954, 0.26130258, 0.27577711))  # CLIP normalization\n",
    "])\n",
    "\n",
    "# Preprocess image with optional augmentation\n",
    "def preprocess_image_with_augmentation(image_path, augment=False):\n",
    "    image = Image.open(image_path).convert(\"RGB\")\n",
    "    if augment:\n",
    "        image = augmentation_transforms(image)\n",
    "    else:\n",
    "        image = preprocess(image)  # Use CLIP's default preprocess pipeline\n",
    "    return image.unsqueeze(0).to(device)\n",
    "\n",
    "# Extract CLIP features with augmentation\n",
    "def extract_clip_features_with_augmentation(df, clip_model, augment=False):\n",
    "    features = []\n",
    "    labels = []\n",
    "    for _, row in tqdm(df.iterrows(), total=len(df), desc=\"Extracting CLIP Features\"):\n",
    "        image_path = row['image']\n",
    "        label = row['label']\n",
    "        image = preprocess_image_with_augmentation(image_path, augment=augment)\n",
    "        with torch.no_grad():\n",
    "            feature = clip_model.encode_image(image)\n",
    "            feature /= feature.norm(dim=-1, keepdim=True)  # Normalize image features\n",
    "        features.append(feature.cpu().numpy())\n",
    "        labels.append(label)\n",
    "    return tf.convert_to_tensor(features), tf.convert_to_tensor(labels)"
   ]
  },
  {
   "cell_type": "code",
   "execution_count": 6,
   "metadata": {},
   "outputs": [
    {
     "name": "stderr",
     "output_type": "stream",
     "text": [
      "Extracting CLIP Features: 100%|██████████| 38994/38994 [11:56<00:00, 54.40it/s]\n",
      "Extracting CLIP Features: 100%|██████████| 10279/10279 [02:04<00:00, 82.43it/s]\n"
     ]
    }
   ],
   "source": [
    "# Extract augmented features for training set\n",
    "train_features_augmented, train_labels_augmented = extract_clip_features_with_augmentation(\n",
    "    train_df, clip_model, augment=True\n",
    ")\n",
    "\n",
    "# Extract normal features for test set (no augmentation for test)\n",
    "test_features, test_labels = extract_clip_features_with_augmentation(test_df, clip_model, augment=False)"
   ]
  },
  {
   "cell_type": "code",
   "execution_count": 7,
   "metadata": {},
   "outputs": [
    {
     "name": "stdout",
     "output_type": "stream",
     "text": [
      "Predicted: Tomato Leaf with Yellow Leaf Curl Virus\n"
     ]
    }
   ],
   "source": [
    "# 方案 1: 零样本分类\n",
    "def classify_with_clip(image_path, clip_model, text_features):\n",
    "    image = preprocess_image_with_augmentation(image_path)\n",
    "    with torch.no_grad():\n",
    "        image_features = clip_model.encode_image(image)\n",
    "        image_features /= image_features.norm(dim=-1, keepdim=True)  # 归一化\n",
    "        similarities = (image_features @ text_features.T).cpu().numpy()\n",
    "        best_match_idx = similarities.argmax()\n",
    "    return best_match_idx\n",
    "\n",
    "# 示例: 零样本分类\n",
    "example_image_path = train_df.iloc[0]['image']\n",
    "predicted_label_idx = classify_with_clip(example_image_path, clip_model, text_features)\n",
    "print(f\"Predicted: {text_descriptions[predicted_label_idx]}\")\n",
    "\n",
    "# 方案 2: 联合特征训练分类器\n",
    "# 转换为 TensorFlow 张量\n",
    "train_features_augmented = tf.squeeze(train_features_augmented, axis=1)\n",
    "test_features = tf.squeeze(test_features, axis=1)"
   ]
  },
  {
   "cell_type": "code",
   "execution_count": 52,
   "metadata": {},
   "outputs": [],
   "source": [
    "# 分类器\n",
    "input_shape = train_features_augmented.shape[1:]\n",
    "inputs = tf.keras.Input(shape=input_shape)\n",
    "x = Dense(512, activation='relu')(inputs)\n",
    "x = Dropout(0.5)(x)\n",
    "x = Dense(256, activation='relu')(x)  # Fixed: Updated to chain properly with previous layer\n",
    "x = Dropout(0.3)(x)\n",
    "outputs = Dense(len(set(train_labels_augmented.numpy())), activation='softmax')(x)\n",
    "\n",
    "model = Model(inputs=inputs, outputs=outputs)\n",
    "\n",
    "# 编译和训练\n",
    "model.compile(optimizer=Adam(learning_rate=0.00001),\n",
    "              loss='sparse_categorical_crossentropy',\n",
    "              metrics=['accuracy'])"
   ]
  },
  {
   "cell_type": "code",
   "execution_count": 53,
   "metadata": {},
   "outputs": [
    {
     "name": "stdout",
     "output_type": "stream",
     "text": [
      "Epoch 1/10\n",
      "\u001b[1m1219/1219\u001b[0m \u001b[32m━━━━━━━━━━━━━━━━━━━━\u001b[0m\u001b[37m\u001b[0m \u001b[1m6s\u001b[0m 5ms/step - accuracy: 0.1452 - loss: 2.9689 - val_accuracy: 0.2736 - val_loss: 2.5683\n",
      "Epoch 2/10\n",
      "\u001b[1m1219/1219\u001b[0m \u001b[32m━━━━━━━━━━━━━━━━━━━━\u001b[0m\u001b[37m\u001b[0m \u001b[1m5s\u001b[0m 4ms/step - accuracy: 0.2304 - loss: 2.5841 - val_accuracy: 0.3290 - val_loss: 2.2873\n",
      "Epoch 3/10\n",
      "\u001b[1m1219/1219\u001b[0m \u001b[32m━━━━━━━━━━━━━━━━━━━━\u001b[0m\u001b[37m\u001b[0m \u001b[1m5s\u001b[0m 4ms/step - accuracy: 0.3487 - loss: 2.3280 - val_accuracy: 0.4726 - val_loss: 2.0066\n",
      "Epoch 4/10\n",
      "\u001b[1m1219/1219\u001b[0m \u001b[32m━━━━━━━━━━━━━━━━━━━━\u001b[0m\u001b[37m\u001b[0m \u001b[1m4s\u001b[0m 3ms/step - accuracy: 0.4219 - loss: 2.0765 - val_accuracy: 0.5046 - val_loss: 1.7709\n",
      "Epoch 5/10\n",
      "\u001b[1m1219/1219\u001b[0m \u001b[32m━━━━━━━━━━━━━━━━━━━━\u001b[0m\u001b[37m\u001b[0m \u001b[1m4s\u001b[0m 3ms/step - accuracy: 0.4705 - loss: 1.8702 - val_accuracy: 0.5385 - val_loss: 1.5957\n",
      "Epoch 6/10\n",
      "\u001b[1m1219/1219\u001b[0m \u001b[32m━━━━━━━━━━━━━━━━━━━━\u001b[0m\u001b[37m\u001b[0m \u001b[1m4s\u001b[0m 3ms/step - accuracy: 0.5119 - loss: 1.7187 - val_accuracy: 0.5816 - val_loss: 1.4590\n",
      "Epoch 7/10\n",
      "\u001b[1m1219/1219\u001b[0m \u001b[32m━━━━━━━━━━━━━━━━━━━━\u001b[0m\u001b[37m\u001b[0m \u001b[1m4s\u001b[0m 3ms/step - accuracy: 0.5446 - loss: 1.6002 - val_accuracy: 0.6185 - val_loss: 1.3487\n",
      "Epoch 8/10\n",
      "\u001b[1m1219/1219\u001b[0m \u001b[32m━━━━━━━━━━━━━━━━━━━━\u001b[0m\u001b[37m\u001b[0m \u001b[1m4s\u001b[0m 3ms/step - accuracy: 0.5784 - loss: 1.4867 - val_accuracy: 0.6608 - val_loss: 1.2546\n",
      "Epoch 9/10\n",
      "\u001b[1m1219/1219\u001b[0m \u001b[32m━━━━━━━━━━━━━━━━━━━━\u001b[0m\u001b[37m\u001b[0m \u001b[1m4s\u001b[0m 3ms/step - accuracy: 0.6046 - loss: 1.4005 - val_accuracy: 0.6854 - val_loss: 1.1736\n",
      "Epoch 10/10\n",
      "\u001b[1m1219/1219\u001b[0m \u001b[32m━━━━━━━━━━━━━━━━━━━━\u001b[0m\u001b[37m\u001b[0m \u001b[1m4s\u001b[0m 3ms/step - accuracy: 0.6259 - loss: 1.3197 - val_accuracy: 0.7064 - val_loss: 1.1012\n"
     ]
    }
   ],
   "source": [
    "history = model.fit(train_features_augmented, train_labels_augmented, epochs=10, validation_data=(test_features, test_labels))\n"
   ]
  },
  {
   "cell_type": "code",
   "execution_count": 54,
   "metadata": {},
   "outputs": [
    {
     "name": "stdout",
     "output_type": "stream",
     "text": [
      "\u001b[1m  1/322\u001b[0m \u001b[37m━━━━━━━━━━━━━━━━━━━━\u001b[0m \u001b[1m6s\u001b[0m 22ms/step - accuracy: 1.0000 - loss: 0.0943"
     ]
    },
    {
     "name": "stdout",
     "output_type": "stream",
     "text": [
      "\u001b[1m322/322\u001b[0m \u001b[32m━━━━━━━━━━━━━━━━━━━━\u001b[0m\u001b[37m\u001b[0m \u001b[1m0s\u001b[0m 1ms/step - accuracy: 0.8357 - loss: 0.7228\n",
      "Test Loss: 1.101216435432434, Test Accuracy: 0.7063916921615601\n"
     ]
    }
   ],
   "source": [
    "\n",
    "# 测试\n",
    "test_loss, test_accuracy = model.evaluate(test_features, test_labels)\n",
    "print(f\"Test Loss: {test_loss}, Test Accuracy: {test_accuracy}\")\n"
   ]
  },
  {
   "cell_type": "code",
   "execution_count": 18,
   "metadata": {},
   "outputs": [
    {
     "name": "stdout",
     "output_type": "stream",
     "text": [
      "                                               image  label\n",
      "0  plantvillage/6820b823-5ed9-422d-ba0c-5134cd046...     11\n",
      "1  plantvillage/821fa2f8-b221-472d-a789-f0c42923f...     11\n",
      "2  plantvillage/70985466-254f-479b-86f2-9792be086...     11\n",
      "3  plantvillage/b98b517c-c70a-4299-ba3d-857cd61ec...     11\n",
      "4  plantvillage/41f3e9be-44a8-42b1-9654-8e7127bfc...     11\n"
     ]
    }
   ],
   "source": [
    "# 定义路径\n",
    "unseen_test_csv_path = 'PV test unseen.csv'\n",
    "unseen_test_img_dir = 'plantvillage/'\n",
    "\n",
    "# 加载未见测试集\n",
    "unseen_test_df = pd.read_csv(unseen_test_csv_path, delimiter=',', header=None, names=['image', 'ignore', 'label'])\n",
    "unseen_test_df = unseen_test_df[['image', 'label']]\n",
    "\n",
    "# 添加完整的图像路径\n",
    "unseen_test_df['image'] = unseen_test_df['image'].apply(lambda x: os.path.join(unseen_test_img_dir, x))\n",
    "unseen_test_df['label'] = unseen_test_df['label'].astype(int)\n",
    "\n",
    "print(unseen_test_df.head())\n"
   ]
  },
  {
   "cell_type": "code",
   "execution_count": 38,
   "metadata": {},
   "outputs": [
    {
     "name": "stderr",
     "output_type": "stream",
     "text": [
      "Extracting CLIP Features: 100%|██████████| 216/216 [00:03<00:00, 62.62it/s]\n"
     ]
    }
   ],
   "source": [
    "# 提取未见测试集的 CLIP 特征\n",
    "unseen_test_features, unseen_test_labels = extract_clip_features_with_augmentation(unseen_test_df, clip_model)"
   ]
  },
  {
   "cell_type": "code",
   "execution_count": 39,
   "metadata": {},
   "outputs": [],
   "source": [
    "# 移除多余的维度\n",
    "unseen_test_features = tf.squeeze(unseen_test_features, axis=1)"
   ]
  },
  {
   "cell_type": "code",
   "execution_count": 57,
   "metadata": {},
   "outputs": [
    {
     "name": "stdout",
     "output_type": "stream",
     "text": [
      "\u001b[1m7/7\u001b[0m \u001b[32m━━━━━━━━━━━━━━━━━━━━\u001b[0m\u001b[37m\u001b[0m \u001b[1m0s\u001b[0m 4ms/step - accuracy: 0.6290 - loss: 1.8162 \n",
      "Unseen Test Loss: 1.7884529829025269\n",
      "Unseen Test Accuracy: 0.625\n"
     ]
    }
   ],
   "source": [
    "# 评估模型在未见测试集上的性能\n",
    "unseen_test_loss, unseen_test_accuracy = model.evaluate(unseen_test_features, unseen_test_labels)\n",
    "\n",
    "print(f\"Unseen Test Loss: {unseen_test_loss}\")\n",
    "print(f\"Unseen Test Accuracy: {unseen_test_accuracy}\")"
   ]
  },
  {
   "cell_type": "code",
   "execution_count": 58,
   "metadata": {},
   "outputs": [
    {
     "name": "stderr",
     "output_type": "stream",
     "text": [
      "WARNING:absl:You are saving your model as an HDF5 file via `model.save()` or `keras.saving.save_model(model)`. This file format is considered legacy. We recommend using instead the native Keras format, e.g. `model.save('my_model.keras')` or `keras.saving.save_model(model, 'my_model.keras')`. \n"
     ]
    }
   ],
   "source": [
    "model.save('VisualLanguageClipDisease.h5')"
   ]
  },
  {
   "cell_type": "code",
   "execution_count": 59,
   "metadata": {},
   "outputs": [
    {
     "name": "stdout",
     "output_type": "stream",
     "text": [
      "\u001b[1m7/7\u001b[0m \u001b[32m━━━━━━━━━━━━━━━━━━━━\u001b[0m\u001b[37m\u001b[0m \u001b[1m0s\u001b[0m 9ms/step\n",
      "\u001b[1m7/7\u001b[0m \u001b[32m━━━━━━━━━━━━━━━━━━━━\u001b[0m\u001b[37m\u001b[0m \u001b[1m0s\u001b[0m 0s/step  \n",
      "Top-1 Accuracy: 0.625\n",
      "Top-5 Accuracy: 0.9537037037037037\n"
     ]
    }
   ],
   "source": [
    "import numpy as np\n",
    "\n",
    "def calculate_top_n_accuracy(model, features, labels, n=5):\n",
    "    # 获取模型的预测结果\n",
    "    predictions = model.predict(features)  # 输出为概率分布\n",
    "    \n",
    "    # 取前 N 个最高概率的索引\n",
    "    top_n_predictions = np.argsort(predictions, axis=-1)[:, -n:]  # 倒序取前 N 个\n",
    "\n",
    "    # 计算 Top-N 准确率\n",
    "    correct = 0\n",
    "    for i, label in enumerate(labels):\n",
    "        if label in top_n_predictions[i]:\n",
    "            correct += 1\n",
    "\n",
    "    top_n_accuracy = correct / len(labels)\n",
    "    return top_n_accuracy\n",
    "\n",
    "# 计算 Top-1 和 Top-5 准确率\n",
    "top_1_accuracy = calculate_top_n_accuracy(model, unseen_test_features, unseen_test_labels, n=1)\n",
    "top_5_accuracy = calculate_top_n_accuracy(model, unseen_test_features, unseen_test_labels, n=5)\n",
    "\n",
    "print(f\"Top-1 Accuracy: {top_1_accuracy}\")\n",
    "print(f\"Top-5 Accuracy: {top_5_accuracy}\")\n"
   ]
  },
  {
   "cell_type": "code",
   "execution_count": 60,
   "metadata": {},
   "outputs": [
    {
     "name": "stdout",
     "output_type": "stream",
     "text": [
      "\u001b[1m322/322\u001b[0m \u001b[32m━━━━━━━━━━━━━━━━━━━━\u001b[0m\u001b[37m\u001b[0m \u001b[1m0s\u001b[0m 955us/step - accuracy: 0.8359 - loss: 0.7226\n",
      "Harmonic Mean: 0.6632079953633977\n"
     ]
    }
   ],
   "source": [
    "def calculate_harmonic_mean(seen_accuracy, unseen_accuracy):\n",
    "    if seen_accuracy + unseen_accuracy == 0:\n",
    "        return 0\n",
    "    return 2 * (seen_accuracy * unseen_accuracy) / (seen_accuracy + unseen_accuracy)\n",
    "\n",
    "# 假设 `seen_accuracy` 和 `unseen_accuracy` 是模型在已知和未知类别测试集上的准确率\n",
    "seen_accuracy = model.evaluate(test_features, test_labels)[1]  # 测试集上的准确率\n",
    "unseen_accuracy = unseen_test_accuracy  # 未见测试集上的准确率\n",
    "\n",
    "harmonic_mean = calculate_harmonic_mean(seen_accuracy, unseen_accuracy)\n",
    "print(f\"Harmonic Mean: {harmonic_mean}\")\n"
   ]
  },
  {
   "cell_type": "code",
   "execution_count": 67,
   "metadata": {},
   "outputs": [
    {
     "name": "stdout",
     "output_type": "stream",
     "text": [
      "\u001b[1m7/7\u001b[0m \u001b[32m━━━━━━━━━━━━━━━━━━━━\u001b[0m\u001b[37m\u001b[0m \u001b[1m0s\u001b[0m 3ms/step  \n"
     ]
    },
    {
     "data": {
      "image/png": "[encoded data removed]",
      "text/plain": [
       "<Figure size 640x480 with 2 Axes>"
      ]
     },
     "metadata": {},
     "output_type": "display_data"
    }
   ],
   "source": [
    "import numpy as np\n",
    "import matplotlib.pyplot as plt\n",
    "from sklearn.metrics import confusion_matrix, ConfusionMatrixDisplay\n",
    "\n",
    "# 获取模型预测结果\n",
    "predicted_probs = model.predict(unseen_test_features)  # 预测类别概率\n",
    "predicted_labels = np.argmax(predicted_probs, axis=1)  # 获取每个样本的预测类别\n",
    "true_labels = unseen_test_labels.numpy()  # 将 Tensor 转换为 NumPy\n",
    "\n",
    "# 确保混淆矩阵的维度一致\n",
    "num_classes = len(text_descriptions)  # 21 classes\n",
    "cm = confusion_matrix(true_labels, predicted_labels, labels=np.arange(num_classes))\n",
    "\n",
    "# 绘制混淆矩阵\n",
    "disp = ConfusionMatrixDisplay(confusion_matrix=cm, display_labels=np.arange(num_classes))\n",
    "disp.plot(cmap=plt.cm.Blues, xticks_rotation='vertical')\n",
    "\n",
    "# 显示\n",
    "plt.title(\"Confusion Matrix (Numeric Labels)\")\n",
    "plt.show()\n"
   ]
  },
  {
   "cell_type": "code",
   "execution_count": 6,
   "metadata": {},
   "outputs": [
    {
     "name": "stderr",
     "output_type": "stream",
     "text": [
      "WARNING:absl:Compiled the loaded model, but the compiled metrics have yet to be built. `model.compile_metrics` will be empty until you train or evaluate the model.\n"
     ]
    },
    {
     "name": "stdout",
     "output_type": "stream",
     "text": [
      "\u001b[1m1/1\u001b[0m \u001b[32m━━━━━━━━━━━━━━━━━━━━\u001b[0m\u001b[37m\u001b[0m \u001b[1m0s\u001b[0m 67ms/step\n",
      "Predicted Class Index: 0\n",
      "Predicted Label: Healthy Leaf\n"
     ]
    }
   ],
   "source": [
    "from tensorflow.keras.models import load_model\n",
    "\n",
    "# Load the trained classification model\n",
    "model_path = \"VisualLanguageClipDisease.h5\"  # Path to your saved model\n",
    "classification_model = load_model(model_path)\n",
    "\n",
    "# Test a single image\n",
    "def test_single_image(image_path, clip_model, classification_model):\n",
    "    # Preprocess the image and extract CLIP features\n",
    "    image = preprocess_image_with_augmentation(image_path)\n",
    "    with torch.no_grad():\n",
    "        image_features = clip_model.encode_image(image)\n",
    "        image_features /= image_features.norm(dim=-1, keepdim=True)  # Normalize\n",
    "\n",
    "    # Convert to TensorFlow tensor (remove extra dimension)\n",
    "    image_features_tf = tf.convert_to_tensor(image_features.cpu().numpy())\n",
    "    image_features_tf = tf.squeeze(image_features_tf, axis=0)\n",
    "\n",
    "    # Predict using the loaded classification model\n",
    "    predictions = classification_model.predict(tf.expand_dims(image_features_tf, axis=0))\n",
    "    predicted_class = tf.argmax(predictions[0]).numpy()\n",
    "\n",
    "    # Output the results\n",
    "    predicted_label = plant_disease_descriptions[predicted_class]\n",
    "    print(f\"Predicted Class Index: {predicted_class}\")\n",
    "    print(f\"Predicted Label: {predicted_label}\")\n",
    "    return predicted_class, predicted_label\n",
    "\n",
    "# Example: Test a single image\n",
    "test_image_path = \"plantvillage/4b22a1e7-745b-4c78-a49e-14ca8cfba26a___RS_HL-8111.JPG\"  # Replace with the path to your test image\n",
    "predicted_class, predicted_label = test_single_image(\n",
    "    test_image_path, clip_model, classification_model\n",
    ")\n"
   ]
  }
 ],
 "metadata": {
  "kernelspec": {
   "display_name": "Python 3",
   "language": "python",
   "name": "python3"
  },
  "language_info": {
   "codemirror_mode": {
    "name": "ipython",
    "version": 3
   },
   "file_extension": ".py",
   "mimetype": "text/x-python",
   "name": "python",
   "nbconvert_exporter": "python",
   "pygments_lexer": "ipython3",
   "version": "3.11.9"
  }
 },
 "nbformat": 4,
 "nbformat_minor": 2
}
